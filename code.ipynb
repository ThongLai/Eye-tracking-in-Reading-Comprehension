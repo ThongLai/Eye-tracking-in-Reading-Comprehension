{
 "cells": [
  {
   "cell_type": "code",
   "execution_count": 294,
   "id": "11fc405e-df29-4a15-a63f-db35fb5248f9",
   "metadata": {},
   "outputs": [],
   "source": [
    "import numpy as np\n",
    "import pandas as pd\n",
    "import glob\n",
    "import os\n",
    "import warnings\n",
    "import matplotlib.pyplot as plt\n",
    "import scipy.stats as stats\n",
    "\n",
    "warnings.filterwarnings('ignore')"
   ]
  },
  {
   "cell_type": "code",
   "execution_count": 295,
   "id": "0e75c04d-4ed5-4f51-922c-c1ce8b289b17",
   "metadata": {},
   "outputs": [
    {
     "data": {
      "text/html": [
       "<div>\n",
       "<style scoped>\n",
       "    .dataframe tbody tr th:only-of-type {\n",
       "        vertical-align: middle;\n",
       "    }\n",
       "\n",
       "    .dataframe tbody tr th {\n",
       "        vertical-align: top;\n",
       "    }\n",
       "\n",
       "    .dataframe thead th {\n",
       "        text-align: right;\n",
       "    }\n",
       "</style>\n",
       "<table border=\"1\" class=\"dataframe\">\n",
       "  <thead>\n",
       "    <tr style=\"text-align: right;\">\n",
       "      <th></th>\n",
       "      <th>Line</th>\n",
       "      <th>Y_Start</th>\n",
       "      <th>Y_End</th>\n",
       "    </tr>\n",
       "  </thead>\n",
       "  <tbody>\n",
       "    <tr>\n",
       "      <th>0</th>\n",
       "      <td>1</td>\n",
       "      <td>20</td>\n",
       "      <td>68</td>\n",
       "    </tr>\n",
       "    <tr>\n",
       "      <th>1</th>\n",
       "      <td>2</td>\n",
       "      <td>68</td>\n",
       "      <td>116</td>\n",
       "    </tr>\n",
       "    <tr>\n",
       "      <th>2</th>\n",
       "      <td>3</td>\n",
       "      <td>116</td>\n",
       "      <td>164</td>\n",
       "    </tr>\n",
       "    <tr>\n",
       "      <th>3</th>\n",
       "      <td>4</td>\n",
       "      <td>164</td>\n",
       "      <td>212</td>\n",
       "    </tr>\n",
       "    <tr>\n",
       "      <th>4</th>\n",
       "      <td>5</td>\n",
       "      <td>212</td>\n",
       "      <td>260</td>\n",
       "    </tr>\n",
       "    <tr>\n",
       "      <th>5</th>\n",
       "      <td>6</td>\n",
       "      <td>260</td>\n",
       "      <td>308</td>\n",
       "    </tr>\n",
       "    <tr>\n",
       "      <th>6</th>\n",
       "      <td>7</td>\n",
       "      <td>308</td>\n",
       "      <td>356</td>\n",
       "    </tr>\n",
       "    <tr>\n",
       "      <th>7</th>\n",
       "      <td>8</td>\n",
       "      <td>356</td>\n",
       "      <td>404</td>\n",
       "    </tr>\n",
       "    <tr>\n",
       "      <th>8</th>\n",
       "      <td>9</td>\n",
       "      <td>404</td>\n",
       "      <td>452</td>\n",
       "    </tr>\n",
       "    <tr>\n",
       "      <th>9</th>\n",
       "      <td>10</td>\n",
       "      <td>452</td>\n",
       "      <td>500</td>\n",
       "    </tr>\n",
       "    <tr>\n",
       "      <th>10</th>\n",
       "      <td>11</td>\n",
       "      <td>500</td>\n",
       "      <td>548</td>\n",
       "    </tr>\n",
       "    <tr>\n",
       "      <th>11</th>\n",
       "      <td>12</td>\n",
       "      <td>548</td>\n",
       "      <td>596</td>\n",
       "    </tr>\n",
       "    <tr>\n",
       "      <th>12</th>\n",
       "      <td>13</td>\n",
       "      <td>596</td>\n",
       "      <td>644</td>\n",
       "    </tr>\n",
       "    <tr>\n",
       "      <th>13</th>\n",
       "      <td>14</td>\n",
       "      <td>644</td>\n",
       "      <td>692</td>\n",
       "    </tr>\n",
       "    <tr>\n",
       "      <th>14</th>\n",
       "      <td>15</td>\n",
       "      <td>692</td>\n",
       "      <td>740</td>\n",
       "    </tr>\n",
       "  </tbody>\n",
       "</table>\n",
       "</div>"
      ],
      "text/plain": [
       "    Line  Y_Start  Y_End\n",
       "0      1       20     68\n",
       "1      2       68    116\n",
       "2      3      116    164\n",
       "3      4      164    212\n",
       "4      5      212    260\n",
       "5      6      260    308\n",
       "6      7      308    356\n",
       "7      8      356    404\n",
       "8      9      404    452\n",
       "9     10      452    500\n",
       "10    11      500    548\n",
       "11    12      548    596\n",
       "12    13      596    644\n",
       "13    14      644    692\n",
       "14    15      692    740"
      ]
     },
     "execution_count": 295,
     "metadata": {},
     "output_type": "execute_result"
    }
   ],
   "source": [
    "Lines = pd.read_csv(\"Lines.csv\")\n",
    "Lines"
   ]
  },
  {
   "cell_type": "code",
   "execution_count": 296,
   "id": "534cf7eb-d4d2-4a25-92cf-98d07b05c6d9",
   "metadata": {
    "scrolled": true
   },
   "outputs": [
    {
     "data": {
      "text/html": [
       "<div>\n",
       "<style scoped>\n",
       "    .dataframe tbody tr th:only-of-type {\n",
       "        vertical-align: middle;\n",
       "    }\n",
       "\n",
       "    .dataframe tbody tr th {\n",
       "        vertical-align: top;\n",
       "    }\n",
       "\n",
       "    .dataframe thead th {\n",
       "        text-align: right;\n",
       "    }\n",
       "</style>\n",
       "<table border=\"1\" class=\"dataframe\">\n",
       "  <thead>\n",
       "    <tr style=\"text-align: right;\">\n",
       "      <th></th>\n",
       "      <th>RECORDING_SESSION_LABEL</th>\n",
       "      <th>TRIAL_INDEX</th>\n",
       "      <th>EYE_USED</th>\n",
       "      <th>CURRENT_FIX_INDEX</th>\n",
       "      <th>CURRENT_FIX_START</th>\n",
       "      <th>CURRENT_FIX_END</th>\n",
       "      <th>CURRENT_FIX_DURATION</th>\n",
       "      <th>CURRENT_FIX_X</th>\n",
       "      <th>CURRENT_FIX_X_RESOLUTION</th>\n",
       "      <th>CURRENT_FIX_Y</th>\n",
       "      <th>...</th>\n",
       "      <th>PREVIOUS_FIX_START</th>\n",
       "      <th>PREVIOUS_FIX_END</th>\n",
       "      <th>PREVIOUS_FIX_DURATION</th>\n",
       "      <th>PREVIOUS_FIX_X</th>\n",
       "      <th>PREVIOUS_FIX_X_RESOLUTION</th>\n",
       "      <th>PREVIOUS_FIX_Y</th>\n",
       "      <th>PREVIOUS_FIX_Y_RESOLUTION</th>\n",
       "      <th>File</th>\n",
       "      <th>Time_Spent</th>\n",
       "      <th>Text</th>\n",
       "    </tr>\n",
       "  </thead>\n",
       "  <tbody>\n",
       "    <tr>\n",
       "      <th>0</th>\n",
       "      <td>1</td>\n",
       "      <td>1</td>\n",
       "      <td>RIGHT</td>\n",
       "      <td>1</td>\n",
       "      <td>7</td>\n",
       "      <td>112</td>\n",
       "      <td>106</td>\n",
       "      <td>737.9</td>\n",
       "      <td>31.7</td>\n",
       "      <td>214.0</td>\n",
       "      <td>...</td>\n",
       "      <td>.</td>\n",
       "      <td>7</td>\n",
       "      <td>106.0</td>\n",
       "      <td>737.9</td>\n",
       "      <td>.</td>\n",
       "      <td>.</td>\n",
       "      <td>.</td>\n",
       "      <td>CBT_1</td>\n",
       "      <td>178</td>\n",
       "      <td>1</td>\n",
       "    </tr>\n",
       "    <tr>\n",
       "      <th>1</th>\n",
       "      <td>1</td>\n",
       "      <td>1</td>\n",
       "      <td>RIGHT</td>\n",
       "      <td>2</td>\n",
       "      <td>185</td>\n",
       "      <td>401</td>\n",
       "      <td>217</td>\n",
       "      <td>414.1</td>\n",
       "      <td>32.0</td>\n",
       "      <td>634.5</td>\n",
       "      <td>...</td>\n",
       "      <td>7</td>\n",
       "      <td>112</td>\n",
       "      <td>106.0</td>\n",
       "      <td>737.9</td>\n",
       "      <td>31.7</td>\n",
       "      <td>214</td>\n",
       "      <td>41.7</td>\n",
       "      <td>CBT_1</td>\n",
       "      <td>281</td>\n",
       "      <td>1</td>\n",
       "    </tr>\n",
       "    <tr>\n",
       "      <th>2</th>\n",
       "      <td>1</td>\n",
       "      <td>1</td>\n",
       "      <td>RIGHT</td>\n",
       "      <td>3</td>\n",
       "      <td>466</td>\n",
       "      <td>884</td>\n",
       "      <td>419</td>\n",
       "      <td>352.8</td>\n",
       "      <td>31.5</td>\n",
       "      <td>215.4</td>\n",
       "      <td>...</td>\n",
       "      <td>185</td>\n",
       "      <td>401</td>\n",
       "      <td>217.0</td>\n",
       "      <td>414.1</td>\n",
       "      <td>32</td>\n",
       "      <td>634.5</td>\n",
       "      <td>43.2</td>\n",
       "      <td>CBT_1</td>\n",
       "      <td>448</td>\n",
       "      <td>1</td>\n",
       "    </tr>\n",
       "    <tr>\n",
       "      <th>3</th>\n",
       "      <td>1</td>\n",
       "      <td>1</td>\n",
       "      <td>RIGHT</td>\n",
       "      <td>4</td>\n",
       "      <td>914</td>\n",
       "      <td>1176</td>\n",
       "      <td>263</td>\n",
       "      <td>413.8</td>\n",
       "      <td>31.3</td>\n",
       "      <td>203.6</td>\n",
       "      <td>...</td>\n",
       "      <td>466</td>\n",
       "      <td>884</td>\n",
       "      <td>419.0</td>\n",
       "      <td>352.8</td>\n",
       "      <td>31.5</td>\n",
       "      <td>215.4</td>\n",
       "      <td>41.6</td>\n",
       "      <td>CBT_1</td>\n",
       "      <td>283</td>\n",
       "      <td>1</td>\n",
       "    </tr>\n",
       "    <tr>\n",
       "      <th>4</th>\n",
       "      <td>1</td>\n",
       "      <td>1</td>\n",
       "      <td>RIGHT</td>\n",
       "      <td>5</td>\n",
       "      <td>1197</td>\n",
       "      <td>1362</td>\n",
       "      <td>166</td>\n",
       "      <td>478.1</td>\n",
       "      <td>31.3</td>\n",
       "      <td>209.9</td>\n",
       "      <td>...</td>\n",
       "      <td>914</td>\n",
       "      <td>1176</td>\n",
       "      <td>263.0</td>\n",
       "      <td>413.8</td>\n",
       "      <td>31.3</td>\n",
       "      <td>203.6</td>\n",
       "      <td>41.5</td>\n",
       "      <td>CBT_1</td>\n",
       "      <td>186</td>\n",
       "      <td>1</td>\n",
       "    </tr>\n",
       "  </tbody>\n",
       "</table>\n",
       "<p>5 rows × 32 columns</p>\n",
       "</div>"
      ],
      "text/plain": [
       "   RECORDING_SESSION_LABEL  TRIAL_INDEX EYE_USED  CURRENT_FIX_INDEX  \\\n",
       "0                        1            1    RIGHT                  1   \n",
       "1                        1            1    RIGHT                  2   \n",
       "2                        1            1    RIGHT                  3   \n",
       "3                        1            1    RIGHT                  4   \n",
       "4                        1            1    RIGHT                  5   \n",
       "\n",
       "   CURRENT_FIX_START  CURRENT_FIX_END  CURRENT_FIX_DURATION  CURRENT_FIX_X  \\\n",
       "0                  7              112                   106          737.9   \n",
       "1                185              401                   217          414.1   \n",
       "2                466              884                   419          352.8   \n",
       "3                914             1176                   263          413.8   \n",
       "4               1197             1362                   166          478.1   \n",
       "\n",
       "   CURRENT_FIX_X_RESOLUTION  CURRENT_FIX_Y  ...  PREVIOUS_FIX_START  \\\n",
       "0                      31.7          214.0  ...                   .   \n",
       "1                      32.0          634.5  ...                   7   \n",
       "2                      31.5          215.4  ...                 185   \n",
       "3                      31.3          203.6  ...                 466   \n",
       "4                      31.3          209.9  ...                 914   \n",
       "\n",
       "  PREVIOUS_FIX_END PREVIOUS_FIX_DURATION  PREVIOUS_FIX_X  \\\n",
       "0                7                 106.0           737.9   \n",
       "1              112                 106.0           737.9   \n",
       "2              401                 217.0           414.1   \n",
       "3              884                 419.0           352.8   \n",
       "4             1176                 263.0           413.8   \n",
       "\n",
       "  PREVIOUS_FIX_X_RESOLUTION PREVIOUS_FIX_Y PREVIOUS_FIX_Y_RESOLUTION   File  \\\n",
       "0                         .              .                         .  CBT_1   \n",
       "1                      31.7            214                      41.7  CBT_1   \n",
       "2                        32          634.5                      43.2  CBT_1   \n",
       "3                      31.5          215.4                      41.6  CBT_1   \n",
       "4                      31.3          203.6                      41.5  CBT_1   \n",
       "\n",
       "  Time_Spent Text  \n",
       "0        178    1  \n",
       "1        281    1  \n",
       "2        448    1  \n",
       "3        283    1  \n",
       "4        186    1  \n",
       "\n",
       "[5 rows x 32 columns]"
      ]
     },
     "execution_count": 296,
     "metadata": {},
     "output_type": "execute_result"
    }
   ],
   "source": [
    "all_files = glob.glob('Data/*.csv')\n",
    "\n",
    "li = []\n",
    "\n",
    "for filename in all_files:\n",
    "    df = pd.read_csv(filename, index_col=None, header=0)\n",
    "    df[\"File\"] = filename[5:-4]\n",
    "    li.append(df)\n",
    "\n",
    "# Preprocess\n",
    "data_raw = pd.concat(li, axis=0, ignore_index=True)\n",
    "data_raw[\"PREVIOUS_FIX_END\"][data_raw[\"PREVIOUS_FIX_END\"] == '.'] = data_raw[\"CURRENT_FIX_START\"]\n",
    "data_raw[\"PREVIOUS_FIX_END\"] = data_raw[\"PREVIOUS_FIX_END\"].astype(int)\n",
    "data_raw[\"PREVIOUS_FIX_X\"][data_raw[\"PREVIOUS_FIX_X\"] == '.'] = data_raw[\"CURRENT_FIX_X\"]\n",
    "data_raw[\"PREVIOUS_FIX_X\"] = data_raw[\"PREVIOUS_FIX_X\"].astype(float)\n",
    "data_raw[\"PREVIOUS_FIX_DURATION\"][data_raw[\"PREVIOUS_FIX_DURATION\"] == '.'] = data_raw[\"CURRENT_FIX_DURATION\"]\n",
    "data_raw[\"PREVIOUS_FIX_DURATION\"] = data_raw[\"PREVIOUS_FIX_DURATION\"].astype(float)\n",
    "data_raw[\"NEXT_FIX_START\"][data_raw[\"NEXT_FIX_START\"] == '.'] = data_raw[\"CURRENT_FIX_END\"]\n",
    "data_raw[\"NEXT_FIX_START\"] = data_raw[\"NEXT_FIX_START\"].astype(int)\n",
    "data_raw.loc[:, 'Time_Spent'] = data_raw.NEXT_FIX_START - data_raw.CURRENT_FIX_START\n",
    "data_raw.loc[data_raw.TRIAL_INDEX % 2 != 0, 'Text'] = 1\n",
    "data_raw.loc[data_raw.TRIAL_INDEX % 2 == 0, 'Text'] = 2\n",
    "data_raw['Text'] = data_raw['Text'].astype(int)\n",
    "\n",
    "data_raw.head()"
   ]
  },
  {
   "cell_type": "code",
   "execution_count": 297,
   "id": "294f63c1",
   "metadata": {},
   "outputs": [
    {
     "data": {
      "text/html": [
       "<div>\n",
       "<style scoped>\n",
       "    .dataframe tbody tr th:only-of-type {\n",
       "        vertical-align: middle;\n",
       "    }\n",
       "\n",
       "    .dataframe tbody tr th {\n",
       "        vertical-align: top;\n",
       "    }\n",
       "\n",
       "    .dataframe thead th {\n",
       "        text-align: right;\n",
       "    }\n",
       "</style>\n",
       "<table border=\"1\" class=\"dataframe\">\n",
       "  <thead>\n",
       "    <tr style=\"text-align: right;\">\n",
       "      <th></th>\n",
       "      <th>RECORDING_SESSION_LABEL</th>\n",
       "      <th>TRIAL_INDEX</th>\n",
       "      <th>EYE_USED</th>\n",
       "      <th>CURRENT_FIX_INDEX</th>\n",
       "      <th>CURRENT_FIX_START</th>\n",
       "      <th>CURRENT_FIX_END</th>\n",
       "      <th>CURRENT_FIX_DURATION</th>\n",
       "      <th>CURRENT_FIX_X</th>\n",
       "      <th>CURRENT_FIX_X_RESOLUTION</th>\n",
       "      <th>CURRENT_FIX_Y</th>\n",
       "      <th>...</th>\n",
       "      <th>PREVIOUS_FIX_END</th>\n",
       "      <th>PREVIOUS_FIX_DURATION</th>\n",
       "      <th>PREVIOUS_FIX_X</th>\n",
       "      <th>PREVIOUS_FIX_X_RESOLUTION</th>\n",
       "      <th>PREVIOUS_FIX_Y</th>\n",
       "      <th>PREVIOUS_FIX_Y_RESOLUTION</th>\n",
       "      <th>File</th>\n",
       "      <th>Time_Spent</th>\n",
       "      <th>Text</th>\n",
       "      <th>Line</th>\n",
       "    </tr>\n",
       "  </thead>\n",
       "  <tbody>\n",
       "    <tr>\n",
       "      <th>0</th>\n",
       "      <td>1</td>\n",
       "      <td>1</td>\n",
       "      <td>RIGHT</td>\n",
       "      <td>1</td>\n",
       "      <td>7</td>\n",
       "      <td>112</td>\n",
       "      <td>106</td>\n",
       "      <td>737.9</td>\n",
       "      <td>31.70</td>\n",
       "      <td>214.0</td>\n",
       "      <td>...</td>\n",
       "      <td>7</td>\n",
       "      <td>106.0</td>\n",
       "      <td>737.9</td>\n",
       "      <td>.</td>\n",
       "      <td>.</td>\n",
       "      <td>.</td>\n",
       "      <td>CBT_1</td>\n",
       "      <td>178</td>\n",
       "      <td>1</td>\n",
       "      <td>5.0</td>\n",
       "    </tr>\n",
       "    <tr>\n",
       "      <th>1</th>\n",
       "      <td>1</td>\n",
       "      <td>1</td>\n",
       "      <td>RIGHT</td>\n",
       "      <td>2</td>\n",
       "      <td>185</td>\n",
       "      <td>401</td>\n",
       "      <td>217</td>\n",
       "      <td>414.1</td>\n",
       "      <td>32.00</td>\n",
       "      <td>634.5</td>\n",
       "      <td>...</td>\n",
       "      <td>112</td>\n",
       "      <td>106.0</td>\n",
       "      <td>737.9</td>\n",
       "      <td>31.7</td>\n",
       "      <td>214</td>\n",
       "      <td>41.7</td>\n",
       "      <td>CBT_1</td>\n",
       "      <td>281</td>\n",
       "      <td>1</td>\n",
       "      <td>13.0</td>\n",
       "    </tr>\n",
       "    <tr>\n",
       "      <th>2</th>\n",
       "      <td>1</td>\n",
       "      <td>1</td>\n",
       "      <td>RIGHT</td>\n",
       "      <td>3</td>\n",
       "      <td>466</td>\n",
       "      <td>884</td>\n",
       "      <td>419</td>\n",
       "      <td>352.8</td>\n",
       "      <td>31.50</td>\n",
       "      <td>215.4</td>\n",
       "      <td>...</td>\n",
       "      <td>401</td>\n",
       "      <td>217.0</td>\n",
       "      <td>414.1</td>\n",
       "      <td>32</td>\n",
       "      <td>634.5</td>\n",
       "      <td>43.2</td>\n",
       "      <td>CBT_1</td>\n",
       "      <td>448</td>\n",
       "      <td>1</td>\n",
       "      <td>5.0</td>\n",
       "    </tr>\n",
       "    <tr>\n",
       "      <th>3</th>\n",
       "      <td>1</td>\n",
       "      <td>1</td>\n",
       "      <td>RIGHT</td>\n",
       "      <td>4</td>\n",
       "      <td>914</td>\n",
       "      <td>1176</td>\n",
       "      <td>263</td>\n",
       "      <td>413.8</td>\n",
       "      <td>31.30</td>\n",
       "      <td>203.6</td>\n",
       "      <td>...</td>\n",
       "      <td>884</td>\n",
       "      <td>419.0</td>\n",
       "      <td>352.8</td>\n",
       "      <td>31.5</td>\n",
       "      <td>215.4</td>\n",
       "      <td>41.6</td>\n",
       "      <td>CBT_1</td>\n",
       "      <td>283</td>\n",
       "      <td>1</td>\n",
       "      <td>4.0</td>\n",
       "    </tr>\n",
       "    <tr>\n",
       "      <th>4</th>\n",
       "      <td>1</td>\n",
       "      <td>1</td>\n",
       "      <td>RIGHT</td>\n",
       "      <td>5</td>\n",
       "      <td>1197</td>\n",
       "      <td>1362</td>\n",
       "      <td>166</td>\n",
       "      <td>478.1</td>\n",
       "      <td>31.30</td>\n",
       "      <td>209.9</td>\n",
       "      <td>...</td>\n",
       "      <td>1176</td>\n",
       "      <td>263.0</td>\n",
       "      <td>413.8</td>\n",
       "      <td>31.3</td>\n",
       "      <td>203.6</td>\n",
       "      <td>41.5</td>\n",
       "      <td>CBT_1</td>\n",
       "      <td>186</td>\n",
       "      <td>1</td>\n",
       "      <td>4.0</td>\n",
       "    </tr>\n",
       "    <tr>\n",
       "      <th>...</th>\n",
       "      <td>...</td>\n",
       "      <td>...</td>\n",
       "      <td>...</td>\n",
       "      <td>...</td>\n",
       "      <td>...</td>\n",
       "      <td>...</td>\n",
       "      <td>...</td>\n",
       "      <td>...</td>\n",
       "      <td>...</td>\n",
       "      <td>...</td>\n",
       "      <td>...</td>\n",
       "      <td>...</td>\n",
       "      <td>...</td>\n",
       "      <td>...</td>\n",
       "      <td>...</td>\n",
       "      <td>...</td>\n",
       "      <td>...</td>\n",
       "      <td>...</td>\n",
       "      <td>...</td>\n",
       "      <td>...</td>\n",
       "      <td>...</td>\n",
       "    </tr>\n",
       "    <tr>\n",
       "      <th>100121</th>\n",
       "      <td>8</td>\n",
       "      <td>3</td>\n",
       "      <td>LEFT</td>\n",
       "      <td>103</td>\n",
       "      <td>27530</td>\n",
       "      <td>27762</td>\n",
       "      <td>233</td>\n",
       "      <td>758.1</td>\n",
       "      <td>32.55</td>\n",
       "      <td>659.8</td>\n",
       "      <td>...</td>\n",
       "      <td>27474</td>\n",
       "      <td>161.0</td>\n",
       "      <td>306.0</td>\n",
       "      <td>32.4</td>\n",
       "      <td>669.4</td>\n",
       "      <td>43.7</td>\n",
       "      <td>LSW_8</td>\n",
       "      <td>273</td>\n",
       "      <td>1</td>\n",
       "      <td>14.0</td>\n",
       "    </tr>\n",
       "    <tr>\n",
       "      <th>100122</th>\n",
       "      <td>8</td>\n",
       "      <td>3</td>\n",
       "      <td>LEFT</td>\n",
       "      <td>104</td>\n",
       "      <td>27803</td>\n",
       "      <td>28114</td>\n",
       "      <td>312</td>\n",
       "      <td>936.0</td>\n",
       "      <td>33.70</td>\n",
       "      <td>658.7</td>\n",
       "      <td>...</td>\n",
       "      <td>27762</td>\n",
       "      <td>233.0</td>\n",
       "      <td>758.1</td>\n",
       "      <td>32.55</td>\n",
       "      <td>659.8</td>\n",
       "      <td>43.7</td>\n",
       "      <td>LSW_8</td>\n",
       "      <td>371</td>\n",
       "      <td>1</td>\n",
       "      <td>14.0</td>\n",
       "    </tr>\n",
       "    <tr>\n",
       "      <th>100123</th>\n",
       "      <td>8</td>\n",
       "      <td>3</td>\n",
       "      <td>LEFT</td>\n",
       "      <td>105</td>\n",
       "      <td>28174</td>\n",
       "      <td>28492</td>\n",
       "      <td>319</td>\n",
       "      <td>438.4</td>\n",
       "      <td>32.15</td>\n",
       "      <td>703.3</td>\n",
       "      <td>...</td>\n",
       "      <td>28114</td>\n",
       "      <td>312.0</td>\n",
       "      <td>936.0</td>\n",
       "      <td>33.7</td>\n",
       "      <td>658.7</td>\n",
       "      <td>44.45</td>\n",
       "      <td>LSW_8</td>\n",
       "      <td>357</td>\n",
       "      <td>1</td>\n",
       "      <td>15.0</td>\n",
       "    </tr>\n",
       "    <tr>\n",
       "      <th>100124</th>\n",
       "      <td>8</td>\n",
       "      <td>3</td>\n",
       "      <td>LEFT</td>\n",
       "      <td>106</td>\n",
       "      <td>28531</td>\n",
       "      <td>28736</td>\n",
       "      <td>206</td>\n",
       "      <td>238.3</td>\n",
       "      <td>32.85</td>\n",
       "      <td>721.7</td>\n",
       "      <td>...</td>\n",
       "      <td>28492</td>\n",
       "      <td>319.0</td>\n",
       "      <td>438.4</td>\n",
       "      <td>32.15</td>\n",
       "      <td>703.3</td>\n",
       "      <td>43.75</td>\n",
       "      <td>LSW_8</td>\n",
       "      <td>257</td>\n",
       "      <td>1</td>\n",
       "      <td>15.0</td>\n",
       "    </tr>\n",
       "    <tr>\n",
       "      <th>100125</th>\n",
       "      <td>8</td>\n",
       "      <td>3</td>\n",
       "      <td>LEFT</td>\n",
       "      <td>107</td>\n",
       "      <td>28788</td>\n",
       "      <td>29092</td>\n",
       "      <td>305</td>\n",
       "      <td>68.7</td>\n",
       "      <td>33.95</td>\n",
       "      <td>724.3</td>\n",
       "      <td>...</td>\n",
       "      <td>28736</td>\n",
       "      <td>206.0</td>\n",
       "      <td>238.3</td>\n",
       "      <td>32.85</td>\n",
       "      <td>721.7</td>\n",
       "      <td>44.3</td>\n",
       "      <td>LSW_8</td>\n",
       "      <td>304</td>\n",
       "      <td>1</td>\n",
       "      <td>15.0</td>\n",
       "    </tr>\n",
       "  </tbody>\n",
       "</table>\n",
       "<p>100126 rows × 33 columns</p>\n",
       "</div>"
      ],
      "text/plain": [
       "        RECORDING_SESSION_LABEL  TRIAL_INDEX EYE_USED  CURRENT_FIX_INDEX  \\\n",
       "0                             1            1    RIGHT                  1   \n",
       "1                             1            1    RIGHT                  2   \n",
       "2                             1            1    RIGHT                  3   \n",
       "3                             1            1    RIGHT                  4   \n",
       "4                             1            1    RIGHT                  5   \n",
       "...                         ...          ...      ...                ...   \n",
       "100121                        8            3     LEFT                103   \n",
       "100122                        8            3     LEFT                104   \n",
       "100123                        8            3     LEFT                105   \n",
       "100124                        8            3     LEFT                106   \n",
       "100125                        8            3     LEFT                107   \n",
       "\n",
       "        CURRENT_FIX_START  CURRENT_FIX_END  CURRENT_FIX_DURATION  \\\n",
       "0                       7              112                   106   \n",
       "1                     185              401                   217   \n",
       "2                     466              884                   419   \n",
       "3                     914             1176                   263   \n",
       "4                    1197             1362                   166   \n",
       "...                   ...              ...                   ...   \n",
       "100121              27530            27762                   233   \n",
       "100122              27803            28114                   312   \n",
       "100123              28174            28492                   319   \n",
       "100124              28531            28736                   206   \n",
       "100125              28788            29092                   305   \n",
       "\n",
       "        CURRENT_FIX_X  CURRENT_FIX_X_RESOLUTION  CURRENT_FIX_Y  ...  \\\n",
       "0               737.9                     31.70          214.0  ...   \n",
       "1               414.1                     32.00          634.5  ...   \n",
       "2               352.8                     31.50          215.4  ...   \n",
       "3               413.8                     31.30          203.6  ...   \n",
       "4               478.1                     31.30          209.9  ...   \n",
       "...               ...                       ...            ...  ...   \n",
       "100121          758.1                     32.55          659.8  ...   \n",
       "100122          936.0                     33.70          658.7  ...   \n",
       "100123          438.4                     32.15          703.3  ...   \n",
       "100124          238.3                     32.85          721.7  ...   \n",
       "100125           68.7                     33.95          724.3  ...   \n",
       "\n",
       "        PREVIOUS_FIX_END PREVIOUS_FIX_DURATION PREVIOUS_FIX_X  \\\n",
       "0                      7                 106.0          737.9   \n",
       "1                    112                 106.0          737.9   \n",
       "2                    401                 217.0          414.1   \n",
       "3                    884                 419.0          352.8   \n",
       "4                   1176                 263.0          413.8   \n",
       "...                  ...                   ...            ...   \n",
       "100121             27474                 161.0          306.0   \n",
       "100122             27762                 233.0          758.1   \n",
       "100123             28114                 312.0          936.0   \n",
       "100124             28492                 319.0          438.4   \n",
       "100125             28736                 206.0          238.3   \n",
       "\n",
       "        PREVIOUS_FIX_X_RESOLUTION PREVIOUS_FIX_Y PREVIOUS_FIX_Y_RESOLUTION  \\\n",
       "0                               .              .                         .   \n",
       "1                            31.7            214                      41.7   \n",
       "2                              32          634.5                      43.2   \n",
       "3                            31.5          215.4                      41.6   \n",
       "4                            31.3          203.6                      41.5   \n",
       "...                           ...            ...                       ...   \n",
       "100121                       32.4          669.4                      43.7   \n",
       "100122                      32.55          659.8                      43.7   \n",
       "100123                       33.7          658.7                     44.45   \n",
       "100124                      32.15          703.3                     43.75   \n",
       "100125                      32.85          721.7                      44.3   \n",
       "\n",
       "         File Time_Spent Text  Line  \n",
       "0       CBT_1        178    1   5.0  \n",
       "1       CBT_1        281    1  13.0  \n",
       "2       CBT_1        448    1   5.0  \n",
       "3       CBT_1        283    1   4.0  \n",
       "4       CBT_1        186    1   4.0  \n",
       "...       ...        ...  ...   ...  \n",
       "100121  LSW_8        273    1  14.0  \n",
       "100122  LSW_8        371    1  14.0  \n",
       "100123  LSW_8        357    1  15.0  \n",
       "100124  LSW_8        257    1  15.0  \n",
       "100125  LSW_8        304    1  15.0  \n",
       "\n",
       "[100126 rows x 33 columns]"
      ]
     },
     "execution_count": 297,
     "metadata": {},
     "output_type": "execute_result"
    }
   ],
   "source": [
    "data = data_raw.copy()\n",
    "# Create a mask to filter lines based on the condition\n",
    "mask = (\n",
    "    (data[\"CURRENT_FIX_Y\"].values[:, None] >= Lines[\"Y_Start\"].values) &\n",
    "    (data[\"CURRENT_FIX_Y\"].values[:, None] <= Lines[\"Y_End\"].values)\n",
    ")\n",
    "\n",
    "# Find the first True value along each row in the mask\n",
    "line_indices = mask.argmax(axis=1)\n",
    "\n",
    "# Index Lines DataFrame using the found indices\n",
    "lines_values = Lines.loc[line_indices, \"Line\"].values\n",
    "\n",
    "# Assign the values to the 'Lines' column in 'data'\n",
    "data[\"Line\"] = pd.Series(lines_values, index=data.index)\n",
    "\n",
    "# Replace all Lines that out side the borders\n",
    "data[\"Line\"].mask((data[\"CURRENT_FIX_Y\"] < Lines[\"Y_Start\"][0]) | (data[\"CURRENT_FIX_Y\"] > Lines[\"Y_End\"].iloc[-1]), None, inplace=True)\n",
    "\n",
    "# Drop rows with NaN values in 'Lines' column\n",
    "data.dropna(subset=[\"Line\"], inplace=True)\n",
    "\n",
    "data.reset_index(inplace=True, drop=True)\n",
    "# data.reset_index(inplace=True)\n",
    "# data.set_index([\"File\", \"index\"], inplace=True)\n",
    "data"
   ]
  },
  {
   "cell_type": "code",
   "execution_count": 298,
   "id": "d62b1fd7",
   "metadata": {},
   "outputs": [
    {
     "data": {
      "text/plain": [
       "<matplotlib.collections.PathCollection at 0x19511642350>"
      ]
     },
     "execution_count": 298,
     "metadata": {},
     "output_type": "execute_result"
    },
    {
     "data": {
      "image/png": "[encoded data removed]",
      "text/plain": [
       "<Figure size 1000x500 with 1 Axes>"
      ]
     },
     "metadata": {},
     "output_type": "display_data"
    }
   ],
   "source": [
    "ob = 387\n",
    "begin, end = ob-20, ob+20\n",
    "plt.figure(figsize=(10,5))\n",
    "plt.scatter(x=data.reset_index().loc[begin:end, [\"index\"]], y=data.loc[begin:end, [\"Line\"]], c=data.loc[begin:end, \"TRIAL_INDEX\"], alpha=0.5)"
   ]
  },
  {
   "cell_type": "code",
   "execution_count": 299,
   "id": "c10fd012",
   "metadata": {},
   "outputs": [
    {
     "data": {
      "text/plain": [
       "<matplotlib.collections.PathCollection at 0x19514c58cd0>"
      ]
     },
     "execution_count": 299,
     "metadata": {},
     "output_type": "execute_result"
    },
    {
     "data": {
      "image/png": "[encoded data removed]",
      "text/plain": [
       "<Figure size 1000x500 with 1 Axes>"
      ]
     },
     "metadata": {},
     "output_type": "display_data"
    }
   ],
   "source": [
    "begin, end = 25170, 25300\n",
    "plt.figure(figsize=(10,5))\n",
    "plt.scatter(x=data.reset_index().loc[begin:end, [\"index\"]], y=data.loc[begin:end, [\"CURRENT_FIX_Y\"]], c=data.loc[begin:end, \"TRIAL_INDEX\"], alpha=0.5)"
   ]
  },
  {
   "cell_type": "code",
   "execution_count": 300,
   "id": "6cc025c0",
   "metadata": {},
   "outputs": [],
   "source": [
    "# DEFINE CONSTANTS\n",
    "AVE_CHAR_LENGTH = 11\n",
    "SCREEN_WIDTH = 1920\n",
    "LINE_START = 180\n",
    "LINE_END = 1740\n",
    "\n",
    "FOVEA = 75.59 # in pixels ~ 2cm\n",
    "Participants = data[\"File\"].drop_duplicates().reset_index(drop=True)"
   ]
  },
  {
   "cell_type": "code",
   "execution_count": 301,
   "id": "fb69e5ea",
   "metadata": {},
   "outputs": [],
   "source": [
    "def getSameLineFix(fix):\n",
    "    # Find the start index\n",
    "    start_mask = data.iloc[:fix.name][::-1][\"Line\"].ne(fix[\"Line\"])\n",
    "    start_idx = start_mask.idxmax() if start_mask.any() else fix.name\n",
    "\n",
    "    # Find the end index\n",
    "    end_mask = data[fix.name:][\"Line\"].ne(fix[\"Line\"])\n",
    "    end_idx = end_mask.idxmax() if end_mask.any() else fix.name\n",
    "\n",
    "\n",
    "    # Adjust start_idx and end_idx while the difference is less than 20\n",
    "    if end_idx - start_idx < 10:\n",
    "        start_idx = max(0, start_idx - (10 - (end_idx - start_idx)))\n",
    "        end_idx = min(len(data), end_idx + (10 - (end_idx - start_idx)))\n",
    "\n",
    "    return data[start_idx:end_idx]"
   ]
  },
  {
   "cell_type": "code",
   "execution_count": 302,
   "id": "2eb77f75",
   "metadata": {},
   "outputs": [],
   "source": [
    "def NormalDistribute(fix, sample):    \n",
    "    mask = sample.reset_index()[\"index\"] == fix.name\n",
    "    sample = stats.norm.pdf(sample, sample.mean(), sample.std())\n",
    "    \n",
    "    return *sample[mask], sample"
   ]
  },
  {
   "cell_type": "code",
   "execution_count": 303,
   "id": "f69fd631",
   "metadata": {},
   "outputs": [],
   "source": [
    "def compareFix(fix1_idx, fix2_idx):\n",
    "    fix1 = data.iloc[fix1_idx]\n",
    "    fix2 = data.iloc[fix2_idx]\n",
    "    \n",
    "    if fix1[\"Line\"] == fix2[\"Line\"]:\n",
    "        return fix1[\"CURRENT_FIX_X\"] - fix2[\"CURRENT_FIX_X\"]\n",
    "    elif fix1[\"Line\"] > fix2[\"Line\"]:\n",
    "        return fix1[\"CURRENT_FIX_X\"] - fix2[\"CURRENT_FIX_X\"] + (fix1[\"Line\"] - fix2[\"Line\"])*LINE_END\n",
    "    else:\n",
    "        return fix1[\"CURRENT_FIX_X\"] - fix2[\"CURRENT_FIX_X\"] - (fix2[\"Line\"] - fix1[\"Line\"])*LINE_END"
   ]
  },
  {
   "cell_type": "code",
   "execution_count": 304,
   "id": "51ead51b",
   "metadata": {},
   "outputs": [],
   "source": [
    "def isFixSamePage(fix1_idx, fix2_idx):\n",
    "    fix1 = data.iloc[fix1_idx]\n",
    "    fix2 = data.iloc[fix2_idx]\n",
    "    \n",
    "    return (fix1[\"TRIAL_INDEX\"] + fix2[\"TRIAL_INDEX\"]) % 2 == 0"
   ]
  },
  {
   "cell_type": "code",
   "execution_count": 305,
   "id": "c1e723f3",
   "metadata": {},
   "outputs": [],
   "source": [
    "def Xinterval(seq):\n",
    "    return [data[seq[\"start_fix_idx\"]:seq[\"end_fix_idx\"] + 1][\"CURRENT_FIX_X\"].idxmin(), \n",
    "            data[seq[\"start_fix_idx\"]:seq[\"end_fix_idx\"] + 1][\"CURRENT_FIX_X\"].idxmax()]"
   ]
  },
  {
   "cell_type": "code",
   "execution_count": 306,
   "id": "fa41ee8a",
   "metadata": {},
   "outputs": [],
   "source": [
    "def seqList(seq):\n",
    "    return data[seq[\"start_fix_idx\"]:seq[\"end_fix_idx\"] + 1]"
   ]
  },
  {
   "cell_type": "code",
   "execution_count": 307,
   "id": "68395b3e",
   "metadata": {},
   "outputs": [],
   "source": [
    "def durationSeq(seq):\n",
    "    return durationBetween(seq[\"start_fix_idx\"], seq[\"end_fix_idx\"])"
   ]
  },
  {
   "cell_type": "code",
   "execution_count": 308,
   "id": "d459f957",
   "metadata": {},
   "outputs": [],
   "source": [
    "def overlapSeq(seq1, seq2):\n",
    "    seq1_Xinterval = Xinterval(seq1)\n",
    "    seq2_Xinterval = Xinterval(seq2)\n",
    "    direct = None\n",
    "    \n",
    "    if isFixSamePage(seq1[\"start_fix_idx\"], seq2[\"start_fix_idx\"]):\n",
    "        if compareFix(seq1_Xinterval[0], seq2_Xinterval[0]) > 0:\n",
    "            if compareFix(seq1_Xinterval[0], seq2_Xinterval[1]) > 0:\n",
    "                return None\n",
    "            elif compareFix(seq1_Xinterval[1], seq2_Xinterval[0]) > 0:\n",
    "                direct = \"Left\"\n",
    "            else:\n",
    "                direct = \"Mid\"\n",
    "        elif compareFix(seq1_Xinterval[1], seq2_Xinterval[0]) > 0:\n",
    "            if compareFix(seq1_Xinterval[1], seq2_Xinterval[1]) > 0:\n",
    "                direct = \"Mid\"\n",
    "            else:\n",
    "                direct = \"Right\"\n",
    "        else:\n",
    "            return None\n",
    "    else:\n",
    "        return None\n",
    "    \n",
    "\n",
    "    \n",
    "    overlap_interval = list(data.loc[[seq1_Xinterval[0], seq1_Xinterval[1], seq2_Xinterval[0], seq2_Xinterval[1]], \"CURRENT_FIX_X\"].sort_values()[1:3])\n",
    "\n",
    "    seq1List = seqList(seq1)[\"CURRENT_FIX_X\"]\n",
    "    seq2List = seqList(seq2)[\"CURRENT_FIX_X\"]\n",
    "    \n",
    "    seq1_overlap_interval = seq1List[(seq1List >= overlap_interval[0]) & (seq1List <= overlap_interval[1])]\n",
    "    seq2_overlap_interval = seq2List[(seq2List >= overlap_interval[0]) & (seq2List <= overlap_interval[1])]\n",
    "    \n",
    "    if seq1_overlap_interval.empty or seq2_overlap_interval.empty:\n",
    "        return direct, \"Overlap_noFix\"\n",
    "    \n",
    "    \n",
    "    return [direct, list(seq1_overlap_interval.iloc[[0, -1]].index), list(seq2_overlap_interval.iloc[[0, -1]].index)]"
   ]
  },
  {
   "cell_type": "code",
   "execution_count": 309,
   "id": "c4129939",
   "metadata": {},
   "outputs": [],
   "source": [
    "def numberFixBetween(fix1_idx, fix2_idx):\n",
    "    return abs(fix1_idx - fix2_idx)"
   ]
  },
  {
   "cell_type": "code",
   "execution_count": 310,
   "id": "60991f84",
   "metadata": {},
   "outputs": [],
   "source": [
    "def durationBetween(fix1_idx, fix2_idx):\n",
    "    return data[fix1_idx:fix2_idx][\"CURRENT_FIX_DURATION\"].sum()"
   ]
  },
  {
   "cell_type": "code",
   "execution_count": 311,
   "id": "1c853c1c",
   "metadata": {},
   "outputs": [],
   "source": [
    "def AveDurationBetween(fix1_idx, fix2_idx):\n",
    "    return durationBetween(fix1_idx, fix2_idx) / numberFixBetween(fix1_idx, fix2_idx)"
   ]
  },
  {
   "cell_type": "code",
   "execution_count": 312,
   "id": "f4ad0aa5",
   "metadata": {},
   "outputs": [],
   "source": [
    "def gazeDurationBetween(fix1_idx, fix2_idx):\n",
    "    return (data[fix1_idx:fix2_idx][\"CURRENT_FIX_START\"] - data[fix1_idx:fix2_idx][\"PREVIOUS_FIX_END\"] + data[fix1_idx:fix2_idx][\"CURRENT_FIX_DURATION\"]).sum()"
   ]
  },
  {
   "cell_type": "code",
   "execution_count": 313,
   "id": "caf843b5",
   "metadata": {},
   "outputs": [],
   "source": [
    "def meanSaccadeLenBetween(fix1_idx, fix2_idx):\n",
    "    return abs(data[fix1_idx:fix2_idx][\"CURRENT_FIX_X\"] - data[fix1_idx:fix2_idx][\"PREVIOUS_FIX_X\"]).mean()"
   ]
  },
  {
   "cell_type": "code",
   "execution_count": 314,
   "id": "aafad313",
   "metadata": {},
   "outputs": [],
   "source": [
    "def classifySeq(start_idx, end_idx, pre_seq):\n",
    "    s = pd.Series({'start_fix_idx': start_idx, 'end_fix_idx': end_idx})\n",
    "    Class, Overlap = \"First Pass\", None\n",
    "    for pre_idx, pre_s in pre_seq[::-1].iterrows():\n",
    "        overlap_seq = overlapSeq(pre_s, s)\n",
    "        if overlap_seq:\n",
    "            direct, *overlap_seq = overlap_seq\n",
    "            Overlap = pre_idx\n",
    "            if overlap_seq == [\"Overlap_noFix\"]:\n",
    "                Class = \"First Pass_noFix_\" + direct\n",
    "                continue\n",
    "            \n",
    "            if direct == \"Left\" or direct == \"Mid\":\n",
    "                if numberFixBetween(overlap_seq[1][0], overlap_seq[1][1]) >= numberFixBetween(overlap_seq[0][0], overlap_seq[0][1]):\n",
    "                    Class = \"Second Pass/no.Fix_Left\"\n",
    "                elif durationBetween(overlap_seq[1][0], overlap_seq[1][1]) >= durationBetween(overlap_seq[0][0], overlap_seq[0][1]): \n",
    "                    Class = \"Second Pass/duration_Left\"\n",
    "                elif gazeDurationBetween(overlap_seq[1][0], overlap_seq[1][1]) >= gazeDurationBetween(overlap_seq[0][0], overlap_seq[0][1]):\n",
    "                    Class = \"Second Pass/gazeDuration_Left\"\n",
    "                elif meanSaccadeLenBetween(overlap_seq[1][0], overlap_seq[1][1]) < meanSaccadeLenBetween(overlap_seq[0][0], overlap_seq[0][1]):\n",
    "                    Class = \"Second Pass/meanSaccade_Left\"\n",
    "                else:\n",
    "                    Class = \"First Pass_BT_Left\"\n",
    "            else:\n",
    "                if compareFix(overlap_seq[0][0], overlap_seq[0][1]) / compareFix(Xinterval(s)[0], Xinterval(s)[1]) > 0.3:\n",
    "                    Class = \"Second Pass/More30%_Right\"\n",
    "                elif AveDurationBetween(overlap_seq[0][0], overlap_seq[0][1]) > AveDurationBetween(s[\"start_fix_idx\"], overlap_seq[0][0]):\n",
    "                    Class = \"Second Pass/meanDuration_Right\"\n",
    "                else:\n",
    "                    Class = \"First Pass_BT_Right\"\n",
    "\n",
    "            if Class[:11] == \"Second Pass\":\n",
    "                break\n",
    "    return [Class, Overlap]"
   ]
  },
  {
   "cell_type": "code",
   "execution_count": 315,
   "id": "7d2f71f3",
   "metadata": {},
   "outputs": [],
   "source": [
    "def breakSeq(start_fix, fix, prefix):\n",
    "    cond = None\n",
    "    if start_fix[\"TRIAL_INDEX\"] != fix[\"TRIAL_INDEX\"]:\n",
    "        cond = \"TRIAL\"\n",
    "    elif abs(fix[\"Line\"] - prefix[\"Line\"]) > 1:\n",
    "        cond = \"LINE DISTANCE\"\n",
    "    elif fix[\"Line\"] == prefix[\"Line\"]:\n",
    "        if fix[\"CURRENT_FIX_X\"] - fix[\"PREVIOUS_FIX_X\"] > AVE_CHAR_LENGTH * 15:\n",
    "            cond = \"X SAME LINE RIGHT\"\n",
    "        elif fix[\"CURRENT_FIX_X\"] - fix[\"PREVIOUS_FIX_X\"] < - AVE_CHAR_LENGTH * 7:\n",
    "            cond = \"X SAME LINE LEFT\"\n",
    "        elif fix[\"CURRENT_FIX_START\"] - fix[\"PREVIOUS_FIX_END\"] > 40:\n",
    "            cond = \"SAC\"\n",
    "    else:\n",
    "        if fix[\"PREVIOUS_FIX_X\"] < LINE_END - AVE_CHAR_LENGTH * 7:\n",
    "            cond = \"X DIFF LINE RIGHT\"\n",
    "        elif fix[\"CURRENT_FIX_X\"] > LINE_START + AVE_CHAR_LENGTH * 7:\n",
    "            cond = \"X DIFF LINE LEFT\"\n",
    "        elif fix[\"PREVIOUS_FIX_DURATION\"] >= AveDurationBetween(start_fix.name, fix.name - 1):\n",
    "            cond = \"DURATION DIFF LINE\"\n",
    "        \n",
    "    return cond"
   ]
  },
  {
   "cell_type": "code",
   "execution_count": 316,
   "id": "c058b57e",
   "metadata": {
    "scrolled": true
   },
   "outputs": [
    {
     "data": {
      "text/plain": [
       "'CBT_1... '"
      ]
     },
     "metadata": {},
     "output_type": "display_data"
    },
    {
     "data": {
      "text/plain": [
       "'CBT_10... '"
      ]
     },
     "metadata": {},
     "output_type": "display_data"
    },
    {
     "data": {
      "text/plain": [
       "'CBT_11... '"
      ]
     },
     "metadata": {},
     "output_type": "display_data"
    },
    {
     "data": {
      "text/plain": [
       "'CBT_12... '"
      ]
     },
     "metadata": {},
     "output_type": "display_data"
    },
    {
     "data": {
      "text/plain": [
       "'CBT_13... '"
      ]
     },
     "metadata": {},
     "output_type": "display_data"
    },
    {
     "data": {
      "text/plain": [
       "'CBT_14... '"
      ]
     },
     "metadata": {},
     "output_type": "display_data"
    },
    {
     "data": {
      "text/plain": [
       "'CBT_15... '"
      ]
     },
     "metadata": {},
     "output_type": "display_data"
    },
    {
     "data": {
      "text/plain": [
       "'CBT_16... '"
      ]
     },
     "metadata": {},
     "output_type": "display_data"
    },
    {
     "data": {
      "text/plain": [
       "'CBT_17... '"
      ]
     },
     "metadata": {},
     "output_type": "display_data"
    },
    {
     "data": {
      "text/plain": [
       "'CBT_18... '"
      ]
     },
     "metadata": {},
     "output_type": "display_data"
    },
    {
     "data": {
      "text/plain": [
       "'CBT_19... '"
      ]
     },
     "metadata": {},
     "output_type": "display_data"
    },
    {
     "data": {
      "text/plain": [
       "'CBT_2... '"
      ]
     },
     "metadata": {},
     "output_type": "display_data"
    },
    {
     "data": {
      "text/plain": [
       "'CBT_20... '"
      ]
     },
     "metadata": {},
     "output_type": "display_data"
    },
    {
     "data": {
      "text/plain": [
       "'CBT_21... '"
      ]
     },
     "metadata": {},
     "output_type": "display_data"
    },
    {
     "data": {
      "text/plain": [
       "'CBT_22... '"
      ]
     },
     "metadata": {},
     "output_type": "display_data"
    },
    {
     "data": {
      "text/plain": [
       "'CBT_23... '"
      ]
     },
     "metadata": {},
     "output_type": "display_data"
    },
    {
     "data": {
      "text/plain": [
       "'CBT_24... '"
      ]
     },
     "metadata": {},
     "output_type": "display_data"
    },
    {
     "data": {
      "text/plain": [
       "'CBT_25... '"
      ]
     },
     "metadata": {},
     "output_type": "display_data"
    },
    {
     "data": {
      "text/plain": [
       "'CBT_26... '"
      ]
     },
     "metadata": {},
     "output_type": "display_data"
    },
    {
     "data": {
      "text/plain": [
       "'CBT_3... '"
      ]
     },
     "metadata": {},
     "output_type": "display_data"
    },
    {
     "data": {
      "text/plain": [
       "'CBT_4... '"
      ]
     },
     "metadata": {},
     "output_type": "display_data"
    },
    {
     "data": {
      "text/plain": [
       "'CBT_5... '"
      ]
     },
     "metadata": {},
     "output_type": "display_data"
    },
    {
     "data": {
      "text/plain": [
       "'CBT_7... '"
      ]
     },
     "metadata": {},
     "output_type": "display_data"
    },
    {
     "data": {
      "text/plain": [
       "'CBT_8... '"
      ]
     },
     "metadata": {},
     "output_type": "display_data"
    },
    {
     "data": {
      "text/plain": [
       "'CB_1... '"
      ]
     },
     "metadata": {},
     "output_type": "display_data"
    },
    {
     "data": {
      "text/plain": [
       "'CB_10... '"
      ]
     },
     "metadata": {},
     "output_type": "display_data"
    },
    {
     "data": {
      "text/plain": [
       "'CB_11... '"
      ]
     },
     "metadata": {},
     "output_type": "display_data"
    },
    {
     "data": {
      "text/plain": [
       "'CB_12... '"
      ]
     },
     "metadata": {},
     "output_type": "display_data"
    },
    {
     "data": {
      "text/plain": [
       "'CB_13... '"
      ]
     },
     "metadata": {},
     "output_type": "display_data"
    },
    {
     "data": {
      "text/plain": [
       "'CB_14... '"
      ]
     },
     "metadata": {},
     "output_type": "display_data"
    },
    {
     "data": {
      "text/plain": [
       "'CB_15... '"
      ]
     },
     "metadata": {},
     "output_type": "display_data"
    },
    {
     "data": {
      "text/plain": [
       "'CB_16... '"
      ]
     },
     "metadata": {},
     "output_type": "display_data"
    },
    {
     "data": {
      "text/plain": [
       "'CB_17... '"
      ]
     },
     "metadata": {},
     "output_type": "display_data"
    },
    {
     "data": {
      "text/plain": [
       "'CB_18... '"
      ]
     },
     "metadata": {},
     "output_type": "display_data"
    },
    {
     "data": {
      "text/plain": [
       "'CB_19... '"
      ]
     },
     "metadata": {},
     "output_type": "display_data"
    },
    {
     "data": {
      "text/plain": [
       "'CB_2... '"
      ]
     },
     "metadata": {},
     "output_type": "display_data"
    },
    {
     "data": {
      "text/plain": [
       "'CB_20... '"
      ]
     },
     "metadata": {},
     "output_type": "display_data"
    },
    {
     "data": {
      "text/plain": [
       "'CB_21... '"
      ]
     },
     "metadata": {},
     "output_type": "display_data"
    },
    {
     "data": {
      "text/plain": [
       "'CB_22... '"
      ]
     },
     "metadata": {},
     "output_type": "display_data"
    },
    {
     "data": {
      "text/plain": [
       "'CB_23... '"
      ]
     },
     "metadata": {},
     "output_type": "display_data"
    },
    {
     "data": {
      "text/plain": [
       "'CB_24... '"
      ]
     },
     "metadata": {},
     "output_type": "display_data"
    },
    {
     "data": {
      "text/plain": [
       "'CB_25... '"
      ]
     },
     "metadata": {},
     "output_type": "display_data"
    },
    {
     "data": {
      "text/plain": [
       "'CB_26... '"
      ]
     },
     "metadata": {},
     "output_type": "display_data"
    },
    {
     "data": {
      "text/plain": [
       "'CB_3... '"
      ]
     },
     "metadata": {},
     "output_type": "display_data"
    },
    {
     "data": {
      "text/plain": [
       "'CB_4... '"
      ]
     },
     "metadata": {},
     "output_type": "display_data"
    },
    {
     "data": {
      "text/plain": [
       "'CB_5... '"
      ]
     },
     "metadata": {},
     "output_type": "display_data"
    },
    {
     "data": {
      "text/plain": [
       "'CB_7... '"
      ]
     },
     "metadata": {},
     "output_type": "display_data"
    },
    {
     "data": {
      "text/plain": [
       "'CB_8... '"
      ]
     },
     "metadata": {},
     "output_type": "display_data"
    },
    {
     "data": {
      "text/plain": [
       "'GMF_1... '"
      ]
     },
     "metadata": {},
     "output_type": "display_data"
    },
    {
     "data": {
      "text/plain": [
       "'GMF_10... '"
      ]
     },
     "metadata": {},
     "output_type": "display_data"
    },
    {
     "data": {
      "text/plain": [
       "'GMF_11... '"
      ]
     },
     "metadata": {},
     "output_type": "display_data"
    },
    {
     "data": {
      "text/plain": [
       "'GMF_12... '"
      ]
     },
     "metadata": {},
     "output_type": "display_data"
    },
    {
     "data": {
      "text/plain": [
       "'GMF_13... '"
      ]
     },
     "metadata": {},
     "output_type": "display_data"
    },
    {
     "data": {
      "text/plain": [
       "'GMF_14... '"
      ]
     },
     "metadata": {},
     "output_type": "display_data"
    },
    {
     "data": {
      "text/plain": [
       "'GMF_15... '"
      ]
     },
     "metadata": {},
     "output_type": "display_data"
    },
    {
     "data": {
      "text/plain": [
       "'GMF_16... '"
      ]
     },
     "metadata": {},
     "output_type": "display_data"
    },
    {
     "data": {
      "text/plain": [
       "'GMF_17... '"
      ]
     },
     "metadata": {},
     "output_type": "display_data"
    },
    {
     "data": {
      "text/plain": [
       "'GMF_18... '"
      ]
     },
     "metadata": {},
     "output_type": "display_data"
    },
    {
     "data": {
      "text/plain": [
       "'GMF_19... '"
      ]
     },
     "metadata": {},
     "output_type": "display_data"
    },
    {
     "data": {
      "text/plain": [
       "'GMF_2... '"
      ]
     },
     "metadata": {},
     "output_type": "display_data"
    },
    {
     "data": {
      "text/plain": [
       "'GMF_20... '"
      ]
     },
     "metadata": {},
     "output_type": "display_data"
    },
    {
     "data": {
      "text/plain": [
       "'GMF_21... '"
      ]
     },
     "metadata": {},
     "output_type": "display_data"
    },
    {
     "data": {
      "text/plain": [
       "'GMF_22... '"
      ]
     },
     "metadata": {},
     "output_type": "display_data"
    },
    {
     "data": {
      "text/plain": [
       "'GMF_23... '"
      ]
     },
     "metadata": {},
     "output_type": "display_data"
    },
    {
     "data": {
      "text/plain": [
       "'GMF_24... '"
      ]
     },
     "metadata": {},
     "output_type": "display_data"
    },
    {
     "data": {
      "text/plain": [
       "'GMF_25... '"
      ]
     },
     "metadata": {},
     "output_type": "display_data"
    },
    {
     "data": {
      "text/plain": [
       "'GMF_26... '"
      ]
     },
     "metadata": {},
     "output_type": "display_data"
    },
    {
     "data": {
      "text/plain": [
       "'GMF_3... '"
      ]
     },
     "metadata": {},
     "output_type": "display_data"
    },
    {
     "data": {
      "text/plain": [
       "'GMF_4... '"
      ]
     },
     "metadata": {},
     "output_type": "display_data"
    },
    {
     "data": {
      "text/plain": [
       "'GMF_5... '"
      ]
     },
     "metadata": {},
     "output_type": "display_data"
    },
    {
     "data": {
      "text/plain": [
       "'GMF_7... '"
      ]
     },
     "metadata": {},
     "output_type": "display_data"
    },
    {
     "data": {
      "text/plain": [
       "'GMF_8... '"
      ]
     },
     "metadata": {},
     "output_type": "display_data"
    },
    {
     "data": {
      "text/plain": [
       "'LSW_1... '"
      ]
     },
     "metadata": {},
     "output_type": "display_data"
    },
    {
     "data": {
      "text/plain": [
       "'LSW_10... '"
      ]
     },
     "metadata": {},
     "output_type": "display_data"
    },
    {
     "data": {
      "text/plain": [
       "'LSW_11... '"
      ]
     },
     "metadata": {},
     "output_type": "display_data"
    },
    {
     "data": {
      "text/plain": [
       "'LSW_12... '"
      ]
     },
     "metadata": {},
     "output_type": "display_data"
    },
    {
     "data": {
      "text/plain": [
       "'LSW_13... '"
      ]
     },
     "metadata": {},
     "output_type": "display_data"
    },
    {
     "data": {
      "text/plain": [
       "'LSW_14... '"
      ]
     },
     "metadata": {},
     "output_type": "display_data"
    },
    {
     "data": {
      "text/plain": [
       "'LSW_15... '"
      ]
     },
     "metadata": {},
     "output_type": "display_data"
    },
    {
     "data": {
      "text/plain": [
       "'LSW_16... '"
      ]
     },
     "metadata": {},
     "output_type": "display_data"
    },
    {
     "data": {
      "text/plain": [
       "'LSW_17... '"
      ]
     },
     "metadata": {},
     "output_type": "display_data"
    },
    {
     "data": {
      "text/plain": [
       "'LSW_18... '"
      ]
     },
     "metadata": {},
     "output_type": "display_data"
    },
    {
     "data": {
      "text/plain": [
       "'LSW_19... '"
      ]
     },
     "metadata": {},
     "output_type": "display_data"
    },
    {
     "data": {
      "text/plain": [
       "'LSW_2... '"
      ]
     },
     "metadata": {},
     "output_type": "display_data"
    },
    {
     "data": {
      "text/plain": [
       "'LSW_20... '"
      ]
     },
     "metadata": {},
     "output_type": "display_data"
    },
    {
     "data": {
      "text/plain": [
       "'LSW_21... '"
      ]
     },
     "metadata": {},
     "output_type": "display_data"
    },
    {
     "data": {
      "text/plain": [
       "'LSW_22... '"
      ]
     },
     "metadata": {},
     "output_type": "display_data"
    },
    {
     "data": {
      "text/plain": [
       "'LSW_23... '"
      ]
     },
     "metadata": {},
     "output_type": "display_data"
    },
    {
     "data": {
      "text/plain": [
       "'LSW_24... '"
      ]
     },
     "metadata": {},
     "output_type": "display_data"
    },
    {
     "data": {
      "text/plain": [
       "'LSW_25... '"
      ]
     },
     "metadata": {},
     "output_type": "display_data"
    },
    {
     "data": {
      "text/plain": [
       "'LSW_26... '"
      ]
     },
     "metadata": {},
     "output_type": "display_data"
    },
    {
     "data": {
      "text/plain": [
       "'LSW_3... '"
      ]
     },
     "metadata": {},
     "output_type": "display_data"
    },
    {
     "data": {
      "text/plain": [
       "'LSW_4... '"
      ]
     },
     "metadata": {},
     "output_type": "display_data"
    },
    {
     "data": {
      "text/plain": [
       "'LSW_5... '"
      ]
     },
     "metadata": {},
     "output_type": "display_data"
    },
    {
     "data": {
      "text/plain": [
       "'LSW_7... '"
      ]
     },
     "metadata": {},
     "output_type": "display_data"
    },
    {
     "data": {
      "text/plain": [
       "'LSW_8... '"
      ]
     },
     "metadata": {},
     "output_type": "display_data"
    },
    {
     "data": {
      "text/plain": [
       "'Done'"
      ]
     },
     "metadata": {},
     "output_type": "display_data"
    }
   ],
   "source": [
    "alpha = 0.05\n",
    "prefix_idx, prefix = 0, data.iloc[0]\n",
    "anomalies = []\n",
    "for P in Participants:\n",
    "    display(P + \"... \")\n",
    "    for idx, fix in data[data[\"File\"] == P][1:].iterrows():\n",
    "        if isFixSamePage(idx, prefix_idx) and fix[\"File\"] == prefix[\"File\"] and fix[\"Line\"] != prefix[\"Line\"]:\n",
    "            # Get sample       \n",
    "            sample_raw = getSameLineFix(fix) \n",
    "            sample = sample_raw[\"CURRENT_FIX_Y\"] - Lines[Lines[\"Line\"] == fix[\"Line\"]][\"Y_Start\"].values\n",
    "\n",
    "            # Transform to Normal Distribution        \n",
    "            fix_normal, sample = NormalDistribute(fix, sample)\n",
    "\n",
    "            # Compute T_Score        \n",
    "            t_score = (sample.mean() - fix_normal) / (sample.std() / np.sqrt(len(sample)))\n",
    "            t_alpha = stats.t.ppf(alpha, len(sample) - 1)\n",
    "\n",
    "            if t_score > t_alpha:\n",
    "                anomalies.append(idx)\n",
    "                data.loc[idx, \"Line\"] = sample_raw[\"Line\"].mode()[0]\n",
    "                \n",
    "            prefix_idx, prefix = idx, fix\n",
    "display(\"Done\")"
   ]
  },
  {
   "cell_type": "code",
   "execution_count": 317,
   "id": "a42ccfab",
   "metadata": {},
   "outputs": [
    {
     "data": {
      "text/html": [
       "<div>\n",
       "<style scoped>\n",
       "    .dataframe tbody tr th:only-of-type {\n",
       "        vertical-align: middle;\n",
       "    }\n",
       "\n",
       "    .dataframe tbody tr th {\n",
       "        vertical-align: top;\n",
       "    }\n",
       "\n",
       "    .dataframe thead th {\n",
       "        text-align: right;\n",
       "    }\n",
       "</style>\n",
       "<table border=\"1\" class=\"dataframe\">\n",
       "  <thead>\n",
       "    <tr style=\"text-align: right;\">\n",
       "      <th></th>\n",
       "      <th>RECORDING_SESSION_LABEL</th>\n",
       "      <th>TRIAL_INDEX</th>\n",
       "      <th>EYE_USED</th>\n",
       "      <th>CURRENT_FIX_INDEX</th>\n",
       "      <th>CURRENT_FIX_START</th>\n",
       "      <th>CURRENT_FIX_END</th>\n",
       "      <th>CURRENT_FIX_DURATION</th>\n",
       "      <th>CURRENT_FIX_X</th>\n",
       "      <th>CURRENT_FIX_X_RESOLUTION</th>\n",
       "      <th>CURRENT_FIX_Y</th>\n",
       "      <th>...</th>\n",
       "      <th>PREVIOUS_FIX_END</th>\n",
       "      <th>PREVIOUS_FIX_DURATION</th>\n",
       "      <th>PREVIOUS_FIX_X</th>\n",
       "      <th>PREVIOUS_FIX_X_RESOLUTION</th>\n",
       "      <th>PREVIOUS_FIX_Y</th>\n",
       "      <th>PREVIOUS_FIX_Y_RESOLUTION</th>\n",
       "      <th>File</th>\n",
       "      <th>Time_Spent</th>\n",
       "      <th>Text</th>\n",
       "      <th>Line</th>\n",
       "    </tr>\n",
       "  </thead>\n",
       "  <tbody>\n",
       "    <tr>\n",
       "      <th>1</th>\n",
       "      <td>1</td>\n",
       "      <td>1</td>\n",
       "      <td>RIGHT</td>\n",
       "      <td>2</td>\n",
       "      <td>185</td>\n",
       "      <td>401</td>\n",
       "      <td>217</td>\n",
       "      <td>414.1</td>\n",
       "      <td>32.00</td>\n",
       "      <td>634.5</td>\n",
       "      <td>...</td>\n",
       "      <td>112</td>\n",
       "      <td>106.0</td>\n",
       "      <td>737.9</td>\n",
       "      <td>31.7</td>\n",
       "      <td>214</td>\n",
       "      <td>41.7</td>\n",
       "      <td>CBT_1</td>\n",
       "      <td>281</td>\n",
       "      <td>1</td>\n",
       "      <td>2.0</td>\n",
       "    </tr>\n",
       "    <tr>\n",
       "      <th>12</th>\n",
       "      <td>1</td>\n",
       "      <td>1</td>\n",
       "      <td>RIGHT</td>\n",
       "      <td>13</td>\n",
       "      <td>2806</td>\n",
       "      <td>3066</td>\n",
       "      <td>261</td>\n",
       "      <td>279.4</td>\n",
       "      <td>31.80</td>\n",
       "      <td>63.8</td>\n",
       "      <td>...</td>\n",
       "      <td>2790</td>\n",
       "      <td>142.0</td>\n",
       "      <td>301.3</td>\n",
       "      <td>31.7</td>\n",
       "      <td>73.3</td>\n",
       "      <td>41.7</td>\n",
       "      <td>CBT_1</td>\n",
       "      <td>281</td>\n",
       "      <td>1</td>\n",
       "      <td>2.0</td>\n",
       "    </tr>\n",
       "    <tr>\n",
       "      <th>13</th>\n",
       "      <td>1</td>\n",
       "      <td>1</td>\n",
       "      <td>RIGHT</td>\n",
       "      <td>14</td>\n",
       "      <td>3087</td>\n",
       "      <td>3210</td>\n",
       "      <td>124</td>\n",
       "      <td>331.2</td>\n",
       "      <td>31.55</td>\n",
       "      <td>76.6</td>\n",
       "      <td>...</td>\n",
       "      <td>3066</td>\n",
       "      <td>261.0</td>\n",
       "      <td>279.4</td>\n",
       "      <td>31.8</td>\n",
       "      <td>63.8</td>\n",
       "      <td>41.8</td>\n",
       "      <td>CBT_1</td>\n",
       "      <td>142</td>\n",
       "      <td>1</td>\n",
       "      <td>2.0</td>\n",
       "    </tr>\n",
       "    <tr>\n",
       "      <th>15</th>\n",
       "      <td>1</td>\n",
       "      <td>1</td>\n",
       "      <td>RIGHT</td>\n",
       "      <td>16</td>\n",
       "      <td>3450</td>\n",
       "      <td>3635</td>\n",
       "      <td>186</td>\n",
       "      <td>406.8</td>\n",
       "      <td>31.30</td>\n",
       "      <td>57.9</td>\n",
       "      <td>...</td>\n",
       "      <td>3428</td>\n",
       "      <td>200.0</td>\n",
       "      <td>364.0</td>\n",
       "      <td>31.45</td>\n",
       "      <td>77.4</td>\n",
       "      <td>41.55</td>\n",
       "      <td>CBT_1</td>\n",
       "      <td>210</td>\n",
       "      <td>1</td>\n",
       "      <td>2.0</td>\n",
       "    </tr>\n",
       "    <tr>\n",
       "      <th>18</th>\n",
       "      <td>1</td>\n",
       "      <td>1</td>\n",
       "      <td>RIGHT</td>\n",
       "      <td>19</td>\n",
       "      <td>4029</td>\n",
       "      <td>4193</td>\n",
       "      <td>165</td>\n",
       "      <td>536.6</td>\n",
       "      <td>31.20</td>\n",
       "      <td>66.5</td>\n",
       "      <td>...</td>\n",
       "      <td>3992</td>\n",
       "      <td>179.0</td>\n",
       "      <td>432.6</td>\n",
       "      <td>31.3</td>\n",
       "      <td>75.8</td>\n",
       "      <td>41.4</td>\n",
       "      <td>CBT_1</td>\n",
       "      <td>184</td>\n",
       "      <td>1</td>\n",
       "      <td>1.0</td>\n",
       "    </tr>\n",
       "    <tr>\n",
       "      <th>...</th>\n",
       "      <td>...</td>\n",
       "      <td>...</td>\n",
       "      <td>...</td>\n",
       "      <td>...</td>\n",
       "      <td>...</td>\n",
       "      <td>...</td>\n",
       "      <td>...</td>\n",
       "      <td>...</td>\n",
       "      <td>...</td>\n",
       "      <td>...</td>\n",
       "      <td>...</td>\n",
       "      <td>...</td>\n",
       "      <td>...</td>\n",
       "      <td>...</td>\n",
       "      <td>...</td>\n",
       "      <td>...</td>\n",
       "      <td>...</td>\n",
       "      <td>...</td>\n",
       "      <td>...</td>\n",
       "      <td>...</td>\n",
       "      <td>...</td>\n",
       "    </tr>\n",
       "    <tr>\n",
       "      <th>1813</th>\n",
       "      <td>1</td>\n",
       "      <td>9</td>\n",
       "      <td>RIGHT</td>\n",
       "      <td>30</td>\n",
       "      <td>6683</td>\n",
       "      <td>6988</td>\n",
       "      <td>306</td>\n",
       "      <td>358.1</td>\n",
       "      <td>31.40</td>\n",
       "      <td>127.3</td>\n",
       "      <td>...</td>\n",
       "      <td>6640</td>\n",
       "      <td>128.0</td>\n",
       "      <td>532.8</td>\n",
       "      <td>31.3</td>\n",
       "      <td>270.3</td>\n",
       "      <td>41.5</td>\n",
       "      <td>CBT_1</td>\n",
       "      <td>366</td>\n",
       "      <td>1</td>\n",
       "      <td>12.0</td>\n",
       "    </tr>\n",
       "    <tr>\n",
       "      <th>1814</th>\n",
       "      <td>1</td>\n",
       "      <td>9</td>\n",
       "      <td>RIGHT</td>\n",
       "      <td>31</td>\n",
       "      <td>7049</td>\n",
       "      <td>7183</td>\n",
       "      <td>135</td>\n",
       "      <td>111.8</td>\n",
       "      <td>32.75</td>\n",
       "      <td>80.8</td>\n",
       "      <td>...</td>\n",
       "      <td>6988</td>\n",
       "      <td>306.0</td>\n",
       "      <td>358.1</td>\n",
       "      <td>31.4</td>\n",
       "      <td>127.3</td>\n",
       "      <td>41.5</td>\n",
       "      <td>CBT_1</td>\n",
       "      <td>166</td>\n",
       "      <td>1</td>\n",
       "      <td>12.0</td>\n",
       "    </tr>\n",
       "    <tr>\n",
       "      <th>1815</th>\n",
       "      <td>1</td>\n",
       "      <td>9</td>\n",
       "      <td>RIGHT</td>\n",
       "      <td>32</td>\n",
       "      <td>7215</td>\n",
       "      <td>7447</td>\n",
       "      <td>233</td>\n",
       "      <td>53.1</td>\n",
       "      <td>33.15</td>\n",
       "      <td>56.8</td>\n",
       "      <td>...</td>\n",
       "      <td>7183</td>\n",
       "      <td>135.0</td>\n",
       "      <td>111.8</td>\n",
       "      <td>32.75</td>\n",
       "      <td>80.8</td>\n",
       "      <td>42.4</td>\n",
       "      <td>CBT_1</td>\n",
       "      <td>277</td>\n",
       "      <td>1</td>\n",
       "      <td>12.0</td>\n",
       "    </tr>\n",
       "    <tr>\n",
       "      <th>1816</th>\n",
       "      <td>1</td>\n",
       "      <td>9</td>\n",
       "      <td>RIGHT</td>\n",
       "      <td>33</td>\n",
       "      <td>7492</td>\n",
       "      <td>7783</td>\n",
       "      <td>292</td>\n",
       "      <td>262.0</td>\n",
       "      <td>31.80</td>\n",
       "      <td>156.0</td>\n",
       "      <td>...</td>\n",
       "      <td>7447</td>\n",
       "      <td>233.0</td>\n",
       "      <td>53.1</td>\n",
       "      <td>33.15</td>\n",
       "      <td>56.8</td>\n",
       "      <td>42.7</td>\n",
       "      <td>CBT_1</td>\n",
       "      <td>1822</td>\n",
       "      <td>1</td>\n",
       "      <td>12.0</td>\n",
       "    </tr>\n",
       "    <tr>\n",
       "      <th>1817</th>\n",
       "      <td>1</td>\n",
       "      <td>9</td>\n",
       "      <td>RIGHT</td>\n",
       "      <td>34</td>\n",
       "      <td>9314</td>\n",
       "      <td>9477</td>\n",
       "      <td>164</td>\n",
       "      <td>406.4</td>\n",
       "      <td>31.75</td>\n",
       "      <td>539.7</td>\n",
       "      <td>...</td>\n",
       "      <td>7783</td>\n",
       "      <td>292.0</td>\n",
       "      <td>262.0</td>\n",
       "      <td>31.8</td>\n",
       "      <td>156</td>\n",
       "      <td>41.7</td>\n",
       "      <td>CBT_1</td>\n",
       "      <td>217</td>\n",
       "      <td>1</td>\n",
       "      <td>12.0</td>\n",
       "    </tr>\n",
       "  </tbody>\n",
       "</table>\n",
       "<p>116 rows × 33 columns</p>\n",
       "</div>"
      ],
      "text/plain": [
       "      RECORDING_SESSION_LABEL  TRIAL_INDEX EYE_USED  CURRENT_FIX_INDEX  \\\n",
       "1                           1            1    RIGHT                  2   \n",
       "12                          1            1    RIGHT                 13   \n",
       "13                          1            1    RIGHT                 14   \n",
       "15                          1            1    RIGHT                 16   \n",
       "18                          1            1    RIGHT                 19   \n",
       "...                       ...          ...      ...                ...   \n",
       "1813                        1            9    RIGHT                 30   \n",
       "1814                        1            9    RIGHT                 31   \n",
       "1815                        1            9    RIGHT                 32   \n",
       "1816                        1            9    RIGHT                 33   \n",
       "1817                        1            9    RIGHT                 34   \n",
       "\n",
       "      CURRENT_FIX_START  CURRENT_FIX_END  CURRENT_FIX_DURATION  CURRENT_FIX_X  \\\n",
       "1                   185              401                   217          414.1   \n",
       "12                 2806             3066                   261          279.4   \n",
       "13                 3087             3210                   124          331.2   \n",
       "15                 3450             3635                   186          406.8   \n",
       "18                 4029             4193                   165          536.6   \n",
       "...                 ...              ...                   ...            ...   \n",
       "1813               6683             6988                   306          358.1   \n",
       "1814               7049             7183                   135          111.8   \n",
       "1815               7215             7447                   233           53.1   \n",
       "1816               7492             7783                   292          262.0   \n",
       "1817               9314             9477                   164          406.4   \n",
       "\n",
       "      CURRENT_FIX_X_RESOLUTION  CURRENT_FIX_Y  ...  PREVIOUS_FIX_END  \\\n",
       "1                        32.00          634.5  ...               112   \n",
       "12                       31.80           63.8  ...              2790   \n",
       "13                       31.55           76.6  ...              3066   \n",
       "15                       31.30           57.9  ...              3428   \n",
       "18                       31.20           66.5  ...              3992   \n",
       "...                        ...            ...  ...               ...   \n",
       "1813                     31.40          127.3  ...              6640   \n",
       "1814                     32.75           80.8  ...              6988   \n",
       "1815                     33.15           56.8  ...              7183   \n",
       "1816                     31.80          156.0  ...              7447   \n",
       "1817                     31.75          539.7  ...              7783   \n",
       "\n",
       "     PREVIOUS_FIX_DURATION PREVIOUS_FIX_X  PREVIOUS_FIX_X_RESOLUTION  \\\n",
       "1                    106.0          737.9                       31.7   \n",
       "12                   142.0          301.3                       31.7   \n",
       "13                   261.0          279.4                       31.8   \n",
       "15                   200.0          364.0                      31.45   \n",
       "18                   179.0          432.6                       31.3   \n",
       "...                    ...            ...                        ...   \n",
       "1813                 128.0          532.8                       31.3   \n",
       "1814                 306.0          358.1                       31.4   \n",
       "1815                 135.0          111.8                      32.75   \n",
       "1816                 233.0           53.1                      33.15   \n",
       "1817                 292.0          262.0                       31.8   \n",
       "\n",
       "     PREVIOUS_FIX_Y PREVIOUS_FIX_Y_RESOLUTION   File Time_Spent Text  Line  \n",
       "1               214                      41.7  CBT_1        281    1   2.0  \n",
       "12             73.3                      41.7  CBT_1        281    1   2.0  \n",
       "13             63.8                      41.8  CBT_1        142    1   2.0  \n",
       "15             77.4                     41.55  CBT_1        210    1   2.0  \n",
       "18             75.8                      41.4  CBT_1        184    1   1.0  \n",
       "...             ...                       ...    ...        ...  ...   ...  \n",
       "1813          270.3                      41.5  CBT_1        366    1  12.0  \n",
       "1814          127.3                      41.5  CBT_1        166    1  12.0  \n",
       "1815           80.8                      42.4  CBT_1        277    1  12.0  \n",
       "1816           56.8                      42.7  CBT_1       1822    1  12.0  \n",
       "1817            156                      41.7  CBT_1        217    1  12.0  \n",
       "\n",
       "[116 rows x 33 columns]"
      ]
     },
     "execution_count": 317,
     "metadata": {},
     "output_type": "execute_result"
    }
   ],
   "source": [
    "data.iloc[anomalies]"
   ]
  },
  {
   "cell_type": "code",
   "execution_count": 318,
   "id": "4d20e669-fdf6-46d0-9ca6-e9168ab35c93",
   "metadata": {
    "scrolled": true
   },
   "outputs": [
    {
     "data": {
      "text/plain": [
       "'CBT_1... '"
      ]
     },
     "metadata": {},
     "output_type": "display_data"
    },
    {
     "data": {
      "text/plain": [
       "'CBT_10... '"
      ]
     },
     "metadata": {},
     "output_type": "display_data"
    },
    {
     "data": {
      "text/plain": [
       "'CBT_11... '"
      ]
     },
     "metadata": {},
     "output_type": "display_data"
    },
    {
     "data": {
      "text/plain": [
       "'CBT_12... '"
      ]
     },
     "metadata": {},
     "output_type": "display_data"
    },
    {
     "data": {
      "text/plain": [
       "'CBT_13... '"
      ]
     },
     "metadata": {},
     "output_type": "display_data"
    },
    {
     "data": {
      "text/plain": [
       "'CBT_14... '"
      ]
     },
     "metadata": {},
     "output_type": "display_data"
    },
    {
     "data": {
      "text/plain": [
       "'CBT_15... '"
      ]
     },
     "metadata": {},
     "output_type": "display_data"
    },
    {
     "data": {
      "text/plain": [
       "'CBT_16... '"
      ]
     },
     "metadata": {},
     "output_type": "display_data"
    },
    {
     "data": {
      "text/plain": [
       "'CBT_17... '"
      ]
     },
     "metadata": {},
     "output_type": "display_data"
    },
    {
     "data": {
      "text/plain": [
       "'CBT_18... '"
      ]
     },
     "metadata": {},
     "output_type": "display_data"
    },
    {
     "data": {
      "text/plain": [
       "'CBT_19... '"
      ]
     },
     "metadata": {},
     "output_type": "display_data"
    },
    {
     "data": {
      "text/plain": [
       "'CBT_2... '"
      ]
     },
     "metadata": {},
     "output_type": "display_data"
    },
    {
     "data": {
      "text/plain": [
       "'CBT_20... '"
      ]
     },
     "metadata": {},
     "output_type": "display_data"
    },
    {
     "data": {
      "text/plain": [
       "'CBT_21... '"
      ]
     },
     "metadata": {},
     "output_type": "display_data"
    },
    {
     "data": {
      "text/plain": [
       "'CBT_22... '"
      ]
     },
     "metadata": {},
     "output_type": "display_data"
    },
    {
     "data": {
      "text/plain": [
       "'CBT_23... '"
      ]
     },
     "metadata": {},
     "output_type": "display_data"
    },
    {
     "data": {
      "text/plain": [
       "'CBT_24... '"
      ]
     },
     "metadata": {},
     "output_type": "display_data"
    },
    {
     "data": {
      "text/plain": [
       "'CBT_25... '"
      ]
     },
     "metadata": {},
     "output_type": "display_data"
    },
    {
     "data": {
      "text/plain": [
       "'CBT_26... '"
      ]
     },
     "metadata": {},
     "output_type": "display_data"
    },
    {
     "data": {
      "text/plain": [
       "'CBT_3... '"
      ]
     },
     "metadata": {},
     "output_type": "display_data"
    },
    {
     "data": {
      "text/plain": [
       "'CBT_4... '"
      ]
     },
     "metadata": {},
     "output_type": "display_data"
    },
    {
     "data": {
      "text/plain": [
       "'CBT_5... '"
      ]
     },
     "metadata": {},
     "output_type": "display_data"
    },
    {
     "data": {
      "text/plain": [
       "'CBT_7... '"
      ]
     },
     "metadata": {},
     "output_type": "display_data"
    },
    {
     "data": {
      "text/plain": [
       "'CBT_8... '"
      ]
     },
     "metadata": {},
     "output_type": "display_data"
    },
    {
     "data": {
      "text/plain": [
       "'CB_1... '"
      ]
     },
     "metadata": {},
     "output_type": "display_data"
    },
    {
     "data": {
      "text/plain": [
       "'CB_10... '"
      ]
     },
     "metadata": {},
     "output_type": "display_data"
    },
    {
     "data": {
      "text/plain": [
       "'CB_11... '"
      ]
     },
     "metadata": {},
     "output_type": "display_data"
    },
    {
     "data": {
      "text/plain": [
       "'CB_12... '"
      ]
     },
     "metadata": {},
     "output_type": "display_data"
    },
    {
     "data": {
      "text/plain": [
       "'CB_13... '"
      ]
     },
     "metadata": {},
     "output_type": "display_data"
    },
    {
     "data": {
      "text/plain": [
       "'CB_14... '"
      ]
     },
     "metadata": {},
     "output_type": "display_data"
    },
    {
     "data": {
      "text/plain": [
       "'CB_15... '"
      ]
     },
     "metadata": {},
     "output_type": "display_data"
    },
    {
     "data": {
      "text/plain": [
       "'CB_16... '"
      ]
     },
     "metadata": {},
     "output_type": "display_data"
    },
    {
     "data": {
      "text/plain": [
       "'CB_17... '"
      ]
     },
     "metadata": {},
     "output_type": "display_data"
    },
    {
     "data": {
      "text/plain": [
       "'CB_18... '"
      ]
     },
     "metadata": {},
     "output_type": "display_data"
    },
    {
     "data": {
      "text/plain": [
       "'CB_19... '"
      ]
     },
     "metadata": {},
     "output_type": "display_data"
    },
    {
     "data": {
      "text/plain": [
       "'CB_2... '"
      ]
     },
     "metadata": {},
     "output_type": "display_data"
    },
    {
     "data": {
      "text/plain": [
       "'CB_20... '"
      ]
     },
     "metadata": {},
     "output_type": "display_data"
    },
    {
     "data": {
      "text/plain": [
       "'CB_21... '"
      ]
     },
     "metadata": {},
     "output_type": "display_data"
    },
    {
     "data": {
      "text/plain": [
       "'CB_22... '"
      ]
     },
     "metadata": {},
     "output_type": "display_data"
    },
    {
     "data": {
      "text/plain": [
       "'CB_23... '"
      ]
     },
     "metadata": {},
     "output_type": "display_data"
    },
    {
     "data": {
      "text/plain": [
       "'CB_24... '"
      ]
     },
     "metadata": {},
     "output_type": "display_data"
    },
    {
     "data": {
      "text/plain": [
       "'CB_25... '"
      ]
     },
     "metadata": {},
     "output_type": "display_data"
    },
    {
     "data": {
      "text/plain": [
       "'CB_26... '"
      ]
     },
     "metadata": {},
     "output_type": "display_data"
    },
    {
     "data": {
      "text/plain": [
       "'CB_3... '"
      ]
     },
     "metadata": {},
     "output_type": "display_data"
    },
    {
     "data": {
      "text/plain": [
       "'CB_4... '"
      ]
     },
     "metadata": {},
     "output_type": "display_data"
    },
    {
     "data": {
      "text/plain": [
       "'CB_5... '"
      ]
     },
     "metadata": {},
     "output_type": "display_data"
    },
    {
     "data": {
      "text/plain": [
       "'CB_7... '"
      ]
     },
     "metadata": {},
     "output_type": "display_data"
    },
    {
     "data": {
      "text/plain": [
       "'CB_8... '"
      ]
     },
     "metadata": {},
     "output_type": "display_data"
    },
    {
     "data": {
      "text/plain": [
       "'GMF_1... '"
      ]
     },
     "metadata": {},
     "output_type": "display_data"
    },
    {
     "data": {
      "text/plain": [
       "'GMF_10... '"
      ]
     },
     "metadata": {},
     "output_type": "display_data"
    },
    {
     "data": {
      "text/plain": [
       "'GMF_11... '"
      ]
     },
     "metadata": {},
     "output_type": "display_data"
    },
    {
     "data": {
      "text/plain": [
       "'GMF_12... '"
      ]
     },
     "metadata": {},
     "output_type": "display_data"
    },
    {
     "data": {
      "text/plain": [
       "'GMF_13... '"
      ]
     },
     "metadata": {},
     "output_type": "display_data"
    },
    {
     "data": {
      "text/plain": [
       "'GMF_14... '"
      ]
     },
     "metadata": {},
     "output_type": "display_data"
    },
    {
     "data": {
      "text/plain": [
       "'GMF_15... '"
      ]
     },
     "metadata": {},
     "output_type": "display_data"
    },
    {
     "data": {
      "text/plain": [
       "'GMF_16... '"
      ]
     },
     "metadata": {},
     "output_type": "display_data"
    },
    {
     "data": {
      "text/plain": [
       "'GMF_17... '"
      ]
     },
     "metadata": {},
     "output_type": "display_data"
    },
    {
     "data": {
      "text/plain": [
       "'GMF_18... '"
      ]
     },
     "metadata": {},
     "output_type": "display_data"
    },
    {
     "data": {
      "text/plain": [
       "'GMF_19... '"
      ]
     },
     "metadata": {},
     "output_type": "display_data"
    },
    {
     "data": {
      "text/plain": [
       "'GMF_2... '"
      ]
     },
     "metadata": {},
     "output_type": "display_data"
    },
    {
     "data": {
      "text/plain": [
       "'GMF_20... '"
      ]
     },
     "metadata": {},
     "output_type": "display_data"
    },
    {
     "data": {
      "text/plain": [
       "'GMF_21... '"
      ]
     },
     "metadata": {},
     "output_type": "display_data"
    },
    {
     "data": {
      "text/plain": [
       "'GMF_22... '"
      ]
     },
     "metadata": {},
     "output_type": "display_data"
    },
    {
     "data": {
      "text/plain": [
       "'GMF_23... '"
      ]
     },
     "metadata": {},
     "output_type": "display_data"
    },
    {
     "data": {
      "text/plain": [
       "'GMF_24... '"
      ]
     },
     "metadata": {},
     "output_type": "display_data"
    },
    {
     "data": {
      "text/plain": [
       "'GMF_25... '"
      ]
     },
     "metadata": {},
     "output_type": "display_data"
    },
    {
     "data": {
      "text/plain": [
       "'GMF_26... '"
      ]
     },
     "metadata": {},
     "output_type": "display_data"
    },
    {
     "data": {
      "text/plain": [
       "'GMF_3... '"
      ]
     },
     "metadata": {},
     "output_type": "display_data"
    },
    {
     "data": {
      "text/plain": [
       "'GMF_4... '"
      ]
     },
     "metadata": {},
     "output_type": "display_data"
    },
    {
     "data": {
      "text/plain": [
       "'GMF_5... '"
      ]
     },
     "metadata": {},
     "output_type": "display_data"
    },
    {
     "data": {
      "text/plain": [
       "'GMF_7... '"
      ]
     },
     "metadata": {},
     "output_type": "display_data"
    },
    {
     "data": {
      "text/plain": [
       "'GMF_8... '"
      ]
     },
     "metadata": {},
     "output_type": "display_data"
    },
    {
     "data": {
      "text/plain": [
       "'LSW_1... '"
      ]
     },
     "metadata": {},
     "output_type": "display_data"
    },
    {
     "data": {
      "text/plain": [
       "'LSW_10... '"
      ]
     },
     "metadata": {},
     "output_type": "display_data"
    },
    {
     "data": {
      "text/plain": [
       "'LSW_11... '"
      ]
     },
     "metadata": {},
     "output_type": "display_data"
    },
    {
     "data": {
      "text/plain": [
       "'LSW_12... '"
      ]
     },
     "metadata": {},
     "output_type": "display_data"
    },
    {
     "data": {
      "text/plain": [
       "'LSW_13... '"
      ]
     },
     "metadata": {},
     "output_type": "display_data"
    },
    {
     "data": {
      "text/plain": [
       "'LSW_14... '"
      ]
     },
     "metadata": {},
     "output_type": "display_data"
    },
    {
     "data": {
      "text/plain": [
       "'LSW_15... '"
      ]
     },
     "metadata": {},
     "output_type": "display_data"
    },
    {
     "data": {
      "text/plain": [
       "'LSW_16... '"
      ]
     },
     "metadata": {},
     "output_type": "display_data"
    },
    {
     "data": {
      "text/plain": [
       "'LSW_17... '"
      ]
     },
     "metadata": {},
     "output_type": "display_data"
    },
    {
     "data": {
      "text/plain": [
       "'LSW_18... '"
      ]
     },
     "metadata": {},
     "output_type": "display_data"
    },
    {
     "data": {
      "text/plain": [
       "'LSW_19... '"
      ]
     },
     "metadata": {},
     "output_type": "display_data"
    },
    {
     "data": {
      "text/plain": [
       "'LSW_2... '"
      ]
     },
     "metadata": {},
     "output_type": "display_data"
    },
    {
     "data": {
      "text/plain": [
       "'LSW_20... '"
      ]
     },
     "metadata": {},
     "output_type": "display_data"
    },
    {
     "data": {
      "text/plain": [
       "'LSW_21... '"
      ]
     },
     "metadata": {},
     "output_type": "display_data"
    },
    {
     "data": {
      "text/plain": [
       "'LSW_22... '"
      ]
     },
     "metadata": {},
     "output_type": "display_data"
    },
    {
     "data": {
      "text/plain": [
       "'LSW_23... '"
      ]
     },
     "metadata": {},
     "output_type": "display_data"
    },
    {
     "data": {
      "text/plain": [
       "'LSW_24... '"
      ]
     },
     "metadata": {},
     "output_type": "display_data"
    },
    {
     "data": {
      "text/plain": [
       "'LSW_25... '"
      ]
     },
     "metadata": {},
     "output_type": "display_data"
    },
    {
     "data": {
      "text/plain": [
       "'LSW_26... '"
      ]
     },
     "metadata": {},
     "output_type": "display_data"
    },
    {
     "data": {
      "text/plain": [
       "'LSW_3... '"
      ]
     },
     "metadata": {},
     "output_type": "display_data"
    },
    {
     "data": {
      "text/plain": [
       "'LSW_4... '"
      ]
     },
     "metadata": {},
     "output_type": "display_data"
    },
    {
     "data": {
      "text/plain": [
       "'LSW_5... '"
      ]
     },
     "metadata": {},
     "output_type": "display_data"
    },
    {
     "data": {
      "text/plain": [
       "'LSW_7... '"
      ]
     },
     "metadata": {},
     "output_type": "display_data"
    },
    {
     "data": {
      "text/plain": [
       "'LSW_8... '"
      ]
     },
     "metadata": {},
     "output_type": "display_data"
    },
    {
     "data": {
      "text/plain": [
       "'Done'"
      ]
     },
     "metadata": {},
     "output_type": "display_data"
    }
   ],
   "source": [
    "seq = pd.DataFrame(columns=[\"start_fix_idx\", \"end_fix_idx\", \"Participant\", \"Break_condition\", \"Class\", \"Overlap_with\"])\n",
    "\n",
    "seq_idx = 0\n",
    "cond = None\n",
    "\n",
    "start_idx, start_fix = 0, data.iloc[0]\n",
    "prefix_idx, prefix, preP = 0, data.iloc[0], ''\n",
    "\n",
    "unread = pd.DataFrame(columns=[\"start_fix_idx\", \"end_fix_idx\"])\n",
    "move_back = None\n",
    "\n",
    "for P in Participants:\n",
    "    display(P + \"... \")\n",
    "    for idx, fix in data[data[\"File\"] == P].iterrows():\n",
    "        # Divide sequences\n",
    "        cond = breakSeq(start_fix, fix, prefix)\n",
    "                \n",
    "        if cond:\n",
    "            if numberFixBetween(start_idx, prefix_idx) >= 3:\n",
    "                seq.loc[seq_idx] = [start_idx, prefix_idx, preP, cond] + classifySeq(start_idx, prefix_idx, seq[seq[\"Participant\"] == P])\n",
    "                seq_idx += 1\n",
    "            start_idx, start_fix = idx, fix\n",
    "            cond = None\n",
    "\n",
    "        prefix_idx, prefix, preP = idx, fix, P\n",
    "        \n",
    "display(\"Done\")"
   ]
  },
  {
   "cell_type": "code",
   "execution_count": 319,
   "id": "01ace65b",
   "metadata": {},
   "outputs": [],
   "source": [
    "seq.to_excel(\"sequences.xlsx\")"
   ]
  },
  {
   "cell_type": "code",
   "execution_count": 320,
   "id": "a1ad1e00",
   "metadata": {},
   "outputs": [],
   "source": [
    "def getMeasurements(FP, SP, data):\n",
    "    return pd.concat([\n",
    "        pd.DataFrame(FP.groupby(\"Participant\").size(), columns=[\"Number of First-Pass\"]),\n",
    "        pd.DataFrame(FP.groupby(\"Participant\").apply(lambda seq : numberFixBetween(seq[\"start_fix_idx\"], seq[\"end_fix_idx\"])).groupby(\"Participant\").sum(), columns=[\"Number of First-Pass Fixations\"]),\n",
    "        pd.DataFrame(FP.set_index(\"Participant\").apply(durationSeq, axis=1).groupby('Participant').sum(), columns=[\"Duration of First-Pass Fixations\"]),\n",
    "        pd.DataFrame(SP.groupby(\"Participant\").size(), columns=[\"Number of Second-Pass\"]),\n",
    "        pd.DataFrame(SP.groupby(\"Participant\").apply(lambda seq : numberFixBetween(seq[\"start_fix_idx\"], seq[\"end_fix_idx\"])).groupby(\"Participant\").sum(), columns=[\"Number of Second-Pass Fixations\"]),\n",
    "        pd.DataFrame(SP.set_index(\"Participant\").apply(durationSeq, axis=1).groupby('Participant').sum(), columns=[\"Duration of Second-Pass Fixations\"]),\n",
    "        \n",
    "        # The number of visits to each text \n",
    "        pd.DataFrame(data.groupby(\"File\")[\"TRIAL_INDEX\"].max().rename(None), columns=[\"Number of visits to each text\"]),\n",
    "        # The total time spent on each text 1\n",
    "        pd.DataFrame(data[data[\"Text\"] == 1].groupby(\"File\").Time_Spent.sum().rename(None), columns=[\"Total time spent on text 1\"]),\n",
    "        # The total time spent on each text 2\n",
    "        pd.DataFrame(data[data[\"Text\"] == 2].groupby(\"File\").Time_Spent.sum().rename(None), columns=[\"Total time spent on text 2\"]),\n",
    "        # The total time spent on each task\n",
    "        pd.DataFrame((data[data[\"Text\"] == 1].groupby(\"File\").Time_Spent.sum() + data[data[\"Text\"] == 2].groupby(\"File\").Time_Spent.sum()).rename(None), columns=[\"Total time spent on each task\"])\n",
    "        # The time spent on relevant paragraphs \n",
    "        # The total time on irrelevant paragraphs \n",
    "    ], axis=1)"
   ]
  },
  {
   "cell_type": "code",
   "execution_count": 321,
   "id": "5b1cc2ee",
   "metadata": {},
   "outputs": [],
   "source": [
    "def descriptiveStatistics(measurements):\n",
    "    return pd.DataFrame([\n",
    "        measurements.mean().rename(\"Mean\"),\n",
    "        measurements.median().rename(\"Median\"),\n",
    "        measurements.max().rename(\"Max\"),\n",
    "        measurements.min().rename(\"Min\"),\n",
    "        measurements.skew().rename(\"Skew\"),\n",
    "        measurements.kurtosis().rename(\"Kurtosis\")])"
   ]
  },
  {
   "cell_type": "code",
   "execution_count": 322,
   "id": "4e160e4c",
   "metadata": {},
   "outputs": [
    {
     "data": {
      "text/html": [
       "<div>\n",
       "<style scoped>\n",
       "    .dataframe tbody tr th:only-of-type {\n",
       "        vertical-align: middle;\n",
       "    }\n",
       "\n",
       "    .dataframe tbody tr th {\n",
       "        vertical-align: top;\n",
       "    }\n",
       "\n",
       "    .dataframe thead th {\n",
       "        text-align: right;\n",
       "    }\n",
       "</style>\n",
       "<table border=\"1\" class=\"dataframe\">\n",
       "  <thead>\n",
       "    <tr style=\"text-align: right;\">\n",
       "      <th></th>\n",
       "      <th>Number of First-Pass</th>\n",
       "      <th>Number of First-Pass Fixations</th>\n",
       "      <th>Duration of First-Pass Fixations</th>\n",
       "      <th>Number of Second-Pass</th>\n",
       "      <th>Number of Second-Pass Fixations</th>\n",
       "      <th>Duration of Second-Pass Fixations</th>\n",
       "      <th>Number of visits to each text</th>\n",
       "      <th>Total time spent on text 1</th>\n",
       "      <th>Total time spent on text 2</th>\n",
       "      <th>Total time spent on each task</th>\n",
       "    </tr>\n",
       "  </thead>\n",
       "  <tbody>\n",
       "    <tr>\n",
       "      <th>CBT_1</th>\n",
       "      <td>72</td>\n",
       "      <td>415</td>\n",
       "      <td>84980</td>\n",
       "      <td>106</td>\n",
       "      <td>559</td>\n",
       "      <td>117418</td>\n",
       "      <td>9</td>\n",
       "      <td>275313</td>\n",
       "      <td>181825</td>\n",
       "      <td>457138</td>\n",
       "    </tr>\n",
       "    <tr>\n",
       "      <th>CBT_10</th>\n",
       "      <td>61</td>\n",
       "      <td>313</td>\n",
       "      <td>73615</td>\n",
       "      <td>38</td>\n",
       "      <td>190</td>\n",
       "      <td>42698</td>\n",
       "      <td>3</td>\n",
       "      <td>179255</td>\n",
       "      <td>119197</td>\n",
       "      <td>298452</td>\n",
       "    </tr>\n",
       "    <tr>\n",
       "      <th>CBT_11</th>\n",
       "      <td>37</td>\n",
       "      <td>205</td>\n",
       "      <td>43828</td>\n",
       "      <td>7</td>\n",
       "      <td>45</td>\n",
       "      <td>9918</td>\n",
       "      <td>2</td>\n",
       "      <td>65475</td>\n",
       "      <td>45224</td>\n",
       "      <td>110699</td>\n",
       "    </tr>\n",
       "    <tr>\n",
       "      <th>CBT_12</th>\n",
       "      <td>91</td>\n",
       "      <td>465</td>\n",
       "      <td>106231</td>\n",
       "      <td>31</td>\n",
       "      <td>178</td>\n",
       "      <td>42303</td>\n",
       "      <td>4</td>\n",
       "      <td>165050</td>\n",
       "      <td>181985</td>\n",
       "      <td>347035</td>\n",
       "    </tr>\n",
       "    <tr>\n",
       "      <th>CBT_13</th>\n",
       "      <td>42</td>\n",
       "      <td>242</td>\n",
       "      <td>48071</td>\n",
       "      <td>2</td>\n",
       "      <td>7</td>\n",
       "      <td>1348</td>\n",
       "      <td>2</td>\n",
       "      <td>55651</td>\n",
       "      <td>49205</td>\n",
       "      <td>104856</td>\n",
       "    </tr>\n",
       "  </tbody>\n",
       "</table>\n",
       "</div>"
      ],
      "text/plain": [
       "        Number of First-Pass  Number of First-Pass Fixations  \\\n",
       "CBT_1                     72                             415   \n",
       "CBT_10                    61                             313   \n",
       "CBT_11                    37                             205   \n",
       "CBT_12                    91                             465   \n",
       "CBT_13                    42                             242   \n",
       "\n",
       "        Duration of First-Pass Fixations  Number of Second-Pass  \\\n",
       "CBT_1                              84980                    106   \n",
       "CBT_10                             73615                     38   \n",
       "CBT_11                             43828                      7   \n",
       "CBT_12                            106231                     31   \n",
       "CBT_13                             48071                      2   \n",
       "\n",
       "        Number of Second-Pass Fixations  Duration of Second-Pass Fixations  \\\n",
       "CBT_1                               559                             117418   \n",
       "CBT_10                              190                              42698   \n",
       "CBT_11                               45                               9918   \n",
       "CBT_12                              178                              42303   \n",
       "CBT_13                                7                               1348   \n",
       "\n",
       "        Number of visits to each text  Total time spent on text 1  \\\n",
       "CBT_1                               9                      275313   \n",
       "CBT_10                              3                      179255   \n",
       "CBT_11                              2                       65475   \n",
       "CBT_12                              4                      165050   \n",
       "CBT_13                              2                       55651   \n",
       "\n",
       "        Total time spent on text 2  Total time spent on each task  \n",
       "CBT_1                       181825                         457138  \n",
       "CBT_10                      119197                         298452  \n",
       "CBT_11                       45224                         110699  \n",
       "CBT_12                      181985                         347035  \n",
       "CBT_13                       49205                         104856  "
      ]
     },
     "execution_count": 322,
     "metadata": {},
     "output_type": "execute_result"
    }
   ],
   "source": [
    "# GROUP 1 (Task CBT, Task LSW)\n",
    "CBT_LSW_seq = seq[seq[\"Participant\"].str.contains(\"CBT_|LSW_\")]\n",
    "CBT_LSW_seq_FP = CBT_LSW_seq[CBT_LSW_seq[\"Class\"].str.contains(\"First Pass\")]\n",
    "CBT_LSW_seq_SP = CBT_LSW_seq[CBT_LSW_seq[\"Class\"].str.contains(\"Second Pass\")]\n",
    "\n",
    "CBT_LSW_data = data[data[\"File\"].str.contains(\"CBT_|LSW_\")]\n",
    "\n",
    "CBT_LSW_measurements = getMeasurements(CBT_LSW_seq_FP, CBT_LSW_seq_SP, CBT_LSW_data)\n",
    "CBT_LSW_measurements.head()"
   ]
  },
  {
   "cell_type": "code",
   "execution_count": 323,
   "id": "cee25db9",
   "metadata": {
    "scrolled": true
   },
   "outputs": [
    {
     "data": {
      "text/html": [
       "<div>\n",
       "<style scoped>\n",
       "    .dataframe tbody tr th:only-of-type {\n",
       "        vertical-align: middle;\n",
       "    }\n",
       "\n",
       "    .dataframe tbody tr th {\n",
       "        vertical-align: top;\n",
       "    }\n",
       "\n",
       "    .dataframe thead th {\n",
       "        text-align: right;\n",
       "    }\n",
       "</style>\n",
       "<table border=\"1\" class=\"dataframe\">\n",
       "  <thead>\n",
       "    <tr style=\"text-align: right;\">\n",
       "      <th></th>\n",
       "      <th>Number of First-Pass</th>\n",
       "      <th>Number of First-Pass Fixations</th>\n",
       "      <th>Duration of First-Pass Fixations</th>\n",
       "      <th>Number of Second-Pass</th>\n",
       "      <th>Number of Second-Pass Fixations</th>\n",
       "      <th>Duration of Second-Pass Fixations</th>\n",
       "      <th>Number of visits to each text</th>\n",
       "      <th>Total time spent on text 1</th>\n",
       "      <th>Total time spent on text 2</th>\n",
       "      <th>Total time spent on each task</th>\n",
       "    </tr>\n",
       "  </thead>\n",
       "  <tbody>\n",
       "    <tr>\n",
       "      <th>CB_1</th>\n",
       "      <td>73</td>\n",
       "      <td>385</td>\n",
       "      <td>76462</td>\n",
       "      <td>81</td>\n",
       "      <td>403</td>\n",
       "      <td>85448</td>\n",
       "      <td>5</td>\n",
       "      <td>187858</td>\n",
       "      <td>171739</td>\n",
       "      <td>359597</td>\n",
       "    </tr>\n",
       "    <tr>\n",
       "      <th>CB_10</th>\n",
       "      <td>48</td>\n",
       "      <td>270</td>\n",
       "      <td>66420</td>\n",
       "      <td>41</td>\n",
       "      <td>214</td>\n",
       "      <td>50115</td>\n",
       "      <td>2</td>\n",
       "      <td>150898</td>\n",
       "      <td>119726</td>\n",
       "      <td>270624</td>\n",
       "    </tr>\n",
       "    <tr>\n",
       "      <th>CB_11</th>\n",
       "      <td>43</td>\n",
       "      <td>267</td>\n",
       "      <td>61869</td>\n",
       "      <td>8</td>\n",
       "      <td>51</td>\n",
       "      <td>11795</td>\n",
       "      <td>2</td>\n",
       "      <td>66132</td>\n",
       "      <td>58842</td>\n",
       "      <td>124974</td>\n",
       "    </tr>\n",
       "    <tr>\n",
       "      <th>CB_12</th>\n",
       "      <td>97</td>\n",
       "      <td>513</td>\n",
       "      <td>115622</td>\n",
       "      <td>43</td>\n",
       "      <td>182</td>\n",
       "      <td>40314</td>\n",
       "      <td>4</td>\n",
       "      <td>222119</td>\n",
       "      <td>196985</td>\n",
       "      <td>419104</td>\n",
       "    </tr>\n",
       "    <tr>\n",
       "      <th>CB_13</th>\n",
       "      <td>39</td>\n",
       "      <td>227</td>\n",
       "      <td>43174</td>\n",
       "      <td>11</td>\n",
       "      <td>64</td>\n",
       "      <td>14636</td>\n",
       "      <td>2</td>\n",
       "      <td>97522</td>\n",
       "      <td>51037</td>\n",
       "      <td>148559</td>\n",
       "    </tr>\n",
       "  </tbody>\n",
       "</table>\n",
       "</div>"
      ],
      "text/plain": [
       "       Number of First-Pass  Number of First-Pass Fixations  \\\n",
       "CB_1                     73                             385   \n",
       "CB_10                    48                             270   \n",
       "CB_11                    43                             267   \n",
       "CB_12                    97                             513   \n",
       "CB_13                    39                             227   \n",
       "\n",
       "       Duration of First-Pass Fixations  Number of Second-Pass  \\\n",
       "CB_1                              76462                     81   \n",
       "CB_10                             66420                     41   \n",
       "CB_11                             61869                      8   \n",
       "CB_12                            115622                     43   \n",
       "CB_13                             43174                     11   \n",
       "\n",
       "       Number of Second-Pass Fixations  Duration of Second-Pass Fixations  \\\n",
       "CB_1                               403                              85448   \n",
       "CB_10                              214                              50115   \n",
       "CB_11                               51                              11795   \n",
       "CB_12                              182                              40314   \n",
       "CB_13                               64                              14636   \n",
       "\n",
       "       Number of visits to each text  Total time spent on text 1  \\\n",
       "CB_1                               5                      187858   \n",
       "CB_10                              2                      150898   \n",
       "CB_11                              2                       66132   \n",
       "CB_12                              4                      222119   \n",
       "CB_13                              2                       97522   \n",
       "\n",
       "       Total time spent on text 2  Total time spent on each task  \n",
       "CB_1                       171739                         359597  \n",
       "CB_10                      119726                         270624  \n",
       "CB_11                       58842                         124974  \n",
       "CB_12                      196985                         419104  \n",
       "CB_13                       51037                         148559  "
      ]
     },
     "execution_count": 323,
     "metadata": {},
     "output_type": "execute_result"
    }
   ],
   "source": [
    "# GROUP 2 (Task GMF, Task CB)\n",
    "GMF_CB_seq = seq[seq[\"Participant\"].str.contains(\"GMF_|CB_\")]\n",
    "GMF_CB_seq_FP = GMF_CB_seq[GMF_CB_seq[\"Class\"].str.contains(\"First Pass\")]\n",
    "GMF_CB_seq_SP = GMF_CB_seq[GMF_CB_seq[\"Class\"].str.contains(\"Second Pass\")]\n",
    "\n",
    "GMF_CB_data = data[data[\"File\"].str.contains(\"GMF_|CB_\")]\n",
    "\n",
    "GMF_CB_measurements = getMeasurements(GMF_CB_seq_FP, GMF_CB_seq_SP, GMF_CB_data)\n",
    "GMF_CB_measurements.head()"
   ]
  },
  {
   "cell_type": "code",
   "execution_count": 324,
   "id": "09d047c0",
   "metadata": {},
   "outputs": [],
   "source": [
    "# SAVE GROUP 1\n",
    "with pd.ExcelWriter('CBT_LSW_measurements.xlsx') as writer:\n",
    "    for col in CBT_LSW_measurements:\n",
    "        CBT_LSW_measurements[[col]].to_excel(writer, sheet_name=col)\n",
    "        \n",
    "# SAVE GROUP 2\n",
    "with pd.ExcelWriter('GMF_CB_measurements.xlsx') as writer:\n",
    "    for col in GMF_CB_measurements:\n",
    "        GMF_CB_measurements[[col]].to_excel(writer, sheet_name=col)"
   ]
  },
  {
   "cell_type": "code",
   "execution_count": 325,
   "id": "dea56b12-32a5-4eee-b748-088b04b5943d",
   "metadata": {},
   "outputs": [
    {
     "data": {
      "text/html": [
       "<div>\n",
       "<style scoped>\n",
       "    .dataframe tbody tr th:only-of-type {\n",
       "        vertical-align: middle;\n",
       "    }\n",
       "\n",
       "    .dataframe tbody tr th {\n",
       "        vertical-align: top;\n",
       "    }\n",
       "\n",
       "    .dataframe thead th {\n",
       "        text-align: right;\n",
       "    }\n",
       "</style>\n",
       "<table border=\"1\" class=\"dataframe\">\n",
       "  <thead>\n",
       "    <tr style=\"text-align: right;\">\n",
       "      <th></th>\n",
       "      <th>Number of First-Pass</th>\n",
       "      <th>Number of First-Pass Fixations</th>\n",
       "      <th>Duration of First-Pass Fixations</th>\n",
       "      <th>Number of Second-Pass</th>\n",
       "      <th>Number of Second-Pass Fixations</th>\n",
       "      <th>Duration of Second-Pass Fixations</th>\n",
       "      <th>Number of visits to each text</th>\n",
       "      <th>Total time spent on text 1</th>\n",
       "      <th>Total time spent on text 2</th>\n",
       "      <th>Total time spent on each task</th>\n",
       "    </tr>\n",
       "  </thead>\n",
       "  <tbody>\n",
       "    <tr>\n",
       "      <th>Mean</th>\n",
       "      <td>52.541667</td>\n",
       "      <td>297.104167</td>\n",
       "      <td>71359.145833</td>\n",
       "      <td>35.083333</td>\n",
       "      <td>201.645833</td>\n",
       "      <td>47673.416667</td>\n",
       "      <td>3.541667</td>\n",
       "      <td>153509.854167</td>\n",
       "      <td>144304.791667</td>\n",
       "      <td>297814.645833</td>\n",
       "    </tr>\n",
       "    <tr>\n",
       "      <th>Median</th>\n",
       "      <td>48.000000</td>\n",
       "      <td>293.500000</td>\n",
       "      <td>70309.500000</td>\n",
       "      <td>30.500000</td>\n",
       "      <td>184.000000</td>\n",
       "      <td>42500.500000</td>\n",
       "      <td>3.000000</td>\n",
       "      <td>131866.000000</td>\n",
       "      <td>135996.500000</td>\n",
       "      <td>264225.000000</td>\n",
       "    </tr>\n",
       "    <tr>\n",
       "      <th>Max</th>\n",
       "      <td>91.000000</td>\n",
       "      <td>594.000000</td>\n",
       "      <td>162554.000000</td>\n",
       "      <td>106.000000</td>\n",
       "      <td>698.000000</td>\n",
       "      <td>147176.000000</td>\n",
       "      <td>10.000000</td>\n",
       "      <td>406470.000000</td>\n",
       "      <td>334264.000000</td>\n",
       "      <td>608577.000000</td>\n",
       "    </tr>\n",
       "    <tr>\n",
       "      <th>Min</th>\n",
       "      <td>23.000000</td>\n",
       "      <td>82.000000</td>\n",
       "      <td>21856.000000</td>\n",
       "      <td>2.000000</td>\n",
       "      <td>7.000000</td>\n",
       "      <td>1348.000000</td>\n",
       "      <td>2.000000</td>\n",
       "      <td>55651.000000</td>\n",
       "      <td>45224.000000</td>\n",
       "      <td>104856.000000</td>\n",
       "    </tr>\n",
       "    <tr>\n",
       "      <th>Skew</th>\n",
       "      <td>0.428295</td>\n",
       "      <td>0.225677</td>\n",
       "      <td>0.691721</td>\n",
       "      <td>0.896599</td>\n",
       "      <td>1.008888</td>\n",
       "      <td>0.898826</td>\n",
       "      <td>1.792086</td>\n",
       "      <td>1.106829</td>\n",
       "      <td>0.744071</td>\n",
       "      <td>0.608325</td>\n",
       "    </tr>\n",
       "    <tr>\n",
       "      <th>Kurtosis</th>\n",
       "      <td>-0.675009</td>\n",
       "      <td>-0.043563</td>\n",
       "      <td>1.061163</td>\n",
       "      <td>0.026587</td>\n",
       "      <td>0.396435</td>\n",
       "      <td>-0.030975</td>\n",
       "      <td>4.150513</td>\n",
       "      <td>1.003288</td>\n",
       "      <td>0.172845</td>\n",
       "      <td>-0.410171</td>\n",
       "    </tr>\n",
       "  </tbody>\n",
       "</table>\n",
       "</div>"
      ],
      "text/plain": [
       "          Number of First-Pass  Number of First-Pass Fixations  \\\n",
       "Mean                 52.541667                      297.104167   \n",
       "Median               48.000000                      293.500000   \n",
       "Max                  91.000000                      594.000000   \n",
       "Min                  23.000000                       82.000000   \n",
       "Skew                  0.428295                        0.225677   \n",
       "Kurtosis             -0.675009                       -0.043563   \n",
       "\n",
       "          Duration of First-Pass Fixations  Number of Second-Pass  \\\n",
       "Mean                          71359.145833              35.083333   \n",
       "Median                        70309.500000              30.500000   \n",
       "Max                          162554.000000             106.000000   \n",
       "Min                           21856.000000               2.000000   \n",
       "Skew                              0.691721               0.896599   \n",
       "Kurtosis                          1.061163               0.026587   \n",
       "\n",
       "          Number of Second-Pass Fixations  Duration of Second-Pass Fixations  \\\n",
       "Mean                           201.645833                       47673.416667   \n",
       "Median                         184.000000                       42500.500000   \n",
       "Max                            698.000000                      147176.000000   \n",
       "Min                              7.000000                        1348.000000   \n",
       "Skew                             1.008888                           0.898826   \n",
       "Kurtosis                         0.396435                          -0.030975   \n",
       "\n",
       "          Number of visits to each text  Total time spent on text 1  \\\n",
       "Mean                           3.541667               153509.854167   \n",
       "Median                         3.000000               131866.000000   \n",
       "Max                           10.000000               406470.000000   \n",
       "Min                            2.000000                55651.000000   \n",
       "Skew                           1.792086                    1.106829   \n",
       "Kurtosis                       4.150513                    1.003288   \n",
       "\n",
       "          Total time spent on text 2  Total time spent on each task  \n",
       "Mean                   144304.791667                  297814.645833  \n",
       "Median                 135996.500000                  264225.000000  \n",
       "Max                    334264.000000                  608577.000000  \n",
       "Min                     45224.000000                  104856.000000  \n",
       "Skew                        0.744071                       0.608325  \n",
       "Kurtosis                    0.172845                      -0.410171  "
      ]
     },
     "execution_count": 325,
     "metadata": {},
     "output_type": "execute_result"
    }
   ],
   "source": [
    "descriptiveStatistics(CBT_LSW_measurements)"
   ]
  },
  {
   "cell_type": "code",
   "execution_count": 326,
   "id": "4c787cce-8c04-4d6c-8fbb-1b60126d845a",
   "metadata": {},
   "outputs": [
    {
     "data": {
      "text/html": [
       "<div>\n",
       "<style scoped>\n",
       "    .dataframe tbody tr th:only-of-type {\n",
       "        vertical-align: middle;\n",
       "    }\n",
       "\n",
       "    .dataframe tbody tr th {\n",
       "        vertical-align: top;\n",
       "    }\n",
       "\n",
       "    .dataframe thead th {\n",
       "        text-align: right;\n",
       "    }\n",
       "</style>\n",
       "<table border=\"1\" class=\"dataframe\">\n",
       "  <thead>\n",
       "    <tr style=\"text-align: right;\">\n",
       "      <th></th>\n",
       "      <th>Number of First-Pass</th>\n",
       "      <th>Number of First-Pass Fixations</th>\n",
       "      <th>Duration of First-Pass Fixations</th>\n",
       "      <th>Number of Second-Pass</th>\n",
       "      <th>Number of Second-Pass Fixations</th>\n",
       "      <th>Duration of Second-Pass Fixations</th>\n",
       "      <th>Number of visits to each text</th>\n",
       "      <th>Total time spent on text 1</th>\n",
       "      <th>Total time spent on text 2</th>\n",
       "      <th>Total time spent on each task</th>\n",
       "    </tr>\n",
       "  </thead>\n",
       "  <tbody>\n",
       "    <tr>\n",
       "      <th>Mean</th>\n",
       "      <td>53.041667</td>\n",
       "      <td>302.895833</td>\n",
       "      <td>72201.270833</td>\n",
       "      <td>40.458333</td>\n",
       "      <td>225.916667</td>\n",
       "      <td>53079.041667</td>\n",
       "      <td>3.729167</td>\n",
       "      <td>162891.916667</td>\n",
       "      <td>148638.020833</td>\n",
       "      <td>311529.937500</td>\n",
       "    </tr>\n",
       "    <tr>\n",
       "      <th>Median</th>\n",
       "      <td>50.000000</td>\n",
       "      <td>277.000000</td>\n",
       "      <td>65864.500000</td>\n",
       "      <td>32.000000</td>\n",
       "      <td>174.500000</td>\n",
       "      <td>39850.000000</td>\n",
       "      <td>3.500000</td>\n",
       "      <td>144197.000000</td>\n",
       "      <td>120068.500000</td>\n",
       "      <td>285251.000000</td>\n",
       "    </tr>\n",
       "    <tr>\n",
       "      <th>Max</th>\n",
       "      <td>99.000000</td>\n",
       "      <td>543.000000</td>\n",
       "      <td>153788.000000</td>\n",
       "      <td>153.000000</td>\n",
       "      <td>848.000000</td>\n",
       "      <td>201550.000000</td>\n",
       "      <td>14.000000</td>\n",
       "      <td>411504.000000</td>\n",
       "      <td>386471.000000</td>\n",
       "      <td>707214.000000</td>\n",
       "    </tr>\n",
       "    <tr>\n",
       "      <th>Min</th>\n",
       "      <td>22.000000</td>\n",
       "      <td>83.000000</td>\n",
       "      <td>21288.000000</td>\n",
       "      <td>1.000000</td>\n",
       "      <td>3.000000</td>\n",
       "      <td>598.000000</td>\n",
       "      <td>2.000000</td>\n",
       "      <td>64021.000000</td>\n",
       "      <td>51037.000000</td>\n",
       "      <td>124974.000000</td>\n",
       "    </tr>\n",
       "    <tr>\n",
       "      <th>Skew</th>\n",
       "      <td>0.750831</td>\n",
       "      <td>0.210854</td>\n",
       "      <td>0.529743</td>\n",
       "      <td>1.250187</td>\n",
       "      <td>1.307771</td>\n",
       "      <td>1.212461</td>\n",
       "      <td>2.449495</td>\n",
       "      <td>1.215621</td>\n",
       "      <td>1.068585</td>\n",
       "      <td>0.922673</td>\n",
       "    </tr>\n",
       "    <tr>\n",
       "      <th>Kurtosis</th>\n",
       "      <td>0.639553</td>\n",
       "      <td>-0.459229</td>\n",
       "      <td>0.483687</td>\n",
       "      <td>1.327834</td>\n",
       "      <td>1.397566</td>\n",
       "      <td>1.059815</td>\n",
       "      <td>9.132352</td>\n",
       "      <td>1.377640</td>\n",
       "      <td>0.952787</td>\n",
       "      <td>0.208361</td>\n",
       "    </tr>\n",
       "  </tbody>\n",
       "</table>\n",
       "</div>"
      ],
      "text/plain": [
       "          Number of First-Pass  Number of First-Pass Fixations  \\\n",
       "Mean                 53.041667                      302.895833   \n",
       "Median               50.000000                      277.000000   \n",
       "Max                  99.000000                      543.000000   \n",
       "Min                  22.000000                       83.000000   \n",
       "Skew                  0.750831                        0.210854   \n",
       "Kurtosis              0.639553                       -0.459229   \n",
       "\n",
       "          Duration of First-Pass Fixations  Number of Second-Pass  \\\n",
       "Mean                          72201.270833              40.458333   \n",
       "Median                        65864.500000              32.000000   \n",
       "Max                          153788.000000             153.000000   \n",
       "Min                           21288.000000               1.000000   \n",
       "Skew                              0.529743               1.250187   \n",
       "Kurtosis                          0.483687               1.327834   \n",
       "\n",
       "          Number of Second-Pass Fixations  Duration of Second-Pass Fixations  \\\n",
       "Mean                           225.916667                       53079.041667   \n",
       "Median                         174.500000                       39850.000000   \n",
       "Max                            848.000000                      201550.000000   \n",
       "Min                              3.000000                         598.000000   \n",
       "Skew                             1.307771                           1.212461   \n",
       "Kurtosis                         1.397566                           1.059815   \n",
       "\n",
       "          Number of visits to each text  Total time spent on text 1  \\\n",
       "Mean                           3.729167               162891.916667   \n",
       "Median                         3.500000               144197.000000   \n",
       "Max                           14.000000               411504.000000   \n",
       "Min                            2.000000                64021.000000   \n",
       "Skew                           2.449495                    1.215621   \n",
       "Kurtosis                       9.132352                    1.377640   \n",
       "\n",
       "          Total time spent on text 2  Total time spent on each task  \n",
       "Mean                   148638.020833                  311529.937500  \n",
       "Median                 120068.500000                  285251.000000  \n",
       "Max                    386471.000000                  707214.000000  \n",
       "Min                     51037.000000                  124974.000000  \n",
       "Skew                        1.068585                       0.922673  \n",
       "Kurtosis                    0.952787                       0.208361  "
      ]
     },
     "execution_count": 326,
     "metadata": {},
     "output_type": "execute_result"
    }
   ],
   "source": [
    "descriptiveStatistics(GMF_CB_measurements)"
   ]
  }
 ],
 "metadata": {
  "kernelspec": {
   "display_name": "Python 3 (ipykernel)",
   "language": "python",
   "name": "python3"
  },
  "language_info": {
   "codemirror_mode": {
    "name": "ipython",
    "version": 3
   },
   "file_extension": ".py",
   "mimetype": "text/x-python",
   "name": "python",
   "nbconvert_exporter": "python",
   "pygments_lexer": "ipython3",
   "version": "3.11.3"
  }
 },
 "nbformat": 4,
 "nbformat_minor": 5
}
