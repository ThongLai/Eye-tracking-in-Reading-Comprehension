{
 "cells": [
  {
   "cell_type": "code",
   "execution_count": 1,
   "id": "11fc405e-df29-4a15-a63f-db35fb5248f9",
   "metadata": {},
   "outputs": [],
   "source": [
    "import numpy as np\n",
    "import pandas as pd\n",
    "import glob\n",
    "import os\n",
    "import warnings\n",
    "import matplotlib.pyplot as plt\n",
    "import scipy.stats as stats\n",
    "\n",
    "warnings.filterwarnings('ignore')"
   ]
  },
  {
   "cell_type": "code",
   "execution_count": 2,
   "id": "0e75c04d-4ed5-4f51-922c-c1ce8b289b17",
   "metadata": {
    "scrolled": false
   },
   "outputs": [
    {
     "data": {
      "text/html": [
       "<div>\n",
       "<style scoped>\n",
       "    .dataframe tbody tr th:only-of-type {\n",
       "        vertical-align: middle;\n",
       "    }\n",
       "\n",
       "    .dataframe tbody tr th {\n",
       "        vertical-align: top;\n",
       "    }\n",
       "\n",
       "    .dataframe thead th {\n",
       "        text-align: right;\n",
       "    }\n",
       "</style>\n",
       "<table border=\"1\" class=\"dataframe\">\n",
       "  <thead>\n",
       "    <tr style=\"text-align: right;\">\n",
       "      <th></th>\n",
       "      <th>Line</th>\n",
       "      <th>Y_Start</th>\n",
       "      <th>Y_End</th>\n",
       "    </tr>\n",
       "  </thead>\n",
       "  <tbody>\n",
       "    <tr>\n",
       "      <th>0</th>\n",
       "      <td>1</td>\n",
       "      <td>20</td>\n",
       "      <td>68</td>\n",
       "    </tr>\n",
       "    <tr>\n",
       "      <th>1</th>\n",
       "      <td>2</td>\n",
       "      <td>68</td>\n",
       "      <td>116</td>\n",
       "    </tr>\n",
       "    <tr>\n",
       "      <th>2</th>\n",
       "      <td>3</td>\n",
       "      <td>116</td>\n",
       "      <td>164</td>\n",
       "    </tr>\n",
       "    <tr>\n",
       "      <th>3</th>\n",
       "      <td>4</td>\n",
       "      <td>164</td>\n",
       "      <td>212</td>\n",
       "    </tr>\n",
       "    <tr>\n",
       "      <th>4</th>\n",
       "      <td>5</td>\n",
       "      <td>212</td>\n",
       "      <td>260</td>\n",
       "    </tr>\n",
       "    <tr>\n",
       "      <th>5</th>\n",
       "      <td>6</td>\n",
       "      <td>260</td>\n",
       "      <td>308</td>\n",
       "    </tr>\n",
       "    <tr>\n",
       "      <th>6</th>\n",
       "      <td>7</td>\n",
       "      <td>308</td>\n",
       "      <td>356</td>\n",
       "    </tr>\n",
       "    <tr>\n",
       "      <th>7</th>\n",
       "      <td>8</td>\n",
       "      <td>356</td>\n",
       "      <td>404</td>\n",
       "    </tr>\n",
       "    <tr>\n",
       "      <th>8</th>\n",
       "      <td>9</td>\n",
       "      <td>404</td>\n",
       "      <td>452</td>\n",
       "    </tr>\n",
       "    <tr>\n",
       "      <th>9</th>\n",
       "      <td>10</td>\n",
       "      <td>452</td>\n",
       "      <td>500</td>\n",
       "    </tr>\n",
       "    <tr>\n",
       "      <th>10</th>\n",
       "      <td>11</td>\n",
       "      <td>500</td>\n",
       "      <td>548</td>\n",
       "    </tr>\n",
       "    <tr>\n",
       "      <th>11</th>\n",
       "      <td>12</td>\n",
       "      <td>548</td>\n",
       "      <td>596</td>\n",
       "    </tr>\n",
       "    <tr>\n",
       "      <th>12</th>\n",
       "      <td>13</td>\n",
       "      <td>596</td>\n",
       "      <td>644</td>\n",
       "    </tr>\n",
       "    <tr>\n",
       "      <th>13</th>\n",
       "      <td>14</td>\n",
       "      <td>644</td>\n",
       "      <td>692</td>\n",
       "    </tr>\n",
       "    <tr>\n",
       "      <th>14</th>\n",
       "      <td>15</td>\n",
       "      <td>692</td>\n",
       "      <td>740</td>\n",
       "    </tr>\n",
       "  </tbody>\n",
       "</table>\n",
       "</div>"
      ],
      "text/plain": [
       "    Line  Y_Start  Y_End\n",
       "0      1       20     68\n",
       "1      2       68    116\n",
       "2      3      116    164\n",
       "3      4      164    212\n",
       "4      5      212    260\n",
       "5      6      260    308\n",
       "6      7      308    356\n",
       "7      8      356    404\n",
       "8      9      404    452\n",
       "9     10      452    500\n",
       "10    11      500    548\n",
       "11    12      548    596\n",
       "12    13      596    644\n",
       "13    14      644    692\n",
       "14    15      692    740"
      ]
     },
     "execution_count": 2,
     "metadata": {},
     "output_type": "execute_result"
    }
   ],
   "source": [
    "Lines = pd.read_csv(\"Lines.csv\")\n",
    "Lines"
   ]
  },
  {
   "cell_type": "code",
   "execution_count": 3,
   "id": "534cf7eb-d4d2-4a25-92cf-98d07b05c6d9",
   "metadata": {
    "scrolled": true
   },
   "outputs": [],
   "source": [
    "all_files = glob.glob('Data/*.csv')\n",
    "\n",
    "li = []\n",
    "\n",
    "for filename in all_files:\n",
    "    df = pd.read_csv(filename, index_col=None, header=0)\n",
    "    df[\"File\"] = filename[5:-4]\n",
    "    li.append(df)\n",
    "\n",
    "data_raw = pd.concat(li, axis=0, ignore_index=True)\n",
    "data_raw[\"PREVIOUS_FIX_END\"][data_raw[\"PREVIOUS_FIX_END\"] == '.'] = data_raw[\"CURRENT_FIX_START\"]\n",
    "data_raw[\"PREVIOUS_FIX_END\"] = data_raw[\"PREVIOUS_FIX_END\"].astype(int)\n",
    "data_raw[\"PREVIOUS_FIX_X\"][data_raw[\"PREVIOUS_FIX_X\"] == '.'] = data_raw[\"CURRENT_FIX_X\"]\n",
    "data_raw[\"PREVIOUS_FIX_X\"] = data_raw[\"PREVIOUS_FIX_X\"].astype(float)\n",
    "data_raw[\"PREVIOUS_FIX_DURATION\"][data_raw[\"PREVIOUS_FIX_DURATION\"] == '.'] = data_raw[\"CURRENT_FIX_DURATION\"]\n",
    "data_raw[\"PREVIOUS_FIX_DURATION\"] = data_raw[\"PREVIOUS_FIX_DURATION\"].astype(float)"
   ]
  },
  {
   "cell_type": "code",
   "execution_count": 4,
   "id": "294f63c1",
   "metadata": {
    "scrolled": false
   },
   "outputs": [
    {
     "data": {
      "text/html": [
       "<div>\n",
       "<style scoped>\n",
       "    .dataframe tbody tr th:only-of-type {\n",
       "        vertical-align: middle;\n",
       "    }\n",
       "\n",
       "    .dataframe tbody tr th {\n",
       "        vertical-align: top;\n",
       "    }\n",
       "\n",
       "    .dataframe thead th {\n",
       "        text-align: right;\n",
       "    }\n",
       "</style>\n",
       "<table border=\"1\" class=\"dataframe\">\n",
       "  <thead>\n",
       "    <tr style=\"text-align: right;\">\n",
       "      <th></th>\n",
       "      <th>RECORDING_SESSION_LABEL</th>\n",
       "      <th>TRIAL_INDEX</th>\n",
       "      <th>EYE_USED</th>\n",
       "      <th>CURRENT_FIX_INDEX</th>\n",
       "      <th>CURRENT_FIX_START</th>\n",
       "      <th>CURRENT_FIX_END</th>\n",
       "      <th>CURRENT_FIX_DURATION</th>\n",
       "      <th>CURRENT_FIX_X</th>\n",
       "      <th>CURRENT_FIX_X_RESOLUTION</th>\n",
       "      <th>CURRENT_FIX_Y</th>\n",
       "      <th>...</th>\n",
       "      <th>PREVIOUS_FIX_DISTANCE</th>\n",
       "      <th>PREVIOUS_FIX_START</th>\n",
       "      <th>PREVIOUS_FIX_END</th>\n",
       "      <th>PREVIOUS_FIX_DURATION</th>\n",
       "      <th>PREVIOUS_FIX_X</th>\n",
       "      <th>PREVIOUS_FIX_X_RESOLUTION</th>\n",
       "      <th>PREVIOUS_FIX_Y</th>\n",
       "      <th>PREVIOUS_FIX_Y_RESOLUTION</th>\n",
       "      <th>File</th>\n",
       "      <th>Line</th>\n",
       "    </tr>\n",
       "  </thead>\n",
       "  <tbody>\n",
       "    <tr>\n",
       "      <th>0</th>\n",
       "      <td>1</td>\n",
       "      <td>1</td>\n",
       "      <td>RIGHT</td>\n",
       "      <td>1</td>\n",
       "      <td>7</td>\n",
       "      <td>112</td>\n",
       "      <td>106</td>\n",
       "      <td>737.9</td>\n",
       "      <td>31.70</td>\n",
       "      <td>214.0</td>\n",
       "      <td>...</td>\n",
       "      <td>.</td>\n",
       "      <td>.</td>\n",
       "      <td>7</td>\n",
       "      <td>106.0</td>\n",
       "      <td>737.9</td>\n",
       "      <td>.</td>\n",
       "      <td>.</td>\n",
       "      <td>.</td>\n",
       "      <td>CBT_1</td>\n",
       "      <td>5.0</td>\n",
       "    </tr>\n",
       "    <tr>\n",
       "      <th>1</th>\n",
       "      <td>1</td>\n",
       "      <td>1</td>\n",
       "      <td>RIGHT</td>\n",
       "      <td>2</td>\n",
       "      <td>185</td>\n",
       "      <td>401</td>\n",
       "      <td>217</td>\n",
       "      <td>414.1</td>\n",
       "      <td>32.00</td>\n",
       "      <td>634.5</td>\n",
       "      <td>...</td>\n",
       "      <td>14.19</td>\n",
       "      <td>7</td>\n",
       "      <td>112</td>\n",
       "      <td>106.0</td>\n",
       "      <td>737.9</td>\n",
       "      <td>31.7</td>\n",
       "      <td>214</td>\n",
       "      <td>41.7</td>\n",
       "      <td>CBT_1</td>\n",
       "      <td>13.0</td>\n",
       "    </tr>\n",
       "    <tr>\n",
       "      <th>2</th>\n",
       "      <td>1</td>\n",
       "      <td>1</td>\n",
       "      <td>RIGHT</td>\n",
       "      <td>3</td>\n",
       "      <td>466</td>\n",
       "      <td>884</td>\n",
       "      <td>419</td>\n",
       "      <td>352.8</td>\n",
       "      <td>31.50</td>\n",
       "      <td>215.4</td>\n",
       "      <td>...</td>\n",
       "      <td>10.07</td>\n",
       "      <td>185</td>\n",
       "      <td>401</td>\n",
       "      <td>217.0</td>\n",
       "      <td>414.1</td>\n",
       "      <td>32</td>\n",
       "      <td>634.5</td>\n",
       "      <td>43.2</td>\n",
       "      <td>CBT_1</td>\n",
       "      <td>5.0</td>\n",
       "    </tr>\n",
       "    <tr>\n",
       "      <th>3</th>\n",
       "      <td>1</td>\n",
       "      <td>1</td>\n",
       "      <td>RIGHT</td>\n",
       "      <td>4</td>\n",
       "      <td>914</td>\n",
       "      <td>1176</td>\n",
       "      <td>263</td>\n",
       "      <td>413.8</td>\n",
       "      <td>31.30</td>\n",
       "      <td>203.6</td>\n",
       "      <td>...</td>\n",
       "      <td>1.96</td>\n",
       "      <td>466</td>\n",
       "      <td>884</td>\n",
       "      <td>419.0</td>\n",
       "      <td>352.8</td>\n",
       "      <td>31.5</td>\n",
       "      <td>215.4</td>\n",
       "      <td>41.6</td>\n",
       "      <td>CBT_1</td>\n",
       "      <td>4.0</td>\n",
       "    </tr>\n",
       "    <tr>\n",
       "      <th>4</th>\n",
       "      <td>1</td>\n",
       "      <td>1</td>\n",
       "      <td>RIGHT</td>\n",
       "      <td>5</td>\n",
       "      <td>1197</td>\n",
       "      <td>1362</td>\n",
       "      <td>166</td>\n",
       "      <td>478.1</td>\n",
       "      <td>31.30</td>\n",
       "      <td>209.9</td>\n",
       "      <td>...</td>\n",
       "      <td>2.06</td>\n",
       "      <td>914</td>\n",
       "      <td>1176</td>\n",
       "      <td>263.0</td>\n",
       "      <td>413.8</td>\n",
       "      <td>31.3</td>\n",
       "      <td>203.6</td>\n",
       "      <td>41.5</td>\n",
       "      <td>CBT_1</td>\n",
       "      <td>4.0</td>\n",
       "    </tr>\n",
       "    <tr>\n",
       "      <th>...</th>\n",
       "      <td>...</td>\n",
       "      <td>...</td>\n",
       "      <td>...</td>\n",
       "      <td>...</td>\n",
       "      <td>...</td>\n",
       "      <td>...</td>\n",
       "      <td>...</td>\n",
       "      <td>...</td>\n",
       "      <td>...</td>\n",
       "      <td>...</td>\n",
       "      <td>...</td>\n",
       "      <td>...</td>\n",
       "      <td>...</td>\n",
       "      <td>...</td>\n",
       "      <td>...</td>\n",
       "      <td>...</td>\n",
       "      <td>...</td>\n",
       "      <td>...</td>\n",
       "      <td>...</td>\n",
       "      <td>...</td>\n",
       "      <td>...</td>\n",
       "    </tr>\n",
       "    <tr>\n",
       "      <th>100121</th>\n",
       "      <td>8</td>\n",
       "      <td>3</td>\n",
       "      <td>LEFT</td>\n",
       "      <td>103</td>\n",
       "      <td>27530</td>\n",
       "      <td>27762</td>\n",
       "      <td>233</td>\n",
       "      <td>758.1</td>\n",
       "      <td>32.55</td>\n",
       "      <td>659.8</td>\n",
       "      <td>...</td>\n",
       "      <td>13.92</td>\n",
       "      <td>27314</td>\n",
       "      <td>27474</td>\n",
       "      <td>161.0</td>\n",
       "      <td>306.0</td>\n",
       "      <td>32.4</td>\n",
       "      <td>669.4</td>\n",
       "      <td>43.7</td>\n",
       "      <td>LSW_8</td>\n",
       "      <td>14.0</td>\n",
       "    </tr>\n",
       "    <tr>\n",
       "      <th>100122</th>\n",
       "      <td>8</td>\n",
       "      <td>3</td>\n",
       "      <td>LEFT</td>\n",
       "      <td>104</td>\n",
       "      <td>27803</td>\n",
       "      <td>28114</td>\n",
       "      <td>312</td>\n",
       "      <td>936.0</td>\n",
       "      <td>33.70</td>\n",
       "      <td>658.7</td>\n",
       "      <td>...</td>\n",
       "      <td>5.37</td>\n",
       "      <td>27530</td>\n",
       "      <td>27762</td>\n",
       "      <td>233.0</td>\n",
       "      <td>758.1</td>\n",
       "      <td>32.55</td>\n",
       "      <td>659.8</td>\n",
       "      <td>43.7</td>\n",
       "      <td>LSW_8</td>\n",
       "      <td>14.0</td>\n",
       "    </tr>\n",
       "    <tr>\n",
       "      <th>100123</th>\n",
       "      <td>8</td>\n",
       "      <td>3</td>\n",
       "      <td>LEFT</td>\n",
       "      <td>105</td>\n",
       "      <td>28174</td>\n",
       "      <td>28492</td>\n",
       "      <td>319</td>\n",
       "      <td>438.4</td>\n",
       "      <td>32.15</td>\n",
       "      <td>703.3</td>\n",
       "      <td>...</td>\n",
       "      <td>15.15</td>\n",
       "      <td>27803</td>\n",
       "      <td>28114</td>\n",
       "      <td>312.0</td>\n",
       "      <td>936.0</td>\n",
       "      <td>33.7</td>\n",
       "      <td>658.7</td>\n",
       "      <td>44.45</td>\n",
       "      <td>LSW_8</td>\n",
       "      <td>15.0</td>\n",
       "    </tr>\n",
       "    <tr>\n",
       "      <th>100124</th>\n",
       "      <td>8</td>\n",
       "      <td>3</td>\n",
       "      <td>LEFT</td>\n",
       "      <td>106</td>\n",
       "      <td>28531</td>\n",
       "      <td>28736</td>\n",
       "      <td>206</td>\n",
       "      <td>238.3</td>\n",
       "      <td>32.85</td>\n",
       "      <td>721.7</td>\n",
       "      <td>...</td>\n",
       "      <td>6.17</td>\n",
       "      <td>28174</td>\n",
       "      <td>28492</td>\n",
       "      <td>319.0</td>\n",
       "      <td>438.4</td>\n",
       "      <td>32.15</td>\n",
       "      <td>703.3</td>\n",
       "      <td>43.75</td>\n",
       "      <td>LSW_8</td>\n",
       "      <td>15.0</td>\n",
       "    </tr>\n",
       "    <tr>\n",
       "      <th>100125</th>\n",
       "      <td>8</td>\n",
       "      <td>3</td>\n",
       "      <td>LEFT</td>\n",
       "      <td>107</td>\n",
       "      <td>28788</td>\n",
       "      <td>29092</td>\n",
       "      <td>305</td>\n",
       "      <td>68.7</td>\n",
       "      <td>33.95</td>\n",
       "      <td>724.3</td>\n",
       "      <td>...</td>\n",
       "      <td>5.08</td>\n",
       "      <td>28531</td>\n",
       "      <td>28736</td>\n",
       "      <td>206.0</td>\n",
       "      <td>238.3</td>\n",
       "      <td>32.85</td>\n",
       "      <td>721.7</td>\n",
       "      <td>44.3</td>\n",
       "      <td>LSW_8</td>\n",
       "      <td>15.0</td>\n",
       "    </tr>\n",
       "  </tbody>\n",
       "</table>\n",
       "<p>100126 rows × 31 columns</p>\n",
       "</div>"
      ],
      "text/plain": [
       "        RECORDING_SESSION_LABEL  TRIAL_INDEX EYE_USED  CURRENT_FIX_INDEX  \\\n",
       "0                             1            1    RIGHT                  1   \n",
       "1                             1            1    RIGHT                  2   \n",
       "2                             1            1    RIGHT                  3   \n",
       "3                             1            1    RIGHT                  4   \n",
       "4                             1            1    RIGHT                  5   \n",
       "...                         ...          ...      ...                ...   \n",
       "100121                        8            3     LEFT                103   \n",
       "100122                        8            3     LEFT                104   \n",
       "100123                        8            3     LEFT                105   \n",
       "100124                        8            3     LEFT                106   \n",
       "100125                        8            3     LEFT                107   \n",
       "\n",
       "        CURRENT_FIX_START  CURRENT_FIX_END  CURRENT_FIX_DURATION  \\\n",
       "0                       7              112                   106   \n",
       "1                     185              401                   217   \n",
       "2                     466              884                   419   \n",
       "3                     914             1176                   263   \n",
       "4                    1197             1362                   166   \n",
       "...                   ...              ...                   ...   \n",
       "100121              27530            27762                   233   \n",
       "100122              27803            28114                   312   \n",
       "100123              28174            28492                   319   \n",
       "100124              28531            28736                   206   \n",
       "100125              28788            29092                   305   \n",
       "\n",
       "        CURRENT_FIX_X  CURRENT_FIX_X_RESOLUTION  CURRENT_FIX_Y  ...  \\\n",
       "0               737.9                     31.70          214.0  ...   \n",
       "1               414.1                     32.00          634.5  ...   \n",
       "2               352.8                     31.50          215.4  ...   \n",
       "3               413.8                     31.30          203.6  ...   \n",
       "4               478.1                     31.30          209.9  ...   \n",
       "...               ...                       ...            ...  ...   \n",
       "100121          758.1                     32.55          659.8  ...   \n",
       "100122          936.0                     33.70          658.7  ...   \n",
       "100123          438.4                     32.15          703.3  ...   \n",
       "100124          238.3                     32.85          721.7  ...   \n",
       "100125           68.7                     33.95          724.3  ...   \n",
       "\n",
       "        PREVIOUS_FIX_DISTANCE PREVIOUS_FIX_START PREVIOUS_FIX_END  \\\n",
       "0                           .                  .                7   \n",
       "1                       14.19                  7              112   \n",
       "2                       10.07                185              401   \n",
       "3                        1.96                466              884   \n",
       "4                        2.06                914             1176   \n",
       "...                       ...                ...              ...   \n",
       "100121                  13.92              27314            27474   \n",
       "100122                   5.37              27530            27762   \n",
       "100123                  15.15              27803            28114   \n",
       "100124                   6.17              28174            28492   \n",
       "100125                   5.08              28531            28736   \n",
       "\n",
       "       PREVIOUS_FIX_DURATION PREVIOUS_FIX_X PREVIOUS_FIX_X_RESOLUTION  \\\n",
       "0                      106.0          737.9                         .   \n",
       "1                      106.0          737.9                      31.7   \n",
       "2                      217.0          414.1                        32   \n",
       "3                      419.0          352.8                      31.5   \n",
       "4                      263.0          413.8                      31.3   \n",
       "...                      ...            ...                       ...   \n",
       "100121                 161.0          306.0                      32.4   \n",
       "100122                 233.0          758.1                     32.55   \n",
       "100123                 312.0          936.0                      33.7   \n",
       "100124                 319.0          438.4                     32.15   \n",
       "100125                 206.0          238.3                     32.85   \n",
       "\n",
       "       PREVIOUS_FIX_Y PREVIOUS_FIX_Y_RESOLUTION   File  Line  \n",
       "0                   .                         .  CBT_1   5.0  \n",
       "1                 214                      41.7  CBT_1  13.0  \n",
       "2               634.5                      43.2  CBT_1   5.0  \n",
       "3               215.4                      41.6  CBT_1   4.0  \n",
       "4               203.6                      41.5  CBT_1   4.0  \n",
       "...               ...                       ...    ...   ...  \n",
       "100121          669.4                      43.7  LSW_8  14.0  \n",
       "100122          659.8                      43.7  LSW_8  14.0  \n",
       "100123          658.7                     44.45  LSW_8  15.0  \n",
       "100124          703.3                     43.75  LSW_8  15.0  \n",
       "100125          721.7                      44.3  LSW_8  15.0  \n",
       "\n",
       "[100126 rows x 31 columns]"
      ]
     },
     "execution_count": 4,
     "metadata": {},
     "output_type": "execute_result"
    }
   ],
   "source": [
    "data = data_raw.copy()\n",
    "# Create a mask to filter lines based on the condition\n",
    "mask = (\n",
    "    (data[\"CURRENT_FIX_Y\"].values[:, None] >= Lines[\"Y_Start\"].values) &\n",
    "    (data[\"CURRENT_FIX_Y\"].values[:, None] <= Lines[\"Y_End\"].values)\n",
    ")\n",
    "\n",
    "# Find the first True value along each row in the mask\n",
    "line_indices = mask.argmax(axis=1)\n",
    "\n",
    "# Index Lines DataFrame using the found indices\n",
    "lines_values = Lines.loc[line_indices, \"Line\"].values\n",
    "\n",
    "# Assign the values to the 'Lines' column in 'data'\n",
    "data[\"Line\"] = pd.Series(lines_values, index=data.index)\n",
    "\n",
    "# Replace all Lines that out side the borders\n",
    "data[\"Line\"].mask((data[\"CURRENT_FIX_Y\"] < Lines[\"Y_Start\"][0]) | (data[\"CURRENT_FIX_Y\"] > Lines[\"Y_End\"].iloc[-1]), None, inplace=True)\n",
    "\n",
    "# Drop rows with NaN values in 'Lines' column\n",
    "data.dropna(subset=[\"Line\"], inplace=True)\n",
    "\n",
    "data.reset_index(inplace=True, drop=True)\n",
    "# data.reset_index(inplace=True)\n",
    "# data.set_index([\"File\", \"index\"], inplace=True)\n",
    "data"
   ]
  },
  {
   "cell_type": "code",
   "execution_count": 5,
   "id": "d62b1fd7",
   "metadata": {
    "scrolled": false
   },
   "outputs": [
    {
     "data": {
      "text/plain": [
       "<matplotlib.collections.PathCollection at 0x22069daba10>"
      ]
     },
     "execution_count": 5,
     "metadata": {},
     "output_type": "execute_result"
    },
    {
     "data": {
      "image/png": "[encoded data removed]",
      "text/plain": [
       "<Figure size 1000x500 with 1 Axes>"
      ]
     },
     "metadata": {},
     "output_type": "display_data"
    }
   ],
   "source": [
    "ob = 387\n",
    "begin, end = ob-20, ob+20\n",
    "plt.figure(figsize=(10,5))\n",
    "plt.scatter(x=data.reset_index().loc[begin:end, [\"index\"]], y=data.loc[begin:end, [\"Line\"]], c=data.loc[begin:end, \"TRIAL_INDEX\"], alpha=0.5)"
   ]
  },
  {
   "cell_type": "code",
   "execution_count": 6,
   "id": "c10fd012",
   "metadata": {},
   "outputs": [
    {
     "data": {
      "text/plain": [
       "<matplotlib.collections.PathCollection at 0x22069de9d90>"
      ]
     },
     "execution_count": 6,
     "metadata": {},
     "output_type": "execute_result"
    },
    {
     "data": {
      "image/png": "[encoded data removed]",
      "text/plain": [
       "<Figure size 1000x500 with 1 Axes>"
      ]
     },
     "metadata": {},
     "output_type": "display_data"
    }
   ],
   "source": [
    "begin, end = 25170, 25300\n",
    "plt.figure(figsize=(10,5))\n",
    "plt.scatter(x=data.reset_index().loc[begin:end, [\"index\"]], y=data.loc[begin:end, [\"CURRENT_FIX_Y\"]], c=data.loc[begin:end, \"TRIAL_INDEX\"], alpha=0.5)"
   ]
  },
  {
   "cell_type": "code",
   "execution_count": 7,
   "id": "6cc025c0",
   "metadata": {},
   "outputs": [],
   "source": [
    "# DEFINE CONSTANTS\n",
    "AVE_CHAR_LENGTH = 11\n",
    "SCREEN_WIDTH = 1920\n",
    "LINE_START = 180\n",
    "LINE_END = 1740\n",
    "\n",
    "FOVEA = 75.59 # in pixels ~ 2cm\n",
    "Participants = data[\"File\"].drop_duplicates().reset_index(drop=True)"
   ]
  },
  {
   "cell_type": "code",
   "execution_count": 8,
   "id": "fb69e5ea",
   "metadata": {},
   "outputs": [],
   "source": [
    "def getSameLineFix(fix):\n",
    "    # Find the start index\n",
    "    start_mask = data.iloc[:fix.name][::-1][\"Line\"].ne(fix[\"Line\"])\n",
    "    start_idx = start_mask.idxmax() if start_mask.any() else fix.name\n",
    "\n",
    "    # Find the end index\n",
    "    end_mask = data[fix.name:][\"Line\"].ne(fix[\"Line\"])\n",
    "    end_idx = end_mask.idxmax() if end_mask.any() else fix.name\n",
    "\n",
    "\n",
    "    # Adjust start_idx and end_idx while the difference is less than 20\n",
    "    if end_idx - start_idx < 10:\n",
    "        start_idx = max(0, start_idx - (10 - (end_idx - start_idx)))\n",
    "        end_idx = min(len(data), end_idx + (10 - (end_idx - start_idx)))\n",
    "\n",
    "    return data[start_idx:end_idx]"
   ]
  },
  {
   "cell_type": "code",
   "execution_count": 9,
   "id": "2eb77f75",
   "metadata": {},
   "outputs": [],
   "source": [
    "def NormalDistribute(fix, sample):    \n",
    "    mask = sample.reset_index()[\"index\"] == fix.name\n",
    "    sample = stats.norm.pdf(sample, sample.mean(), sample.std())\n",
    "    \n",
    "    return *sample[mask], sample"
   ]
  },
  {
   "cell_type": "code",
   "execution_count": 10,
   "id": "f69fd631",
   "metadata": {},
   "outputs": [],
   "source": [
    "def compareFix(fix1_idx, fix2_idx):\n",
    "    fix1 = data.iloc[fix1_idx]\n",
    "    fix2 = data.iloc[fix2_idx]\n",
    "    \n",
    "    if fix1[\"Line\"] == fix2[\"Line\"]:\n",
    "        return fix1[\"CURRENT_FIX_X\"] - fix2[\"CURRENT_FIX_X\"]\n",
    "    elif fix1[\"Line\"] > fix2[\"Line\"]:\n",
    "        return fix1[\"CURRENT_FIX_X\"] - fix2[\"CURRENT_FIX_X\"] + (fix1[\"Line\"] - fix2[\"Line\"])*LINE_END\n",
    "    else:\n",
    "        return fix1[\"CURRENT_FIX_X\"] - fix2[\"CURRENT_FIX_X\"] - (fix2[\"Line\"] - fix1[\"Line\"])*LINE_END"
   ]
  },
  {
   "cell_type": "code",
   "execution_count": 11,
   "id": "51ead51b",
   "metadata": {},
   "outputs": [],
   "source": [
    "def isFixSamePage(fix1_idx, fix2_idx):\n",
    "    fix1 = data.iloc[fix1_idx]\n",
    "    fix2 = data.iloc[fix2_idx]\n",
    "    \n",
    "    return (fix1[\"TRIAL_INDEX\"] + fix2[\"TRIAL_INDEX\"]) % 2 == 0"
   ]
  },
  {
   "cell_type": "code",
   "execution_count": 12,
   "id": "c1e723f3",
   "metadata": {},
   "outputs": [],
   "source": [
    "def Xinterval(seq):\n",
    "    return [data[seq[\"start_fix_idx\"]:seq[\"end_fix_idx\"] + 1][\"CURRENT_FIX_X\"].idxmin(), \n",
    "            data[seq[\"start_fix_idx\"]:seq[\"end_fix_idx\"] + 1][\"CURRENT_FIX_X\"].idxmax()]"
   ]
  },
  {
   "cell_type": "code",
   "execution_count": 13,
   "id": "fa41ee8a",
   "metadata": {},
   "outputs": [],
   "source": [
    "def seqList(seq):\n",
    "    return data[seq[\"start_fix_idx\"]:seq[\"end_fix_idx\"] + 1]"
   ]
  },
  {
   "cell_type": "code",
   "execution_count": 14,
   "id": "68395b3e",
   "metadata": {},
   "outputs": [],
   "source": [
    "def durationSeq(seq):\n",
    "    return durationBetween(seq[\"start_fix_idx\"], seq[\"end_fix_idx\"])"
   ]
  },
  {
   "cell_type": "code",
   "execution_count": 15,
   "id": "d459f957",
   "metadata": {},
   "outputs": [],
   "source": [
    "def overlapSeq(seq1, seq2):\n",
    "    seq1_Xinterval = Xinterval(seq1)\n",
    "    seq2_Xinterval = Xinterval(seq2)\n",
    "    direct = None\n",
    "    \n",
    "    if isFixSamePage(seq1[\"start_fix_idx\"], seq2[\"start_fix_idx\"]):\n",
    "        if compareFix(seq1_Xinterval[0], seq2_Xinterval[0]) > 0:\n",
    "            if compareFix(seq1_Xinterval[0], seq2_Xinterval[1]) > 0:\n",
    "                return None\n",
    "            elif compareFix(seq1_Xinterval[1], seq2_Xinterval[0]) > 0:\n",
    "                direct = \"Left\"\n",
    "            else:\n",
    "                direct = \"Mid\"\n",
    "        elif compareFix(seq1_Xinterval[1], seq2_Xinterval[0]) > 0:\n",
    "            if compareFix(seq1_Xinterval[1], seq2_Xinterval[1]) > 0:\n",
    "                direct = \"Mid\"\n",
    "            else:\n",
    "                direct = \"Right\"\n",
    "        else:\n",
    "            return None\n",
    "    else:\n",
    "        return None\n",
    "    \n",
    "\n",
    "    \n",
    "    overlap_interval = list(data.loc[[seq1_Xinterval[0], seq1_Xinterval[1], seq2_Xinterval[0], seq2_Xinterval[1]], \"CURRENT_FIX_X\"].sort_values()[1:3])\n",
    "\n",
    "    seq1List = seqList(seq1)[\"CURRENT_FIX_X\"]\n",
    "    seq2List = seqList(seq2)[\"CURRENT_FIX_X\"]\n",
    "    \n",
    "    seq1_overlap_interval = seq1List[(seq1List >= overlap_interval[0]) & (seq1List <= overlap_interval[1])]\n",
    "    seq2_overlap_interval = seq2List[(seq2List >= overlap_interval[0]) & (seq2List <= overlap_interval[1])]\n",
    "    \n",
    "    if seq1_overlap_interval.empty or seq2_overlap_interval.empty:\n",
    "        return direct, \"Overlap_noFix\"\n",
    "    \n",
    "    \n",
    "    return [direct, list(seq1_overlap_interval.iloc[[0, -1]].index), list(seq2_overlap_interval.iloc[[0, -1]].index)]"
   ]
  },
  {
   "cell_type": "code",
   "execution_count": 16,
   "id": "c4129939",
   "metadata": {},
   "outputs": [],
   "source": [
    "def numberFixBetween(fix1_idx, fix2_idx):\n",
    "    return abs(fix1_idx - fix2_idx)"
   ]
  },
  {
   "cell_type": "code",
   "execution_count": 17,
   "id": "60991f84",
   "metadata": {},
   "outputs": [],
   "source": [
    "def durationBetween(fix1_idx, fix2_idx):\n",
    "    return data[fix1_idx:fix2_idx][\"CURRENT_FIX_DURATION\"].sum()"
   ]
  },
  {
   "cell_type": "code",
   "execution_count": 18,
   "id": "1c853c1c",
   "metadata": {},
   "outputs": [],
   "source": [
    "def AveDurationBetween(fix1_idx, fix2_idx):\n",
    "    return durationBetween(fix1_idx, fix2_idx) / numberFixBetween(fix1_idx, fix2_idx)"
   ]
  },
  {
   "cell_type": "code",
   "execution_count": 19,
   "id": "f4ad0aa5",
   "metadata": {},
   "outputs": [],
   "source": [
    "def gazeDurationBetween(fix1_idx, fix2_idx):\n",
    "    return (data[fix1_idx:fix2_idx][\"CURRENT_FIX_START\"] - data[fix1_idx:fix2_idx][\"PREVIOUS_FIX_END\"] + data[fix1_idx:fix2_idx][\"CURRENT_FIX_DURATION\"]).sum()"
   ]
  },
  {
   "cell_type": "code",
   "execution_count": 20,
   "id": "caf843b5",
   "metadata": {},
   "outputs": [],
   "source": [
    "def meanSaccadeLenBetween(fix1_idx, fix2_idx):\n",
    "    return abs(data[fix1_idx:fix2_idx][\"CURRENT_FIX_X\"] - data[fix1_idx:fix2_idx][\"PREVIOUS_FIX_X\"]).mean()"
   ]
  },
  {
   "cell_type": "code",
   "execution_count": 21,
   "id": "aafad313",
   "metadata": {},
   "outputs": [],
   "source": [
    "def classifySeq(start_idx, end_idx, pre_seq):\n",
    "    s = pd.Series({'start_fix_idx': start_idx, 'end_fix_idx': end_idx})\n",
    "    Class, Overlap = \"First Pass\", None\n",
    "    for pre_idx, pre_s in pre_seq[::-1].iterrows():\n",
    "        overlap_seq = overlapSeq(pre_s, s)\n",
    "        if overlap_seq:\n",
    "            direct, *overlap_seq = overlap_seq\n",
    "            Overlap = pre_idx\n",
    "            if overlap_seq == [\"Overlap_noFix\"]:\n",
    "                Class = \"First Pass_noFix_\" + direct\n",
    "                continue\n",
    "            \n",
    "            if direct == \"Left\" or direct == \"Mid\":\n",
    "                if numberFixBetween(overlap_seq[1][0], overlap_seq[1][1]) >= numberFixBetween(overlap_seq[0][0], overlap_seq[0][1]):\n",
    "                    Class = \"Second Pass/no.Fix_Left\"\n",
    "                elif durationBetween(overlap_seq[1][0], overlap_seq[1][1]) >= durationBetween(overlap_seq[0][0], overlap_seq[0][1]): \n",
    "                    Class = \"Second Pass/duration_Left\"\n",
    "                elif gazeDurationBetween(overlap_seq[1][0], overlap_seq[1][1]) >= gazeDurationBetween(overlap_seq[0][0], overlap_seq[0][1]):\n",
    "                    Class = \"Second Pass/gazeDuration_Left\"\n",
    "                elif meanSaccadeLenBetween(overlap_seq[1][0], overlap_seq[1][1]) < meanSaccadeLenBetween(overlap_seq[0][0], overlap_seq[0][1]):\n",
    "                    Class = \"Second Pass/meanSaccade_Left\"\n",
    "                else:\n",
    "                    Class = \"First Pass_BT_Left\"\n",
    "            else:\n",
    "                if compareFix(overlap_seq[0][0], overlap_seq[0][1]) / compareFix(Xinterval(s)[0], Xinterval(s)[1]) > 0.3:\n",
    "                    Class = \"Second Pass/More30%_Right\"\n",
    "                elif AveDurationBetween(overlap_seq[0][0], overlap_seq[0][1]) > AveDurationBetween(s[\"start_fix_idx\"], overlap_seq[0][0]):\n",
    "                    Class = \"Second Pass/meanDuration_Right\"\n",
    "                else:\n",
    "                    Class = \"First Pass_BT_Right\"\n",
    "\n",
    "            if Class[:11] == \"Second Pass\":\n",
    "                break\n",
    "    return [Class, Overlap]"
   ]
  },
  {
   "cell_type": "code",
   "execution_count": 22,
   "id": "7d2f71f3",
   "metadata": {},
   "outputs": [],
   "source": [
    "def breakSeq(start_fix, fix, prefix):\n",
    "    cond = None\n",
    "    if start_fix[\"TRIAL_INDEX\"] != fix[\"TRIAL_INDEX\"]:\n",
    "        cond = \"TRIAL\"\n",
    "    elif abs(fix[\"Line\"] - prefix[\"Line\"]) > 1:\n",
    "        cond = \"LINE DISTANCE\"\n",
    "    elif fix[\"Line\"] == prefix[\"Line\"]:\n",
    "        if fix[\"CURRENT_FIX_X\"] - fix[\"PREVIOUS_FIX_X\"] > AVE_CHAR_LENGTH * 15:\n",
    "            cond = \"X SAME LINE RIGHT\"\n",
    "        elif fix[\"CURRENT_FIX_X\"] - fix[\"PREVIOUS_FIX_X\"] < - AVE_CHAR_LENGTH * 7:\n",
    "            cond = \"X SAME LINE LEFT\"\n",
    "        elif fix[\"CURRENT_FIX_START\"] - fix[\"PREVIOUS_FIX_END\"] > 40:\n",
    "            cond = \"SAC\"\n",
    "    else:\n",
    "        if fix[\"PREVIOUS_FIX_X\"] < LINE_END - AVE_CHAR_LENGTH * 7:\n",
    "            cond = \"X DIFF LINE RIGHT\"\n",
    "        elif fix[\"CURRENT_FIX_X\"] > LINE_START + AVE_CHAR_LENGTH * 7:\n",
    "            cond = \"X DIFF LINE LEFT\"\n",
    "        elif fix[\"PREVIOUS_FIX_DURATION\"] >= AveDurationBetween(start_fix.name, fix.name - 1):\n",
    "            cond = \"DURATION DIFF LINE\"\n",
    "        \n",
    "    return cond"
   ]
  },
  {
   "cell_type": "code",
   "execution_count": 23,
   "id": "c058b57e",
   "metadata": {
    "scrolled": true
   },
   "outputs": [
    {
     "data": {
      "text/plain": [
       "'CBT_1... '"
      ]
     },
     "metadata": {},
     "output_type": "display_data"
    },
    {
     "data": {
      "text/plain": [
       "'CBT_10... '"
      ]
     },
     "metadata": {},
     "output_type": "display_data"
    },
    {
     "data": {
      "text/plain": [
       "'CBT_11... '"
      ]
     },
     "metadata": {},
     "output_type": "display_data"
    },
    {
     "data": {
      "text/plain": [
       "'CBT_12... '"
      ]
     },
     "metadata": {},
     "output_type": "display_data"
    },
    {
     "data": {
      "text/plain": [
       "'CBT_13... '"
      ]
     },
     "metadata": {},
     "output_type": "display_data"
    },
    {
     "data": {
      "text/plain": [
       "'CBT_14... '"
      ]
     },
     "metadata": {},
     "output_type": "display_data"
    },
    {
     "data": {
      "text/plain": [
       "'CBT_15... '"
      ]
     },
     "metadata": {},
     "output_type": "display_data"
    },
    {
     "data": {
      "text/plain": [
       "'CBT_16... '"
      ]
     },
     "metadata": {},
     "output_type": "display_data"
    },
    {
     "data": {
      "text/plain": [
       "'CBT_17... '"
      ]
     },
     "metadata": {},
     "output_type": "display_data"
    },
    {
     "data": {
      "text/plain": [
       "'CBT_18... '"
      ]
     },
     "metadata": {},
     "output_type": "display_data"
    },
    {
     "data": {
      "text/plain": [
       "'CBT_19... '"
      ]
     },
     "metadata": {},
     "output_type": "display_data"
    },
    {
     "data": {
      "text/plain": [
       "'CBT_2... '"
      ]
     },
     "metadata": {},
     "output_type": "display_data"
    },
    {
     "data": {
      "text/plain": [
       "'CBT_20... '"
      ]
     },
     "metadata": {},
     "output_type": "display_data"
    },
    {
     "data": {
      "text/plain": [
       "'CBT_21... '"
      ]
     },
     "metadata": {},
     "output_type": "display_data"
    },
    {
     "data": {
      "text/plain": [
       "'CBT_22... '"
      ]
     },
     "metadata": {},
     "output_type": "display_data"
    },
    {
     "data": {
      "text/plain": [
       "'CBT_23... '"
      ]
     },
     "metadata": {},
     "output_type": "display_data"
    },
    {
     "data": {
      "text/plain": [
       "'CBT_24... '"
      ]
     },
     "metadata": {},
     "output_type": "display_data"
    },
    {
     "data": {
      "text/plain": [
       "'CBT_25... '"
      ]
     },
     "metadata": {},
     "output_type": "display_data"
    },
    {
     "data": {
      "text/plain": [
       "'CBT_26... '"
      ]
     },
     "metadata": {},
     "output_type": "display_data"
    },
    {
     "data": {
      "text/plain": [
       "'CBT_3... '"
      ]
     },
     "metadata": {},
     "output_type": "display_data"
    },
    {
     "data": {
      "text/plain": [
       "'CBT_4... '"
      ]
     },
     "metadata": {},
     "output_type": "display_data"
    },
    {
     "data": {
      "text/plain": [
       "'CBT_5... '"
      ]
     },
     "metadata": {},
     "output_type": "display_data"
    },
    {
     "data": {
      "text/plain": [
       "'CBT_7... '"
      ]
     },
     "metadata": {},
     "output_type": "display_data"
    },
    {
     "data": {
      "text/plain": [
       "'CBT_8... '"
      ]
     },
     "metadata": {},
     "output_type": "display_data"
    },
    {
     "data": {
      "text/plain": [
       "'CB_1... '"
      ]
     },
     "metadata": {},
     "output_type": "display_data"
    },
    {
     "data": {
      "text/plain": [
       "'CB_10... '"
      ]
     },
     "metadata": {},
     "output_type": "display_data"
    },
    {
     "data": {
      "text/plain": [
       "'CB_11... '"
      ]
     },
     "metadata": {},
     "output_type": "display_data"
    },
    {
     "data": {
      "text/plain": [
       "'CB_12... '"
      ]
     },
     "metadata": {},
     "output_type": "display_data"
    },
    {
     "data": {
      "text/plain": [
       "'CB_13... '"
      ]
     },
     "metadata": {},
     "output_type": "display_data"
    },
    {
     "data": {
      "text/plain": [
       "'CB_14... '"
      ]
     },
     "metadata": {},
     "output_type": "display_data"
    },
    {
     "data": {
      "text/plain": [
       "'CB_15... '"
      ]
     },
     "metadata": {},
     "output_type": "display_data"
    },
    {
     "data": {
      "text/plain": [
       "'CB_16... '"
      ]
     },
     "metadata": {},
     "output_type": "display_data"
    },
    {
     "data": {
      "text/plain": [
       "'CB_17... '"
      ]
     },
     "metadata": {},
     "output_type": "display_data"
    },
    {
     "data": {
      "text/plain": [
       "'CB_18... '"
      ]
     },
     "metadata": {},
     "output_type": "display_data"
    },
    {
     "data": {
      "text/plain": [
       "'CB_19... '"
      ]
     },
     "metadata": {},
     "output_type": "display_data"
    },
    {
     "data": {
      "text/plain": [
       "'CB_2... '"
      ]
     },
     "metadata": {},
     "output_type": "display_data"
    },
    {
     "data": {
      "text/plain": [
       "'CB_20... '"
      ]
     },
     "metadata": {},
     "output_type": "display_data"
    },
    {
     "data": {
      "text/plain": [
       "'CB_21... '"
      ]
     },
     "metadata": {},
     "output_type": "display_data"
    },
    {
     "data": {
      "text/plain": [
       "'CB_22... '"
      ]
     },
     "metadata": {},
     "output_type": "display_data"
    },
    {
     "data": {
      "text/plain": [
       "'CB_23... '"
      ]
     },
     "metadata": {},
     "output_type": "display_data"
    },
    {
     "data": {
      "text/plain": [
       "'CB_24... '"
      ]
     },
     "metadata": {},
     "output_type": "display_data"
    },
    {
     "data": {
      "text/plain": [
       "'CB_25... '"
      ]
     },
     "metadata": {},
     "output_type": "display_data"
    },
    {
     "data": {
      "text/plain": [
       "'CB_26... '"
      ]
     },
     "metadata": {},
     "output_type": "display_data"
    },
    {
     "data": {
      "text/plain": [
       "'CB_3... '"
      ]
     },
     "metadata": {},
     "output_type": "display_data"
    },
    {
     "data": {
      "text/plain": [
       "'CB_4... '"
      ]
     },
     "metadata": {},
     "output_type": "display_data"
    },
    {
     "data": {
      "text/plain": [
       "'CB_5... '"
      ]
     },
     "metadata": {},
     "output_type": "display_data"
    },
    {
     "data": {
      "text/plain": [
       "'CB_7... '"
      ]
     },
     "metadata": {},
     "output_type": "display_data"
    },
    {
     "data": {
      "text/plain": [
       "'CB_8... '"
      ]
     },
     "metadata": {},
     "output_type": "display_data"
    },
    {
     "data": {
      "text/plain": [
       "'GMF_1... '"
      ]
     },
     "metadata": {},
     "output_type": "display_data"
    },
    {
     "data": {
      "text/plain": [
       "'GMF_10... '"
      ]
     },
     "metadata": {},
     "output_type": "display_data"
    },
    {
     "data": {
      "text/plain": [
       "'GMF_11... '"
      ]
     },
     "metadata": {},
     "output_type": "display_data"
    },
    {
     "data": {
      "text/plain": [
       "'GMF_12... '"
      ]
     },
     "metadata": {},
     "output_type": "display_data"
    },
    {
     "data": {
      "text/plain": [
       "'GMF_13... '"
      ]
     },
     "metadata": {},
     "output_type": "display_data"
    },
    {
     "data": {
      "text/plain": [
       "'GMF_14... '"
      ]
     },
     "metadata": {},
     "output_type": "display_data"
    },
    {
     "data": {
      "text/plain": [
       "'GMF_15... '"
      ]
     },
     "metadata": {},
     "output_type": "display_data"
    },
    {
     "data": {
      "text/plain": [
       "'GMF_16... '"
      ]
     },
     "metadata": {},
     "output_type": "display_data"
    },
    {
     "data": {
      "text/plain": [
       "'GMF_17... '"
      ]
     },
     "metadata": {},
     "output_type": "display_data"
    },
    {
     "data": {
      "text/plain": [
       "'GMF_18... '"
      ]
     },
     "metadata": {},
     "output_type": "display_data"
    },
    {
     "data": {
      "text/plain": [
       "'GMF_19... '"
      ]
     },
     "metadata": {},
     "output_type": "display_data"
    },
    {
     "data": {
      "text/plain": [
       "'GMF_2... '"
      ]
     },
     "metadata": {},
     "output_type": "display_data"
    },
    {
     "data": {
      "text/plain": [
       "'GMF_20... '"
      ]
     },
     "metadata": {},
     "output_type": "display_data"
    },
    {
     "data": {
      "text/plain": [
       "'GMF_21... '"
      ]
     },
     "metadata": {},
     "output_type": "display_data"
    },
    {
     "data": {
      "text/plain": [
       "'GMF_22... '"
      ]
     },
     "metadata": {},
     "output_type": "display_data"
    },
    {
     "data": {
      "text/plain": [
       "'GMF_23... '"
      ]
     },
     "metadata": {},
     "output_type": "display_data"
    },
    {
     "data": {
      "text/plain": [
       "'GMF_24... '"
      ]
     },
     "metadata": {},
     "output_type": "display_data"
    },
    {
     "data": {
      "text/plain": [
       "'GMF_25... '"
      ]
     },
     "metadata": {},
     "output_type": "display_data"
    },
    {
     "data": {
      "text/plain": [
       "'GMF_26... '"
      ]
     },
     "metadata": {},
     "output_type": "display_data"
    },
    {
     "data": {
      "text/plain": [
       "'GMF_3... '"
      ]
     },
     "metadata": {},
     "output_type": "display_data"
    },
    {
     "data": {
      "text/plain": [
       "'GMF_4... '"
      ]
     },
     "metadata": {},
     "output_type": "display_data"
    },
    {
     "data": {
      "text/plain": [
       "'GMF_5... '"
      ]
     },
     "metadata": {},
     "output_type": "display_data"
    },
    {
     "data": {
      "text/plain": [
       "'GMF_7... '"
      ]
     },
     "metadata": {},
     "output_type": "display_data"
    },
    {
     "data": {
      "text/plain": [
       "'GMF_8... '"
      ]
     },
     "metadata": {},
     "output_type": "display_data"
    },
    {
     "data": {
      "text/plain": [
       "'LSW_1... '"
      ]
     },
     "metadata": {},
     "output_type": "display_data"
    },
    {
     "data": {
      "text/plain": [
       "'LSW_10... '"
      ]
     },
     "metadata": {},
     "output_type": "display_data"
    },
    {
     "data": {
      "text/plain": [
       "'LSW_11... '"
      ]
     },
     "metadata": {},
     "output_type": "display_data"
    },
    {
     "data": {
      "text/plain": [
       "'LSW_12... '"
      ]
     },
     "metadata": {},
     "output_type": "display_data"
    },
    {
     "data": {
      "text/plain": [
       "'LSW_13... '"
      ]
     },
     "metadata": {},
     "output_type": "display_data"
    },
    {
     "data": {
      "text/plain": [
       "'LSW_14... '"
      ]
     },
     "metadata": {},
     "output_type": "display_data"
    },
    {
     "data": {
      "text/plain": [
       "'LSW_15... '"
      ]
     },
     "metadata": {},
     "output_type": "display_data"
    },
    {
     "data": {
      "text/plain": [
       "'LSW_16... '"
      ]
     },
     "metadata": {},
     "output_type": "display_data"
    },
    {
     "data": {
      "text/plain": [
       "'LSW_17... '"
      ]
     },
     "metadata": {},
     "output_type": "display_data"
    },
    {
     "data": {
      "text/plain": [
       "'LSW_18... '"
      ]
     },
     "metadata": {},
     "output_type": "display_data"
    },
    {
     "data": {
      "text/plain": [
       "'LSW_19... '"
      ]
     },
     "metadata": {},
     "output_type": "display_data"
    },
    {
     "data": {
      "text/plain": [
       "'LSW_2... '"
      ]
     },
     "metadata": {},
     "output_type": "display_data"
    },
    {
     "data": {
      "text/plain": [
       "'LSW_20... '"
      ]
     },
     "metadata": {},
     "output_type": "display_data"
    },
    {
     "data": {
      "text/plain": [
       "'LSW_21... '"
      ]
     },
     "metadata": {},
     "output_type": "display_data"
    },
    {
     "data": {
      "text/plain": [
       "'LSW_22... '"
      ]
     },
     "metadata": {},
     "output_type": "display_data"
    },
    {
     "data": {
      "text/plain": [
       "'LSW_23... '"
      ]
     },
     "metadata": {},
     "output_type": "display_data"
    },
    {
     "data": {
      "text/plain": [
       "'LSW_24... '"
      ]
     },
     "metadata": {},
     "output_type": "display_data"
    },
    {
     "data": {
      "text/plain": [
       "'LSW_25... '"
      ]
     },
     "metadata": {},
     "output_type": "display_data"
    },
    {
     "data": {
      "text/plain": [
       "'LSW_26... '"
      ]
     },
     "metadata": {},
     "output_type": "display_data"
    },
    {
     "data": {
      "text/plain": [
       "'LSW_3... '"
      ]
     },
     "metadata": {},
     "output_type": "display_data"
    },
    {
     "data": {
      "text/plain": [
       "'LSW_4... '"
      ]
     },
     "metadata": {},
     "output_type": "display_data"
    },
    {
     "data": {
      "text/plain": [
       "'LSW_5... '"
      ]
     },
     "metadata": {},
     "output_type": "display_data"
    },
    {
     "data": {
      "text/plain": [
       "'LSW_7... '"
      ]
     },
     "metadata": {},
     "output_type": "display_data"
    },
    {
     "data": {
      "text/plain": [
       "'LSW_8... '"
      ]
     },
     "metadata": {},
     "output_type": "display_data"
    },
    {
     "data": {
      "text/plain": [
       "'Done'"
      ]
     },
     "metadata": {},
     "output_type": "display_data"
    }
   ],
   "source": [
    "alpha = 0.05\n",
    "prefix_idx, prefix = 0, data.iloc[0]\n",
    "anomalies = []\n",
    "for P in Participants:\n",
    "    display(P + \"... \")\n",
    "    for idx, fix in data[data[\"File\"] == P][1:].iterrows():\n",
    "        if isFixSamePage(idx, prefix_idx) and fix[\"File\"] == prefix[\"File\"] and fix[\"Line\"] != prefix[\"Line\"]:\n",
    "            # Get sample       \n",
    "            sample_raw = getSameLineFix(fix) \n",
    "            sample = sample_raw[\"CURRENT_FIX_Y\"] - Lines[Lines[\"Line\"] == fix[\"Line\"]][\"Y_Start\"].values\n",
    "\n",
    "            # Transform to Normal Distribution        \n",
    "            fix_normal, sample = NormalDistribute(fix, sample)\n",
    "\n",
    "            # Compute T_Score        \n",
    "            t_score = (sample.mean() - fix_normal) / (sample.std() / np.sqrt(len(sample)))\n",
    "            t_alpha = stats.t.ppf(alpha, len(sample) - 1)\n",
    "\n",
    "            if t_score > t_alpha:\n",
    "                anomalies.append(idx)\n",
    "                data.loc[idx, \"Line\"] = sample_raw[\"Line\"].mode()[0]\n",
    "                \n",
    "            prefix_idx, prefix = idx, fix\n",
    "display(\"Done\")"
   ]
  },
  {
   "cell_type": "code",
   "execution_count": 24,
   "id": "a42ccfab",
   "metadata": {
    "scrolled": false
   },
   "outputs": [
    {
     "data": {
      "text/html": [
       "<div>\n",
       "<style scoped>\n",
       "    .dataframe tbody tr th:only-of-type {\n",
       "        vertical-align: middle;\n",
       "    }\n",
       "\n",
       "    .dataframe tbody tr th {\n",
       "        vertical-align: top;\n",
       "    }\n",
       "\n",
       "    .dataframe thead th {\n",
       "        text-align: right;\n",
       "    }\n",
       "</style>\n",
       "<table border=\"1\" class=\"dataframe\">\n",
       "  <thead>\n",
       "    <tr style=\"text-align: right;\">\n",
       "      <th></th>\n",
       "      <th>RECORDING_SESSION_LABEL</th>\n",
       "      <th>TRIAL_INDEX</th>\n",
       "      <th>EYE_USED</th>\n",
       "      <th>CURRENT_FIX_INDEX</th>\n",
       "      <th>CURRENT_FIX_START</th>\n",
       "      <th>CURRENT_FIX_END</th>\n",
       "      <th>CURRENT_FIX_DURATION</th>\n",
       "      <th>CURRENT_FIX_X</th>\n",
       "      <th>CURRENT_FIX_X_RESOLUTION</th>\n",
       "      <th>CURRENT_FIX_Y</th>\n",
       "      <th>...</th>\n",
       "      <th>PREVIOUS_FIX_DISTANCE</th>\n",
       "      <th>PREVIOUS_FIX_START</th>\n",
       "      <th>PREVIOUS_FIX_END</th>\n",
       "      <th>PREVIOUS_FIX_DURATION</th>\n",
       "      <th>PREVIOUS_FIX_X</th>\n",
       "      <th>PREVIOUS_FIX_X_RESOLUTION</th>\n",
       "      <th>PREVIOUS_FIX_Y</th>\n",
       "      <th>PREVIOUS_FIX_Y_RESOLUTION</th>\n",
       "      <th>File</th>\n",
       "      <th>Line</th>\n",
       "    </tr>\n",
       "  </thead>\n",
       "  <tbody>\n",
       "    <tr>\n",
       "      <th>1</th>\n",
       "      <td>1</td>\n",
       "      <td>1</td>\n",
       "      <td>RIGHT</td>\n",
       "      <td>2</td>\n",
       "      <td>185</td>\n",
       "      <td>401</td>\n",
       "      <td>217</td>\n",
       "      <td>414.1</td>\n",
       "      <td>32.00</td>\n",
       "      <td>634.5</td>\n",
       "      <td>...</td>\n",
       "      <td>14.19</td>\n",
       "      <td>7</td>\n",
       "      <td>112</td>\n",
       "      <td>106.0</td>\n",
       "      <td>737.9</td>\n",
       "      <td>31.7</td>\n",
       "      <td>214</td>\n",
       "      <td>41.7</td>\n",
       "      <td>CBT_1</td>\n",
       "      <td>2.0</td>\n",
       "    </tr>\n",
       "    <tr>\n",
       "      <th>12</th>\n",
       "      <td>1</td>\n",
       "      <td>1</td>\n",
       "      <td>RIGHT</td>\n",
       "      <td>13</td>\n",
       "      <td>2806</td>\n",
       "      <td>3066</td>\n",
       "      <td>261</td>\n",
       "      <td>279.4</td>\n",
       "      <td>31.80</td>\n",
       "      <td>63.8</td>\n",
       "      <td>...</td>\n",
       "      <td>0.73</td>\n",
       "      <td>2649</td>\n",
       "      <td>2790</td>\n",
       "      <td>142.0</td>\n",
       "      <td>301.3</td>\n",
       "      <td>31.7</td>\n",
       "      <td>73.3</td>\n",
       "      <td>41.7</td>\n",
       "      <td>CBT_1</td>\n",
       "      <td>2.0</td>\n",
       "    </tr>\n",
       "    <tr>\n",
       "      <th>13</th>\n",
       "      <td>1</td>\n",
       "      <td>1</td>\n",
       "      <td>RIGHT</td>\n",
       "      <td>14</td>\n",
       "      <td>3087</td>\n",
       "      <td>3210</td>\n",
       "      <td>124</td>\n",
       "      <td>331.2</td>\n",
       "      <td>31.55</td>\n",
       "      <td>76.6</td>\n",
       "      <td>...</td>\n",
       "      <td>1.66</td>\n",
       "      <td>2806</td>\n",
       "      <td>3066</td>\n",
       "      <td>261.0</td>\n",
       "      <td>279.4</td>\n",
       "      <td>31.8</td>\n",
       "      <td>63.8</td>\n",
       "      <td>41.8</td>\n",
       "      <td>CBT_1</td>\n",
       "      <td>2.0</td>\n",
       "    </tr>\n",
       "    <tr>\n",
       "      <th>15</th>\n",
       "      <td>1</td>\n",
       "      <td>1</td>\n",
       "      <td>RIGHT</td>\n",
       "      <td>16</td>\n",
       "      <td>3450</td>\n",
       "      <td>3635</td>\n",
       "      <td>186</td>\n",
       "      <td>406.8</td>\n",
       "      <td>31.30</td>\n",
       "      <td>57.9</td>\n",
       "      <td>...</td>\n",
       "      <td>1.44</td>\n",
       "      <td>3229</td>\n",
       "      <td>3428</td>\n",
       "      <td>200.0</td>\n",
       "      <td>364.0</td>\n",
       "      <td>31.45</td>\n",
       "      <td>77.4</td>\n",
       "      <td>41.55</td>\n",
       "      <td>CBT_1</td>\n",
       "      <td>2.0</td>\n",
       "    </tr>\n",
       "    <tr>\n",
       "      <th>18</th>\n",
       "      <td>1</td>\n",
       "      <td>1</td>\n",
       "      <td>RIGHT</td>\n",
       "      <td>19</td>\n",
       "      <td>4029</td>\n",
       "      <td>4193</td>\n",
       "      <td>165</td>\n",
       "      <td>536.6</td>\n",
       "      <td>31.20</td>\n",
       "      <td>66.5</td>\n",
       "      <td>...</td>\n",
       "      <td>3.34</td>\n",
       "      <td>3814</td>\n",
       "      <td>3992</td>\n",
       "      <td>179.0</td>\n",
       "      <td>432.6</td>\n",
       "      <td>31.3</td>\n",
       "      <td>75.8</td>\n",
       "      <td>41.4</td>\n",
       "      <td>CBT_1</td>\n",
       "      <td>1.0</td>\n",
       "    </tr>\n",
       "    <tr>\n",
       "      <th>...</th>\n",
       "      <td>...</td>\n",
       "      <td>...</td>\n",
       "      <td>...</td>\n",
       "      <td>...</td>\n",
       "      <td>...</td>\n",
       "      <td>...</td>\n",
       "      <td>...</td>\n",
       "      <td>...</td>\n",
       "      <td>...</td>\n",
       "      <td>...</td>\n",
       "      <td>...</td>\n",
       "      <td>...</td>\n",
       "      <td>...</td>\n",
       "      <td>...</td>\n",
       "      <td>...</td>\n",
       "      <td>...</td>\n",
       "      <td>...</td>\n",
       "      <td>...</td>\n",
       "      <td>...</td>\n",
       "      <td>...</td>\n",
       "      <td>...</td>\n",
       "    </tr>\n",
       "    <tr>\n",
       "      <th>1813</th>\n",
       "      <td>1</td>\n",
       "      <td>9</td>\n",
       "      <td>RIGHT</td>\n",
       "      <td>30</td>\n",
       "      <td>6683</td>\n",
       "      <td>6988</td>\n",
       "      <td>306</td>\n",
       "      <td>358.1</td>\n",
       "      <td>31.40</td>\n",
       "      <td>127.3</td>\n",
       "      <td>...</td>\n",
       "      <td>6.55</td>\n",
       "      <td>6513</td>\n",
       "      <td>6640</td>\n",
       "      <td>128.0</td>\n",
       "      <td>532.8</td>\n",
       "      <td>31.3</td>\n",
       "      <td>270.3</td>\n",
       "      <td>41.5</td>\n",
       "      <td>CBT_1</td>\n",
       "      <td>12.0</td>\n",
       "    </tr>\n",
       "    <tr>\n",
       "      <th>1814</th>\n",
       "      <td>1</td>\n",
       "      <td>9</td>\n",
       "      <td>RIGHT</td>\n",
       "      <td>31</td>\n",
       "      <td>7049</td>\n",
       "      <td>7183</td>\n",
       "      <td>135</td>\n",
       "      <td>111.8</td>\n",
       "      <td>32.75</td>\n",
       "      <td>80.8</td>\n",
       "      <td>...</td>\n",
       "      <td>7.76</td>\n",
       "      <td>6683</td>\n",
       "      <td>6988</td>\n",
       "      <td>306.0</td>\n",
       "      <td>358.1</td>\n",
       "      <td>31.4</td>\n",
       "      <td>127.3</td>\n",
       "      <td>41.5</td>\n",
       "      <td>CBT_1</td>\n",
       "      <td>12.0</td>\n",
       "    </tr>\n",
       "    <tr>\n",
       "      <th>1815</th>\n",
       "      <td>1</td>\n",
       "      <td>9</td>\n",
       "      <td>RIGHT</td>\n",
       "      <td>32</td>\n",
       "      <td>7215</td>\n",
       "      <td>7447</td>\n",
       "      <td>233</td>\n",
       "      <td>53.1</td>\n",
       "      <td>33.15</td>\n",
       "      <td>56.8</td>\n",
       "      <td>...</td>\n",
       "      <td>1.87</td>\n",
       "      <td>7049</td>\n",
       "      <td>7183</td>\n",
       "      <td>135.0</td>\n",
       "      <td>111.8</td>\n",
       "      <td>32.75</td>\n",
       "      <td>80.8</td>\n",
       "      <td>42.4</td>\n",
       "      <td>CBT_1</td>\n",
       "      <td>12.0</td>\n",
       "    </tr>\n",
       "    <tr>\n",
       "      <th>1816</th>\n",
       "      <td>1</td>\n",
       "      <td>9</td>\n",
       "      <td>RIGHT</td>\n",
       "      <td>33</td>\n",
       "      <td>7492</td>\n",
       "      <td>7783</td>\n",
       "      <td>292</td>\n",
       "      <td>262.0</td>\n",
       "      <td>31.80</td>\n",
       "      <td>156.0</td>\n",
       "      <td>...</td>\n",
       "      <td>6.85</td>\n",
       "      <td>7215</td>\n",
       "      <td>7447</td>\n",
       "      <td>233.0</td>\n",
       "      <td>53.1</td>\n",
       "      <td>33.15</td>\n",
       "      <td>56.8</td>\n",
       "      <td>42.7</td>\n",
       "      <td>CBT_1</td>\n",
       "      <td>12.0</td>\n",
       "    </tr>\n",
       "    <tr>\n",
       "      <th>1817</th>\n",
       "      <td>1</td>\n",
       "      <td>9</td>\n",
       "      <td>RIGHT</td>\n",
       "      <td>34</td>\n",
       "      <td>9314</td>\n",
       "      <td>9477</td>\n",
       "      <td>164</td>\n",
       "      <td>406.4</td>\n",
       "      <td>31.75</td>\n",
       "      <td>539.7</td>\n",
       "      <td>...</td>\n",
       "      <td>10.17</td>\n",
       "      <td>7492</td>\n",
       "      <td>7783</td>\n",
       "      <td>292.0</td>\n",
       "      <td>262.0</td>\n",
       "      <td>31.8</td>\n",
       "      <td>156</td>\n",
       "      <td>41.7</td>\n",
       "      <td>CBT_1</td>\n",
       "      <td>12.0</td>\n",
       "    </tr>\n",
       "  </tbody>\n",
       "</table>\n",
       "<p>116 rows × 31 columns</p>\n",
       "</div>"
      ],
      "text/plain": [
       "      RECORDING_SESSION_LABEL  TRIAL_INDEX EYE_USED  CURRENT_FIX_INDEX  \\\n",
       "1                           1            1    RIGHT                  2   \n",
       "12                          1            1    RIGHT                 13   \n",
       "13                          1            1    RIGHT                 14   \n",
       "15                          1            1    RIGHT                 16   \n",
       "18                          1            1    RIGHT                 19   \n",
       "...                       ...          ...      ...                ...   \n",
       "1813                        1            9    RIGHT                 30   \n",
       "1814                        1            9    RIGHT                 31   \n",
       "1815                        1            9    RIGHT                 32   \n",
       "1816                        1            9    RIGHT                 33   \n",
       "1817                        1            9    RIGHT                 34   \n",
       "\n",
       "      CURRENT_FIX_START  CURRENT_FIX_END  CURRENT_FIX_DURATION  CURRENT_FIX_X  \\\n",
       "1                   185              401                   217          414.1   \n",
       "12                 2806             3066                   261          279.4   \n",
       "13                 3087             3210                   124          331.2   \n",
       "15                 3450             3635                   186          406.8   \n",
       "18                 4029             4193                   165          536.6   \n",
       "...                 ...              ...                   ...            ...   \n",
       "1813               6683             6988                   306          358.1   \n",
       "1814               7049             7183                   135          111.8   \n",
       "1815               7215             7447                   233           53.1   \n",
       "1816               7492             7783                   292          262.0   \n",
       "1817               9314             9477                   164          406.4   \n",
       "\n",
       "      CURRENT_FIX_X_RESOLUTION  CURRENT_FIX_Y  ...  PREVIOUS_FIX_DISTANCE  \\\n",
       "1                        32.00          634.5  ...                  14.19   \n",
       "12                       31.80           63.8  ...                   0.73   \n",
       "13                       31.55           76.6  ...                   1.66   \n",
       "15                       31.30           57.9  ...                   1.44   \n",
       "18                       31.20           66.5  ...                   3.34   \n",
       "...                        ...            ...  ...                    ...   \n",
       "1813                     31.40          127.3  ...                   6.55   \n",
       "1814                     32.75           80.8  ...                   7.76   \n",
       "1815                     33.15           56.8  ...                   1.87   \n",
       "1816                     31.80          156.0  ...                   6.85   \n",
       "1817                     31.75          539.7  ...                  10.17   \n",
       "\n",
       "     PREVIOUS_FIX_START PREVIOUS_FIX_END PREVIOUS_FIX_DURATION PREVIOUS_FIX_X  \\\n",
       "1                     7              112                 106.0          737.9   \n",
       "12                 2649             2790                 142.0          301.3   \n",
       "13                 2806             3066                 261.0          279.4   \n",
       "15                 3229             3428                 200.0          364.0   \n",
       "18                 3814             3992                 179.0          432.6   \n",
       "...                 ...              ...                   ...            ...   \n",
       "1813               6513             6640                 128.0          532.8   \n",
       "1814               6683             6988                 306.0          358.1   \n",
       "1815               7049             7183                 135.0          111.8   \n",
       "1816               7215             7447                 233.0           53.1   \n",
       "1817               7492             7783                 292.0          262.0   \n",
       "\n",
       "     PREVIOUS_FIX_X_RESOLUTION PREVIOUS_FIX_Y PREVIOUS_FIX_Y_RESOLUTION  \\\n",
       "1                         31.7            214                      41.7   \n",
       "12                        31.7           73.3                      41.7   \n",
       "13                        31.8           63.8                      41.8   \n",
       "15                       31.45           77.4                     41.55   \n",
       "18                        31.3           75.8                      41.4   \n",
       "...                        ...            ...                       ...   \n",
       "1813                      31.3          270.3                      41.5   \n",
       "1814                      31.4          127.3                      41.5   \n",
       "1815                     32.75           80.8                      42.4   \n",
       "1816                     33.15           56.8                      42.7   \n",
       "1817                      31.8            156                      41.7   \n",
       "\n",
       "       File  Line  \n",
       "1     CBT_1   2.0  \n",
       "12    CBT_1   2.0  \n",
       "13    CBT_1   2.0  \n",
       "15    CBT_1   2.0  \n",
       "18    CBT_1   1.0  \n",
       "...     ...   ...  \n",
       "1813  CBT_1  12.0  \n",
       "1814  CBT_1  12.0  \n",
       "1815  CBT_1  12.0  \n",
       "1816  CBT_1  12.0  \n",
       "1817  CBT_1  12.0  \n",
       "\n",
       "[116 rows x 31 columns]"
      ]
     },
     "execution_count": 24,
     "metadata": {},
     "output_type": "execute_result"
    }
   ],
   "source": [
    "data.iloc[anomalies]"
   ]
  },
  {
   "cell_type": "code",
   "execution_count": 25,
   "id": "3f050ca3",
   "metadata": {},
   "outputs": [
    {
     "data": {
      "text/plain": [
       "RECORDING_SESSION_LABEL          1\n",
       "TRIAL_INDEX                      9\n",
       "EYE_USED                     RIGHT\n",
       "CURRENT_FIX_INDEX               30\n",
       "CURRENT_FIX_START             6683\n",
       "CURRENT_FIX_END               6988\n",
       "CURRENT_FIX_DURATION           306\n",
       "CURRENT_FIX_X                358.1\n",
       "CURRENT_FIX_X_RESOLUTION      31.4\n",
       "CURRENT_FIX_Y                127.3\n",
       "CURRENT_FIX_Y_RESOLUTION      41.5\n",
       "NEXT_FIX_DIRECTION            LEFT\n",
       "NEXT_FIX_DISTANCE             7.76\n",
       "NEXT_FIX_START                7049\n",
       "NEXT_FIX_END                  7183\n",
       "NEXT_FIX_DURATION              135\n",
       "NEXT_FIX_X                   111.8\n",
       "NEXT_FIX_X_RESOLUTION        32.75\n",
       "NEXT_FIX_Y                    80.8\n",
       "NEXT_FIX_Y_RESOLUTION         42.4\n",
       "PREVIOUS_FIX_DIRECTION       RIGHT\n",
       "PREVIOUS_FIX_DISTANCE         6.55\n",
       "PREVIOUS_FIX_START            6513\n",
       "PREVIOUS_FIX_END              6640\n",
       "PREVIOUS_FIX_DURATION        128.0\n",
       "PREVIOUS_FIX_X               532.8\n",
       "PREVIOUS_FIX_X_RESOLUTION     31.3\n",
       "PREVIOUS_FIX_Y               270.3\n",
       "PREVIOUS_FIX_Y_RESOLUTION     41.5\n",
       "File                         CBT_1\n",
       "Line                          12.0\n",
       "Name: 1813, dtype: object"
      ]
     },
     "execution_count": 25,
     "metadata": {},
     "output_type": "execute_result"
    }
   ],
   "source": [
    "data.iloc[1813] "
   ]
  },
  {
   "cell_type": "code",
   "execution_count": 26,
   "id": "4d20e669-fdf6-46d0-9ca6-e9168ab35c93",
   "metadata": {
    "scrolled": true
   },
   "outputs": [
    {
     "data": {
      "text/plain": [
       "'CBT_1... '"
      ]
     },
     "metadata": {},
     "output_type": "display_data"
    },
    {
     "data": {
      "text/plain": [
       "'CBT_10... '"
      ]
     },
     "metadata": {},
     "output_type": "display_data"
    },
    {
     "data": {
      "text/plain": [
       "'CBT_11... '"
      ]
     },
     "metadata": {},
     "output_type": "display_data"
    },
    {
     "data": {
      "text/plain": [
       "'CBT_12... '"
      ]
     },
     "metadata": {},
     "output_type": "display_data"
    },
    {
     "data": {
      "text/plain": [
       "'CBT_13... '"
      ]
     },
     "metadata": {},
     "output_type": "display_data"
    },
    {
     "data": {
      "text/plain": [
       "'CBT_14... '"
      ]
     },
     "metadata": {},
     "output_type": "display_data"
    },
    {
     "data": {
      "text/plain": [
       "'CBT_15... '"
      ]
     },
     "metadata": {},
     "output_type": "display_data"
    },
    {
     "data": {
      "text/plain": [
       "'CBT_16... '"
      ]
     },
     "metadata": {},
     "output_type": "display_data"
    },
    {
     "data": {
      "text/plain": [
       "'CBT_17... '"
      ]
     },
     "metadata": {},
     "output_type": "display_data"
    },
    {
     "data": {
      "text/plain": [
       "'CBT_18... '"
      ]
     },
     "metadata": {},
     "output_type": "display_data"
    },
    {
     "data": {
      "text/plain": [
       "'CBT_19... '"
      ]
     },
     "metadata": {},
     "output_type": "display_data"
    },
    {
     "data": {
      "text/plain": [
       "'CBT_2... '"
      ]
     },
     "metadata": {},
     "output_type": "display_data"
    },
    {
     "data": {
      "text/plain": [
       "'CBT_20... '"
      ]
     },
     "metadata": {},
     "output_type": "display_data"
    },
    {
     "data": {
      "text/plain": [
       "'CBT_21... '"
      ]
     },
     "metadata": {},
     "output_type": "display_data"
    },
    {
     "data": {
      "text/plain": [
       "'CBT_22... '"
      ]
     },
     "metadata": {},
     "output_type": "display_data"
    },
    {
     "data": {
      "text/plain": [
       "'CBT_23... '"
      ]
     },
     "metadata": {},
     "output_type": "display_data"
    },
    {
     "data": {
      "text/plain": [
       "'CBT_24... '"
      ]
     },
     "metadata": {},
     "output_type": "display_data"
    },
    {
     "data": {
      "text/plain": [
       "'CBT_25... '"
      ]
     },
     "metadata": {},
     "output_type": "display_data"
    },
    {
     "data": {
      "text/plain": [
       "'CBT_26... '"
      ]
     },
     "metadata": {},
     "output_type": "display_data"
    },
    {
     "data": {
      "text/plain": [
       "'CBT_3... '"
      ]
     },
     "metadata": {},
     "output_type": "display_data"
    },
    {
     "data": {
      "text/plain": [
       "'CBT_4... '"
      ]
     },
     "metadata": {},
     "output_type": "display_data"
    },
    {
     "data": {
      "text/plain": [
       "'CBT_5... '"
      ]
     },
     "metadata": {},
     "output_type": "display_data"
    },
    {
     "data": {
      "text/plain": [
       "'CBT_7... '"
      ]
     },
     "metadata": {},
     "output_type": "display_data"
    },
    {
     "data": {
      "text/plain": [
       "'CBT_8... '"
      ]
     },
     "metadata": {},
     "output_type": "display_data"
    },
    {
     "data": {
      "text/plain": [
       "'CB_1... '"
      ]
     },
     "metadata": {},
     "output_type": "display_data"
    },
    {
     "data": {
      "text/plain": [
       "'CB_10... '"
      ]
     },
     "metadata": {},
     "output_type": "display_data"
    },
    {
     "data": {
      "text/plain": [
       "'CB_11... '"
      ]
     },
     "metadata": {},
     "output_type": "display_data"
    },
    {
     "data": {
      "text/plain": [
       "'CB_12... '"
      ]
     },
     "metadata": {},
     "output_type": "display_data"
    },
    {
     "data": {
      "text/plain": [
       "'CB_13... '"
      ]
     },
     "metadata": {},
     "output_type": "display_data"
    },
    {
     "data": {
      "text/plain": [
       "'CB_14... '"
      ]
     },
     "metadata": {},
     "output_type": "display_data"
    },
    {
     "data": {
      "text/plain": [
       "'CB_15... '"
      ]
     },
     "metadata": {},
     "output_type": "display_data"
    },
    {
     "data": {
      "text/plain": [
       "'CB_16... '"
      ]
     },
     "metadata": {},
     "output_type": "display_data"
    },
    {
     "data": {
      "text/plain": [
       "'CB_17... '"
      ]
     },
     "metadata": {},
     "output_type": "display_data"
    },
    {
     "data": {
      "text/plain": [
       "'CB_18... '"
      ]
     },
     "metadata": {},
     "output_type": "display_data"
    },
    {
     "data": {
      "text/plain": [
       "'CB_19... '"
      ]
     },
     "metadata": {},
     "output_type": "display_data"
    },
    {
     "data": {
      "text/plain": [
       "'CB_2... '"
      ]
     },
     "metadata": {},
     "output_type": "display_data"
    },
    {
     "data": {
      "text/plain": [
       "'CB_20... '"
      ]
     },
     "metadata": {},
     "output_type": "display_data"
    },
    {
     "data": {
      "text/plain": [
       "'CB_21... '"
      ]
     },
     "metadata": {},
     "output_type": "display_data"
    },
    {
     "data": {
      "text/plain": [
       "'CB_22... '"
      ]
     },
     "metadata": {},
     "output_type": "display_data"
    },
    {
     "data": {
      "text/plain": [
       "'CB_23... '"
      ]
     },
     "metadata": {},
     "output_type": "display_data"
    },
    {
     "data": {
      "text/plain": [
       "'CB_24... '"
      ]
     },
     "metadata": {},
     "output_type": "display_data"
    },
    {
     "data": {
      "text/plain": [
       "'CB_25... '"
      ]
     },
     "metadata": {},
     "output_type": "display_data"
    },
    {
     "data": {
      "text/plain": [
       "'CB_26... '"
      ]
     },
     "metadata": {},
     "output_type": "display_data"
    },
    {
     "data": {
      "text/plain": [
       "'CB_3... '"
      ]
     },
     "metadata": {},
     "output_type": "display_data"
    },
    {
     "data": {
      "text/plain": [
       "'CB_4... '"
      ]
     },
     "metadata": {},
     "output_type": "display_data"
    },
    {
     "data": {
      "text/plain": [
       "'CB_5... '"
      ]
     },
     "metadata": {},
     "output_type": "display_data"
    },
    {
     "data": {
      "text/plain": [
       "'CB_7... '"
      ]
     },
     "metadata": {},
     "output_type": "display_data"
    },
    {
     "data": {
      "text/plain": [
       "'CB_8... '"
      ]
     },
     "metadata": {},
     "output_type": "display_data"
    },
    {
     "data": {
      "text/plain": [
       "'GMF_1... '"
      ]
     },
     "metadata": {},
     "output_type": "display_data"
    },
    {
     "data": {
      "text/plain": [
       "'GMF_10... '"
      ]
     },
     "metadata": {},
     "output_type": "display_data"
    },
    {
     "data": {
      "text/plain": [
       "'GMF_11... '"
      ]
     },
     "metadata": {},
     "output_type": "display_data"
    },
    {
     "data": {
      "text/plain": [
       "'GMF_12... '"
      ]
     },
     "metadata": {},
     "output_type": "display_data"
    },
    {
     "data": {
      "text/plain": [
       "'GMF_13... '"
      ]
     },
     "metadata": {},
     "output_type": "display_data"
    },
    {
     "data": {
      "text/plain": [
       "'GMF_14... '"
      ]
     },
     "metadata": {},
     "output_type": "display_data"
    },
    {
     "data": {
      "text/plain": [
       "'GMF_15... '"
      ]
     },
     "metadata": {},
     "output_type": "display_data"
    },
    {
     "data": {
      "text/plain": [
       "'GMF_16... '"
      ]
     },
     "metadata": {},
     "output_type": "display_data"
    },
    {
     "data": {
      "text/plain": [
       "'GMF_17... '"
      ]
     },
     "metadata": {},
     "output_type": "display_data"
    },
    {
     "data": {
      "text/plain": [
       "'GMF_18... '"
      ]
     },
     "metadata": {},
     "output_type": "display_data"
    },
    {
     "data": {
      "text/plain": [
       "'GMF_19... '"
      ]
     },
     "metadata": {},
     "output_type": "display_data"
    },
    {
     "data": {
      "text/plain": [
       "'GMF_2... '"
      ]
     },
     "metadata": {},
     "output_type": "display_data"
    },
    {
     "data": {
      "text/plain": [
       "'GMF_20... '"
      ]
     },
     "metadata": {},
     "output_type": "display_data"
    },
    {
     "data": {
      "text/plain": [
       "'GMF_21... '"
      ]
     },
     "metadata": {},
     "output_type": "display_data"
    },
    {
     "data": {
      "text/plain": [
       "'GMF_22... '"
      ]
     },
     "metadata": {},
     "output_type": "display_data"
    },
    {
     "data": {
      "text/plain": [
       "'GMF_23... '"
      ]
     },
     "metadata": {},
     "output_type": "display_data"
    },
    {
     "data": {
      "text/plain": [
       "'GMF_24... '"
      ]
     },
     "metadata": {},
     "output_type": "display_data"
    },
    {
     "data": {
      "text/plain": [
       "'GMF_25... '"
      ]
     },
     "metadata": {},
     "output_type": "display_data"
    },
    {
     "data": {
      "text/plain": [
       "'GMF_26... '"
      ]
     },
     "metadata": {},
     "output_type": "display_data"
    },
    {
     "data": {
      "text/plain": [
       "'GMF_3... '"
      ]
     },
     "metadata": {},
     "output_type": "display_data"
    },
    {
     "data": {
      "text/plain": [
       "'GMF_4... '"
      ]
     },
     "metadata": {},
     "output_type": "display_data"
    },
    {
     "data": {
      "text/plain": [
       "'GMF_5... '"
      ]
     },
     "metadata": {},
     "output_type": "display_data"
    },
    {
     "data": {
      "text/plain": [
       "'GMF_7... '"
      ]
     },
     "metadata": {},
     "output_type": "display_data"
    },
    {
     "data": {
      "text/plain": [
       "'GMF_8... '"
      ]
     },
     "metadata": {},
     "output_type": "display_data"
    },
    {
     "data": {
      "text/plain": [
       "'LSW_1... '"
      ]
     },
     "metadata": {},
     "output_type": "display_data"
    },
    {
     "data": {
      "text/plain": [
       "'LSW_10... '"
      ]
     },
     "metadata": {},
     "output_type": "display_data"
    },
    {
     "data": {
      "text/plain": [
       "'LSW_11... '"
      ]
     },
     "metadata": {},
     "output_type": "display_data"
    },
    {
     "data": {
      "text/plain": [
       "'LSW_12... '"
      ]
     },
     "metadata": {},
     "output_type": "display_data"
    },
    {
     "data": {
      "text/plain": [
       "'LSW_13... '"
      ]
     },
     "metadata": {},
     "output_type": "display_data"
    },
    {
     "data": {
      "text/plain": [
       "'LSW_14... '"
      ]
     },
     "metadata": {},
     "output_type": "display_data"
    },
    {
     "data": {
      "text/plain": [
       "'LSW_15... '"
      ]
     },
     "metadata": {},
     "output_type": "display_data"
    },
    {
     "data": {
      "text/plain": [
       "'LSW_16... '"
      ]
     },
     "metadata": {},
     "output_type": "display_data"
    },
    {
     "data": {
      "text/plain": [
       "'LSW_17... '"
      ]
     },
     "metadata": {},
     "output_type": "display_data"
    },
    {
     "data": {
      "text/plain": [
       "'LSW_18... '"
      ]
     },
     "metadata": {},
     "output_type": "display_data"
    },
    {
     "data": {
      "text/plain": [
       "'LSW_19... '"
      ]
     },
     "metadata": {},
     "output_type": "display_data"
    },
    {
     "data": {
      "text/plain": [
       "'LSW_2... '"
      ]
     },
     "metadata": {},
     "output_type": "display_data"
    },
    {
     "data": {
      "text/plain": [
       "'LSW_20... '"
      ]
     },
     "metadata": {},
     "output_type": "display_data"
    },
    {
     "data": {
      "text/plain": [
       "'LSW_21... '"
      ]
     },
     "metadata": {},
     "output_type": "display_data"
    },
    {
     "data": {
      "text/plain": [
       "'LSW_22... '"
      ]
     },
     "metadata": {},
     "output_type": "display_data"
    },
    {
     "data": {
      "text/plain": [
       "'LSW_23... '"
      ]
     },
     "metadata": {},
     "output_type": "display_data"
    },
    {
     "data": {
      "text/plain": [
       "'LSW_24... '"
      ]
     },
     "metadata": {},
     "output_type": "display_data"
    },
    {
     "data": {
      "text/plain": [
       "'LSW_25... '"
      ]
     },
     "metadata": {},
     "output_type": "display_data"
    },
    {
     "data": {
      "text/plain": [
       "'LSW_26... '"
      ]
     },
     "metadata": {},
     "output_type": "display_data"
    },
    {
     "data": {
      "text/plain": [
       "'LSW_3... '"
      ]
     },
     "metadata": {},
     "output_type": "display_data"
    },
    {
     "data": {
      "text/plain": [
       "'LSW_4... '"
      ]
     },
     "metadata": {},
     "output_type": "display_data"
    },
    {
     "data": {
      "text/plain": [
       "'LSW_5... '"
      ]
     },
     "metadata": {},
     "output_type": "display_data"
    },
    {
     "data": {
      "text/plain": [
       "'LSW_7... '"
      ]
     },
     "metadata": {},
     "output_type": "display_data"
    },
    {
     "data": {
      "text/plain": [
       "'LSW_8... '"
      ]
     },
     "metadata": {},
     "output_type": "display_data"
    },
    {
     "data": {
      "text/plain": [
       "'Done'"
      ]
     },
     "metadata": {},
     "output_type": "display_data"
    }
   ],
   "source": [
    "seq = pd.DataFrame(columns=[\"start_fix_idx\", \"end_fix_idx\", \"Participant\", \"Break_condition\", \"Class\", \"Overlap_with\"])\n",
    "\n",
    "seq_idx = 0\n",
    "cond = None\n",
    "\n",
    "start_idx, start_fix = 0, data.iloc[0]\n",
    "prefix_idx, prefix, preP = 0, data.iloc[0], ''\n",
    "\n",
    "unread = pd.DataFrame(columns=[\"start_fix_idx\", \"end_fix_idx\"])\n",
    "move_back = None\n",
    "\n",
    "for P in Participants:\n",
    "    display(P + \"... \")\n",
    "    for idx, fix in data[data[\"File\"] == P].iterrows():\n",
    "        # Divide sequences\n",
    "        cond = breakSeq(start_fix, fix, prefix)\n",
    "                \n",
    "        if cond:\n",
    "            if numberFixBetween(start_idx, prefix_idx) >= 3:\n",
    "                seq.loc[seq_idx] = [start_idx, prefix_idx, preP, cond] + classifySeq(start_idx, prefix_idx, seq[seq[\"Participant\"] == P])\n",
    "                seq_idx += 1\n",
    "            start_idx, start_fix = idx, fix\n",
    "            cond = None\n",
    "\n",
    "        prefix_idx, prefix, preP = idx, fix, P\n",
    "        \n",
    "display(\"Done\")"
   ]
  },
  {
   "cell_type": "code",
   "execution_count": 27,
   "id": "f63de9a8",
   "metadata": {
    "scrolled": true
   },
   "outputs": [
    {
     "data": {
      "text/html": [
       "<div>\n",
       "<style scoped>\n",
       "    .dataframe tbody tr th:only-of-type {\n",
       "        vertical-align: middle;\n",
       "    }\n",
       "\n",
       "    .dataframe tbody tr th {\n",
       "        vertical-align: top;\n",
       "    }\n",
       "\n",
       "    .dataframe thead th {\n",
       "        text-align: right;\n",
       "    }\n",
       "</style>\n",
       "<table border=\"1\" class=\"dataframe\">\n",
       "  <thead>\n",
       "    <tr style=\"text-align: right;\">\n",
       "      <th></th>\n",
       "      <th>start_fix_idx</th>\n",
       "      <th>end_fix_idx</th>\n",
       "      <th>Participant</th>\n",
       "      <th>Break_condition</th>\n",
       "      <th>Class</th>\n",
       "      <th>Overlap_with</th>\n",
       "    </tr>\n",
       "  </thead>\n",
       "  <tbody>\n",
       "    <tr>\n",
       "      <th>0</th>\n",
       "      <td>7</td>\n",
       "      <td>15</td>\n",
       "      <td>CBT_1</td>\n",
       "      <td>X DIFF LINE RIGHT</td>\n",
       "      <td>First Pass</td>\n",
       "      <td>None</td>\n",
       "    </tr>\n",
       "    <tr>\n",
       "      <th>1</th>\n",
       "      <td>21</td>\n",
       "      <td>31</td>\n",
       "      <td>CBT_1</td>\n",
       "      <td>X SAME LINE LEFT</td>\n",
       "      <td>First Pass</td>\n",
       "      <td>None</td>\n",
       "    </tr>\n",
       "    <tr>\n",
       "      <th>2</th>\n",
       "      <td>33</td>\n",
       "      <td>40</td>\n",
       "      <td>CBT_1</td>\n",
       "      <td>X DIFF LINE RIGHT</td>\n",
       "      <td>Second Pass/duration_Left</td>\n",
       "      <td>0</td>\n",
       "    </tr>\n",
       "    <tr>\n",
       "      <th>3</th>\n",
       "      <td>41</td>\n",
       "      <td>50</td>\n",
       "      <td>CBT_1</td>\n",
       "      <td>X SAME LINE LEFT</td>\n",
       "      <td>First Pass</td>\n",
       "      <td>None</td>\n",
       "    </tr>\n",
       "    <tr>\n",
       "      <th>4</th>\n",
       "      <td>51</td>\n",
       "      <td>54</td>\n",
       "      <td>CBT_1</td>\n",
       "      <td>SAC</td>\n",
       "      <td>First Pass</td>\n",
       "      <td>None</td>\n",
       "    </tr>\n",
       "    <tr>\n",
       "      <th>...</th>\n",
       "      <td>...</td>\n",
       "      <td>...</td>\n",
       "      <td>...</td>\n",
       "      <td>...</td>\n",
       "      <td>...</td>\n",
       "      <td>...</td>\n",
       "    </tr>\n",
       "    <tr>\n",
       "      <th>8689</th>\n",
       "      <td>100072</td>\n",
       "      <td>100076</td>\n",
       "      <td>LSW_8</td>\n",
       "      <td>X DIFF LINE RIGHT</td>\n",
       "      <td>Second Pass/meanSaccade_Left</td>\n",
       "      <td>8647</td>\n",
       "    </tr>\n",
       "    <tr>\n",
       "      <th>8690</th>\n",
       "      <td>100087</td>\n",
       "      <td>100095</td>\n",
       "      <td>LSW_8</td>\n",
       "      <td>X DIFF LINE RIGHT</td>\n",
       "      <td>Second Pass/More30%_Right</td>\n",
       "      <td>8650</td>\n",
       "    </tr>\n",
       "    <tr>\n",
       "      <th>8691</th>\n",
       "      <td>100097</td>\n",
       "      <td>100102</td>\n",
       "      <td>LSW_8</td>\n",
       "      <td>X SAME LINE RIGHT</td>\n",
       "      <td>Second Pass/meanDuration_Right</td>\n",
       "      <td>8651</td>\n",
       "    </tr>\n",
       "    <tr>\n",
       "      <th>8692</th>\n",
       "      <td>100103</td>\n",
       "      <td>100107</td>\n",
       "      <td>LSW_8</td>\n",
       "      <td>X DIFF LINE RIGHT</td>\n",
       "      <td>First Pass</td>\n",
       "      <td>None</td>\n",
       "    </tr>\n",
       "    <tr>\n",
       "      <th>8693</th>\n",
       "      <td>100112</td>\n",
       "      <td>100115</td>\n",
       "      <td>LSW_8</td>\n",
       "      <td>X DIFF LINE RIGHT</td>\n",
       "      <td>First Pass_BT_Left</td>\n",
       "      <td>8654</td>\n",
       "    </tr>\n",
       "  </tbody>\n",
       "</table>\n",
       "<p>8694 rows × 6 columns</p>\n",
       "</div>"
      ],
      "text/plain": [
       "      start_fix_idx  end_fix_idx Participant    Break_condition  \\\n",
       "0                 7           15       CBT_1  X DIFF LINE RIGHT   \n",
       "1                21           31       CBT_1   X SAME LINE LEFT   \n",
       "2                33           40       CBT_1  X DIFF LINE RIGHT   \n",
       "3                41           50       CBT_1   X SAME LINE LEFT   \n",
       "4                51           54       CBT_1                SAC   \n",
       "...             ...          ...         ...                ...   \n",
       "8689         100072       100076       LSW_8  X DIFF LINE RIGHT   \n",
       "8690         100087       100095       LSW_8  X DIFF LINE RIGHT   \n",
       "8691         100097       100102       LSW_8  X SAME LINE RIGHT   \n",
       "8692         100103       100107       LSW_8  X DIFF LINE RIGHT   \n",
       "8693         100112       100115       LSW_8  X DIFF LINE RIGHT   \n",
       "\n",
       "                               Class Overlap_with  \n",
       "0                         First Pass         None  \n",
       "1                         First Pass         None  \n",
       "2          Second Pass/duration_Left            0  \n",
       "3                         First Pass         None  \n",
       "4                         First Pass         None  \n",
       "...                              ...          ...  \n",
       "8689    Second Pass/meanSaccade_Left         8647  \n",
       "8690       Second Pass/More30%_Right         8650  \n",
       "8691  Second Pass/meanDuration_Right         8651  \n",
       "8692                      First Pass         None  \n",
       "8693              First Pass_BT_Left         8654  \n",
       "\n",
       "[8694 rows x 6 columns]"
      ]
     },
     "execution_count": 27,
     "metadata": {},
     "output_type": "execute_result"
    }
   ],
   "source": [
    "seq"
   ]
  },
  {
   "cell_type": "code",
   "execution_count": 28,
   "id": "5706ba16",
   "metadata": {
    "scrolled": true
   },
   "outputs": [
    {
     "data": {
      "text/html": [
       "<div>\n",
       "<style scoped>\n",
       "    .dataframe tbody tr th:only-of-type {\n",
       "        vertical-align: middle;\n",
       "    }\n",
       "\n",
       "    .dataframe tbody tr th {\n",
       "        vertical-align: top;\n",
       "    }\n",
       "\n",
       "    .dataframe thead th {\n",
       "        text-align: right;\n",
       "    }\n",
       "</style>\n",
       "<table border=\"1\" class=\"dataframe\">\n",
       "  <thead>\n",
       "    <tr style=\"text-align: right;\">\n",
       "      <th></th>\n",
       "      <th>start_fix_idx</th>\n",
       "      <th>end_fix_idx</th>\n",
       "      <th>Participant</th>\n",
       "      <th>Break_condition</th>\n",
       "      <th>Class</th>\n",
       "      <th>Overlap_with</th>\n",
       "    </tr>\n",
       "  </thead>\n",
       "  <tbody>\n",
       "    <tr>\n",
       "      <th>0</th>\n",
       "      <td>7</td>\n",
       "      <td>15</td>\n",
       "      <td>CBT_1</td>\n",
       "      <td>X DIFF LINE RIGHT</td>\n",
       "      <td>First Pass</td>\n",
       "      <td>None</td>\n",
       "    </tr>\n",
       "    <tr>\n",
       "      <th>1</th>\n",
       "      <td>21</td>\n",
       "      <td>31</td>\n",
       "      <td>CBT_1</td>\n",
       "      <td>X SAME LINE LEFT</td>\n",
       "      <td>First Pass</td>\n",
       "      <td>None</td>\n",
       "    </tr>\n",
       "    <tr>\n",
       "      <th>2</th>\n",
       "      <td>33</td>\n",
       "      <td>40</td>\n",
       "      <td>CBT_1</td>\n",
       "      <td>X DIFF LINE RIGHT</td>\n",
       "      <td>Second Pass/duration_Left</td>\n",
       "      <td>0</td>\n",
       "    </tr>\n",
       "    <tr>\n",
       "      <th>3</th>\n",
       "      <td>41</td>\n",
       "      <td>50</td>\n",
       "      <td>CBT_1</td>\n",
       "      <td>X SAME LINE LEFT</td>\n",
       "      <td>First Pass</td>\n",
       "      <td>None</td>\n",
       "    </tr>\n",
       "    <tr>\n",
       "      <th>4</th>\n",
       "      <td>51</td>\n",
       "      <td>54</td>\n",
       "      <td>CBT_1</td>\n",
       "      <td>SAC</td>\n",
       "      <td>First Pass</td>\n",
       "      <td>None</td>\n",
       "    </tr>\n",
       "    <tr>\n",
       "      <th>...</th>\n",
       "      <td>...</td>\n",
       "      <td>...</td>\n",
       "      <td>...</td>\n",
       "      <td>...</td>\n",
       "      <td>...</td>\n",
       "      <td>...</td>\n",
       "    </tr>\n",
       "    <tr>\n",
       "      <th>8689</th>\n",
       "      <td>100072</td>\n",
       "      <td>100076</td>\n",
       "      <td>LSW_8</td>\n",
       "      <td>X DIFF LINE RIGHT</td>\n",
       "      <td>Second Pass/meanSaccade_Left</td>\n",
       "      <td>8647</td>\n",
       "    </tr>\n",
       "    <tr>\n",
       "      <th>8690</th>\n",
       "      <td>100087</td>\n",
       "      <td>100095</td>\n",
       "      <td>LSW_8</td>\n",
       "      <td>X DIFF LINE RIGHT</td>\n",
       "      <td>Second Pass/More30%_Right</td>\n",
       "      <td>8650</td>\n",
       "    </tr>\n",
       "    <tr>\n",
       "      <th>8691</th>\n",
       "      <td>100097</td>\n",
       "      <td>100102</td>\n",
       "      <td>LSW_8</td>\n",
       "      <td>X SAME LINE RIGHT</td>\n",
       "      <td>Second Pass/meanDuration_Right</td>\n",
       "      <td>8651</td>\n",
       "    </tr>\n",
       "    <tr>\n",
       "      <th>8692</th>\n",
       "      <td>100103</td>\n",
       "      <td>100107</td>\n",
       "      <td>LSW_8</td>\n",
       "      <td>X DIFF LINE RIGHT</td>\n",
       "      <td>First Pass</td>\n",
       "      <td>None</td>\n",
       "    </tr>\n",
       "    <tr>\n",
       "      <th>8693</th>\n",
       "      <td>100112</td>\n",
       "      <td>100115</td>\n",
       "      <td>LSW_8</td>\n",
       "      <td>X DIFF LINE RIGHT</td>\n",
       "      <td>First Pass_BT_Left</td>\n",
       "      <td>8654</td>\n",
       "    </tr>\n",
       "  </tbody>\n",
       "</table>\n",
       "<p>8694 rows × 6 columns</p>\n",
       "</div>"
      ],
      "text/plain": [
       "      start_fix_idx  end_fix_idx Participant    Break_condition  \\\n",
       "0                 7           15       CBT_1  X DIFF LINE RIGHT   \n",
       "1                21           31       CBT_1   X SAME LINE LEFT   \n",
       "2                33           40       CBT_1  X DIFF LINE RIGHT   \n",
       "3                41           50       CBT_1   X SAME LINE LEFT   \n",
       "4                51           54       CBT_1                SAC   \n",
       "...             ...          ...         ...                ...   \n",
       "8689         100072       100076       LSW_8  X DIFF LINE RIGHT   \n",
       "8690         100087       100095       LSW_8  X DIFF LINE RIGHT   \n",
       "8691         100097       100102       LSW_8  X SAME LINE RIGHT   \n",
       "8692         100103       100107       LSW_8  X DIFF LINE RIGHT   \n",
       "8693         100112       100115       LSW_8  X DIFF LINE RIGHT   \n",
       "\n",
       "                               Class Overlap_with  \n",
       "0                         First Pass         None  \n",
       "1                         First Pass         None  \n",
       "2          Second Pass/duration_Left            0  \n",
       "3                         First Pass         None  \n",
       "4                         First Pass         None  \n",
       "...                              ...          ...  \n",
       "8689    Second Pass/meanSaccade_Left         8647  \n",
       "8690       Second Pass/More30%_Right         8650  \n",
       "8691  Second Pass/meanDuration_Right         8651  \n",
       "8692                      First Pass         None  \n",
       "8693              First Pass_BT_Left         8654  \n",
       "\n",
       "[8694 rows x 6 columns]"
      ]
     },
     "execution_count": 28,
     "metadata": {},
     "output_type": "execute_result"
    }
   ],
   "source": [
    "seq"
   ]
  },
  {
   "cell_type": "code",
   "execution_count": 29,
   "id": "b863dbe3",
   "metadata": {
    "scrolled": false
   },
   "outputs": [
    {
     "data": {
      "text/html": [
       "<div>\n",
       "<style scoped>\n",
       "    .dataframe tbody tr th:only-of-type {\n",
       "        vertical-align: middle;\n",
       "    }\n",
       "\n",
       "    .dataframe tbody tr th {\n",
       "        vertical-align: top;\n",
       "    }\n",
       "\n",
       "    .dataframe thead th {\n",
       "        text-align: right;\n",
       "    }\n",
       "</style>\n",
       "<table border=\"1\" class=\"dataframe\">\n",
       "  <thead>\n",
       "    <tr style=\"text-align: right;\">\n",
       "      <th></th>\n",
       "      <th>start_fix_idx</th>\n",
       "      <th>end_fix_idx</th>\n",
       "      <th>Participant</th>\n",
       "      <th>Break_condition</th>\n",
       "      <th>Class</th>\n",
       "      <th>Overlap_with</th>\n",
       "    </tr>\n",
       "  </thead>\n",
       "  <tbody>\n",
       "    <tr>\n",
       "      <th>0</th>\n",
       "      <td>7</td>\n",
       "      <td>15</td>\n",
       "      <td>CBT_1</td>\n",
       "      <td>X DIFF LINE RIGHT</td>\n",
       "      <td>First Pass</td>\n",
       "      <td>None</td>\n",
       "    </tr>\n",
       "    <tr>\n",
       "      <th>1</th>\n",
       "      <td>21</td>\n",
       "      <td>31</td>\n",
       "      <td>CBT_1</td>\n",
       "      <td>X SAME LINE LEFT</td>\n",
       "      <td>First Pass</td>\n",
       "      <td>None</td>\n",
       "    </tr>\n",
       "    <tr>\n",
       "      <th>3</th>\n",
       "      <td>41</td>\n",
       "      <td>50</td>\n",
       "      <td>CBT_1</td>\n",
       "      <td>X SAME LINE LEFT</td>\n",
       "      <td>First Pass</td>\n",
       "      <td>None</td>\n",
       "    </tr>\n",
       "    <tr>\n",
       "      <th>4</th>\n",
       "      <td>51</td>\n",
       "      <td>54</td>\n",
       "      <td>CBT_1</td>\n",
       "      <td>SAC</td>\n",
       "      <td>First Pass</td>\n",
       "      <td>None</td>\n",
       "    </tr>\n",
       "    <tr>\n",
       "      <th>7</th>\n",
       "      <td>73</td>\n",
       "      <td>80</td>\n",
       "      <td>CBT_1</td>\n",
       "      <td>SAC</td>\n",
       "      <td>First Pass</td>\n",
       "      <td>None</td>\n",
       "    </tr>\n",
       "    <tr>\n",
       "      <th>...</th>\n",
       "      <td>...</td>\n",
       "      <td>...</td>\n",
       "      <td>...</td>\n",
       "      <td>...</td>\n",
       "      <td>...</td>\n",
       "      <td>...</td>\n",
       "    </tr>\n",
       "    <tr>\n",
       "      <th>8686</th>\n",
       "      <td>100041</td>\n",
       "      <td>100045</td>\n",
       "      <td>LSW_8</td>\n",
       "      <td>X SAME LINE RIGHT</td>\n",
       "      <td>First Pass_BT_Left</td>\n",
       "      <td>8643</td>\n",
       "    </tr>\n",
       "    <tr>\n",
       "      <th>8687</th>\n",
       "      <td>100051</td>\n",
       "      <td>100054</td>\n",
       "      <td>LSW_8</td>\n",
       "      <td>X SAME LINE RIGHT</td>\n",
       "      <td>First Pass</td>\n",
       "      <td>None</td>\n",
       "    </tr>\n",
       "    <tr>\n",
       "      <th>8688</th>\n",
       "      <td>100059</td>\n",
       "      <td>100062</td>\n",
       "      <td>LSW_8</td>\n",
       "      <td>X DIFF LINE RIGHT</td>\n",
       "      <td>First Pass</td>\n",
       "      <td>None</td>\n",
       "    </tr>\n",
       "    <tr>\n",
       "      <th>8692</th>\n",
       "      <td>100103</td>\n",
       "      <td>100107</td>\n",
       "      <td>LSW_8</td>\n",
       "      <td>X DIFF LINE RIGHT</td>\n",
       "      <td>First Pass</td>\n",
       "      <td>None</td>\n",
       "    </tr>\n",
       "    <tr>\n",
       "      <th>8693</th>\n",
       "      <td>100112</td>\n",
       "      <td>100115</td>\n",
       "      <td>LSW_8</td>\n",
       "      <td>X DIFF LINE RIGHT</td>\n",
       "      <td>First Pass_BT_Left</td>\n",
       "      <td>8654</td>\n",
       "    </tr>\n",
       "  </tbody>\n",
       "</table>\n",
       "<p>5068 rows × 6 columns</p>\n",
       "</div>"
      ],
      "text/plain": [
       "      start_fix_idx  end_fix_idx Participant    Break_condition  \\\n",
       "0                 7           15       CBT_1  X DIFF LINE RIGHT   \n",
       "1                21           31       CBT_1   X SAME LINE LEFT   \n",
       "3                41           50       CBT_1   X SAME LINE LEFT   \n",
       "4                51           54       CBT_1                SAC   \n",
       "7                73           80       CBT_1                SAC   \n",
       "...             ...          ...         ...                ...   \n",
       "8686         100041       100045       LSW_8  X SAME LINE RIGHT   \n",
       "8687         100051       100054       LSW_8  X SAME LINE RIGHT   \n",
       "8688         100059       100062       LSW_8  X DIFF LINE RIGHT   \n",
       "8692         100103       100107       LSW_8  X DIFF LINE RIGHT   \n",
       "8693         100112       100115       LSW_8  X DIFF LINE RIGHT   \n",
       "\n",
       "                   Class Overlap_with  \n",
       "0             First Pass         None  \n",
       "1             First Pass         None  \n",
       "3             First Pass         None  \n",
       "4             First Pass         None  \n",
       "7             First Pass         None  \n",
       "...                  ...          ...  \n",
       "8686  First Pass_BT_Left         8643  \n",
       "8687          First Pass         None  \n",
       "8688          First Pass         None  \n",
       "8692          First Pass         None  \n",
       "8693  First Pass_BT_Left         8654  \n",
       "\n",
       "[5068 rows x 6 columns]"
      ]
     },
     "execution_count": 29,
     "metadata": {},
     "output_type": "execute_result"
    }
   ],
   "source": [
    "seq[seq[\"Class\"].str.contains(\"First Pass\")]"
   ]
  },
  {
   "cell_type": "code",
   "execution_count": 30,
   "id": "0b6671b5",
   "metadata": {
    "scrolled": false
   },
   "outputs": [
    {
     "data": {
      "text/html": [
       "<div>\n",
       "<style scoped>\n",
       "    .dataframe tbody tr th:only-of-type {\n",
       "        vertical-align: middle;\n",
       "    }\n",
       "\n",
       "    .dataframe tbody tr th {\n",
       "        vertical-align: top;\n",
       "    }\n",
       "\n",
       "    .dataframe thead th {\n",
       "        text-align: right;\n",
       "    }\n",
       "</style>\n",
       "<table border=\"1\" class=\"dataframe\">\n",
       "  <thead>\n",
       "    <tr style=\"text-align: right;\">\n",
       "      <th></th>\n",
       "      <th>start_fix_idx</th>\n",
       "      <th>end_fix_idx</th>\n",
       "      <th>Participant</th>\n",
       "      <th>Break_condition</th>\n",
       "      <th>Class</th>\n",
       "      <th>Overlap_with</th>\n",
       "    </tr>\n",
       "  </thead>\n",
       "  <tbody>\n",
       "    <tr>\n",
       "      <th>2</th>\n",
       "      <td>33</td>\n",
       "      <td>40</td>\n",
       "      <td>CBT_1</td>\n",
       "      <td>X DIFF LINE RIGHT</td>\n",
       "      <td>Second Pass/duration_Left</td>\n",
       "      <td>0</td>\n",
       "    </tr>\n",
       "    <tr>\n",
       "      <th>5</th>\n",
       "      <td>55</td>\n",
       "      <td>60</td>\n",
       "      <td>CBT_1</td>\n",
       "      <td>SAC</td>\n",
       "      <td>Second Pass/no.Fix_Left</td>\n",
       "      <td>3</td>\n",
       "    </tr>\n",
       "    <tr>\n",
       "      <th>6</th>\n",
       "      <td>61</td>\n",
       "      <td>71</td>\n",
       "      <td>CBT_1</td>\n",
       "      <td>X SAME LINE LEFT</td>\n",
       "      <td>Second Pass/meanDuration_Right</td>\n",
       "      <td>5</td>\n",
       "    </tr>\n",
       "    <tr>\n",
       "      <th>13</th>\n",
       "      <td>130</td>\n",
       "      <td>133</td>\n",
       "      <td>CBT_1</td>\n",
       "      <td>X SAME LINE LEFT</td>\n",
       "      <td>Second Pass/meanDuration_Right</td>\n",
       "      <td>12</td>\n",
       "    </tr>\n",
       "    <tr>\n",
       "      <th>14</th>\n",
       "      <td>134</td>\n",
       "      <td>142</td>\n",
       "      <td>CBT_1</td>\n",
       "      <td>SAC</td>\n",
       "      <td>Second Pass/meanDuration_Right</td>\n",
       "      <td>12</td>\n",
       "    </tr>\n",
       "    <tr>\n",
       "      <th>...</th>\n",
       "      <td>...</td>\n",
       "      <td>...</td>\n",
       "      <td>...</td>\n",
       "      <td>...</td>\n",
       "      <td>...</td>\n",
       "      <td>...</td>\n",
       "    </tr>\n",
       "    <tr>\n",
       "      <th>8676</th>\n",
       "      <td>99942</td>\n",
       "      <td>99947</td>\n",
       "      <td>LSW_8</td>\n",
       "      <td>X SAME LINE RIGHT</td>\n",
       "      <td>Second Pass/meanDuration_Right</td>\n",
       "      <td>8673</td>\n",
       "    </tr>\n",
       "    <tr>\n",
       "      <th>8685</th>\n",
       "      <td>100032</td>\n",
       "      <td>100035</td>\n",
       "      <td>LSW_8</td>\n",
       "      <td>X DIFF LINE RIGHT</td>\n",
       "      <td>Second Pass/More30%_Right</td>\n",
       "      <td>8641</td>\n",
       "    </tr>\n",
       "    <tr>\n",
       "      <th>8689</th>\n",
       "      <td>100072</td>\n",
       "      <td>100076</td>\n",
       "      <td>LSW_8</td>\n",
       "      <td>X DIFF LINE RIGHT</td>\n",
       "      <td>Second Pass/meanSaccade_Left</td>\n",
       "      <td>8647</td>\n",
       "    </tr>\n",
       "    <tr>\n",
       "      <th>8690</th>\n",
       "      <td>100087</td>\n",
       "      <td>100095</td>\n",
       "      <td>LSW_8</td>\n",
       "      <td>X DIFF LINE RIGHT</td>\n",
       "      <td>Second Pass/More30%_Right</td>\n",
       "      <td>8650</td>\n",
       "    </tr>\n",
       "    <tr>\n",
       "      <th>8691</th>\n",
       "      <td>100097</td>\n",
       "      <td>100102</td>\n",
       "      <td>LSW_8</td>\n",
       "      <td>X SAME LINE RIGHT</td>\n",
       "      <td>Second Pass/meanDuration_Right</td>\n",
       "      <td>8651</td>\n",
       "    </tr>\n",
       "  </tbody>\n",
       "</table>\n",
       "<p>3626 rows × 6 columns</p>\n",
       "</div>"
      ],
      "text/plain": [
       "      start_fix_idx  end_fix_idx Participant    Break_condition  \\\n",
       "2                33           40       CBT_1  X DIFF LINE RIGHT   \n",
       "5                55           60       CBT_1                SAC   \n",
       "6                61           71       CBT_1   X SAME LINE LEFT   \n",
       "13              130          133       CBT_1   X SAME LINE LEFT   \n",
       "14              134          142       CBT_1                SAC   \n",
       "...             ...          ...         ...                ...   \n",
       "8676          99942        99947       LSW_8  X SAME LINE RIGHT   \n",
       "8685         100032       100035       LSW_8  X DIFF LINE RIGHT   \n",
       "8689         100072       100076       LSW_8  X DIFF LINE RIGHT   \n",
       "8690         100087       100095       LSW_8  X DIFF LINE RIGHT   \n",
       "8691         100097       100102       LSW_8  X SAME LINE RIGHT   \n",
       "\n",
       "                               Class Overlap_with  \n",
       "2          Second Pass/duration_Left            0  \n",
       "5            Second Pass/no.Fix_Left            3  \n",
       "6     Second Pass/meanDuration_Right            5  \n",
       "13    Second Pass/meanDuration_Right           12  \n",
       "14    Second Pass/meanDuration_Right           12  \n",
       "...                              ...          ...  \n",
       "8676  Second Pass/meanDuration_Right         8673  \n",
       "8685       Second Pass/More30%_Right         8641  \n",
       "8689    Second Pass/meanSaccade_Left         8647  \n",
       "8690       Second Pass/More30%_Right         8650  \n",
       "8691  Second Pass/meanDuration_Right         8651  \n",
       "\n",
       "[3626 rows x 6 columns]"
      ]
     },
     "execution_count": 30,
     "metadata": {},
     "output_type": "execute_result"
    }
   ],
   "source": [
    "seq[seq[\"Class\"].str.contains(\"Second Pass\")]"
   ]
  },
  {
   "cell_type": "code",
   "execution_count": 31,
   "id": "e1b45dbe",
   "metadata": {},
   "outputs": [
    {
     "data": {
      "text/html": [
       "<div>\n",
       "<style scoped>\n",
       "    .dataframe tbody tr th:only-of-type {\n",
       "        vertical-align: middle;\n",
       "    }\n",
       "\n",
       "    .dataframe tbody tr th {\n",
       "        vertical-align: top;\n",
       "    }\n",
       "\n",
       "    .dataframe thead th {\n",
       "        text-align: right;\n",
       "    }\n",
       "</style>\n",
       "<table border=\"1\" class=\"dataframe\">\n",
       "  <thead>\n",
       "    <tr style=\"text-align: right;\">\n",
       "      <th></th>\n",
       "      <th>TRIAL_INDEX</th>\n",
       "    </tr>\n",
       "    <tr>\n",
       "      <th>File</th>\n",
       "      <th></th>\n",
       "    </tr>\n",
       "  </thead>\n",
       "  <tbody>\n",
       "    <tr>\n",
       "      <th>CBT_1</th>\n",
       "      <td>9</td>\n",
       "    </tr>\n",
       "    <tr>\n",
       "      <th>CBT_10</th>\n",
       "      <td>3</td>\n",
       "    </tr>\n",
       "    <tr>\n",
       "      <th>CBT_11</th>\n",
       "      <td>2</td>\n",
       "    </tr>\n",
       "    <tr>\n",
       "      <th>CBT_12</th>\n",
       "      <td>4</td>\n",
       "    </tr>\n",
       "    <tr>\n",
       "      <th>CBT_13</th>\n",
       "      <td>2</td>\n",
       "    </tr>\n",
       "    <tr>\n",
       "      <th>...</th>\n",
       "      <td>...</td>\n",
       "    </tr>\n",
       "    <tr>\n",
       "      <th>LSW_3</th>\n",
       "      <td>3</td>\n",
       "    </tr>\n",
       "    <tr>\n",
       "      <th>LSW_4</th>\n",
       "      <td>4</td>\n",
       "    </tr>\n",
       "    <tr>\n",
       "      <th>LSW_5</th>\n",
       "      <td>5</td>\n",
       "    </tr>\n",
       "    <tr>\n",
       "      <th>LSW_7</th>\n",
       "      <td>2</td>\n",
       "    </tr>\n",
       "    <tr>\n",
       "      <th>LSW_8</th>\n",
       "      <td>3</td>\n",
       "    </tr>\n",
       "  </tbody>\n",
       "</table>\n",
       "<p>96 rows × 1 columns</p>\n",
       "</div>"
      ],
      "text/plain": [
       "        TRIAL_INDEX\n",
       "File               \n",
       "CBT_1             9\n",
       "CBT_10            3\n",
       "CBT_11            2\n",
       "CBT_12            4\n",
       "CBT_13            2\n",
       "...             ...\n",
       "LSW_3             3\n",
       "LSW_4             4\n",
       "LSW_5             5\n",
       "LSW_7             2\n",
       "LSW_8             3\n",
       "\n",
       "[96 rows x 1 columns]"
      ]
     },
     "execution_count": 31,
     "metadata": {},
     "output_type": "execute_result"
    }
   ],
   "source": [
    "data.groupby([\"File\"])[['TRIAL_INDEX']].max()"
   ]
  },
  {
   "cell_type": "code",
   "execution_count": 32,
   "id": "60961df8",
   "metadata": {},
   "outputs": [
    {
     "data": {
      "text/plain": [
       "TRIAL_INDEX    3.635417\n",
       "dtype: float64"
      ]
     },
     "execution_count": 32,
     "metadata": {},
     "output_type": "execute_result"
    }
   ],
   "source": [
    "data.groupby([\"File\"])[['TRIAL_INDEX']].max().mean()"
   ]
  },
  {
   "cell_type": "code",
   "execution_count": 33,
   "id": "01ace65b",
   "metadata": {},
   "outputs": [],
   "source": [
    "seq.to_excel(\"sequences.xlsx\")"
   ]
  },
  {
   "cell_type": "code",
   "execution_count": 49,
   "id": "a1ad1e00",
   "metadata": {},
   "outputs": [],
   "source": [
    "def getMeasurements(FP, SP):\n",
    "    return pd.concat([\n",
    "        pd.DataFrame(FP.groupby(\"Participant\").size(), columns=[\"Number of First-Pass\"]),\n",
    "        pd.DataFrame(FP.groupby(\"Participant\").apply(lambda seq : numberFixBetween(seq[\"start_fix_idx\"], seq[\"end_fix_idx\"])).groupby(\"Participant\").sum(), columns=[\"Number of First-Pass Fixations\"]),\n",
    "        pd.DataFrame(FP.set_index(\"Participant\").apply(durationSeq, axis=1).groupby('Participant').sum(), columns=[\"Duration of First-Pass Fixations\"]),\n",
    "        pd.DataFrame(SP.groupby(\"Participant\").size(), columns=[\"Number of Second-Pass\"]),\n",
    "        pd.DataFrame(SP.groupby(\"Participant\").apply(lambda seq : numberFixBetween(seq[\"start_fix_idx\"], seq[\"end_fix_idx\"])).groupby(\"Participant\").sum(), columns=[\"Number of Second-Pass Fixations\"]),\n",
    "        pd.DataFrame(SP.set_index(\"Participant\").apply(durationSeq, axis=1).groupby('Participant').sum(), columns=[\"Duration of Second-Pass Fixations\"]),\n",
    "\n",
    "    ], axis=1)"
   ]
  },
  {
   "cell_type": "code",
   "execution_count": 57,
   "id": "5b1cc2ee",
   "metadata": {},
   "outputs": [],
   "source": [
    "def descriptiveStatistics(measurements):\n",
    "    return pd.DataFrame([\n",
    "        measurements.mean().rename(\"Mean\"),\n",
    "        measurements.median().rename(\"Median\"),\n",
    "        measurements.max().rename(\"Max\"),\n",
    "        measurements.min().rename(\"Min\"),\n",
    "        measurements.skew().rename(\"Skew\"),\n",
    "        measurements.kurtosis().rename(\"Kurtosis\")])"
   ]
  },
  {
   "cell_type": "code",
   "execution_count": 34,
   "id": "4e160e4c",
   "metadata": {},
   "outputs": [
    {
     "data": {
      "text/html": [
       "<div>\n",
       "<style scoped>\n",
       "    .dataframe tbody tr th:only-of-type {\n",
       "        vertical-align: middle;\n",
       "    }\n",
       "\n",
       "    .dataframe tbody tr th {\n",
       "        vertical-align: top;\n",
       "    }\n",
       "\n",
       "    .dataframe thead th {\n",
       "        text-align: right;\n",
       "    }\n",
       "</style>\n",
       "<table border=\"1\" class=\"dataframe\">\n",
       "  <thead>\n",
       "    <tr style=\"text-align: right;\">\n",
       "      <th></th>\n",
       "      <th>start_fix_idx</th>\n",
       "      <th>end_fix_idx</th>\n",
       "      <th>Participant</th>\n",
       "      <th>Break_condition</th>\n",
       "      <th>Class</th>\n",
       "      <th>Overlap_with</th>\n",
       "    </tr>\n",
       "  </thead>\n",
       "  <tbody>\n",
       "    <tr>\n",
       "      <th>0</th>\n",
       "      <td>7</td>\n",
       "      <td>15</td>\n",
       "      <td>CBT_1</td>\n",
       "      <td>X DIFF LINE RIGHT</td>\n",
       "      <td>First Pass</td>\n",
       "      <td>None</td>\n",
       "    </tr>\n",
       "    <tr>\n",
       "      <th>1</th>\n",
       "      <td>21</td>\n",
       "      <td>31</td>\n",
       "      <td>CBT_1</td>\n",
       "      <td>X SAME LINE LEFT</td>\n",
       "      <td>First Pass</td>\n",
       "      <td>None</td>\n",
       "    </tr>\n",
       "    <tr>\n",
       "      <th>2</th>\n",
       "      <td>33</td>\n",
       "      <td>40</td>\n",
       "      <td>CBT_1</td>\n",
       "      <td>X DIFF LINE RIGHT</td>\n",
       "      <td>Second Pass/duration_Left</td>\n",
       "      <td>0</td>\n",
       "    </tr>\n",
       "    <tr>\n",
       "      <th>3</th>\n",
       "      <td>41</td>\n",
       "      <td>50</td>\n",
       "      <td>CBT_1</td>\n",
       "      <td>X SAME LINE LEFT</td>\n",
       "      <td>First Pass</td>\n",
       "      <td>None</td>\n",
       "    </tr>\n",
       "    <tr>\n",
       "      <th>4</th>\n",
       "      <td>51</td>\n",
       "      <td>54</td>\n",
       "      <td>CBT_1</td>\n",
       "      <td>SAC</td>\n",
       "      <td>First Pass</td>\n",
       "      <td>None</td>\n",
       "    </tr>\n",
       "    <tr>\n",
       "      <th>...</th>\n",
       "      <td>...</td>\n",
       "      <td>...</td>\n",
       "      <td>...</td>\n",
       "      <td>...</td>\n",
       "      <td>...</td>\n",
       "      <td>...</td>\n",
       "    </tr>\n",
       "    <tr>\n",
       "      <th>8689</th>\n",
       "      <td>100072</td>\n",
       "      <td>100076</td>\n",
       "      <td>LSW_8</td>\n",
       "      <td>X DIFF LINE RIGHT</td>\n",
       "      <td>Second Pass/meanSaccade_Left</td>\n",
       "      <td>8647</td>\n",
       "    </tr>\n",
       "    <tr>\n",
       "      <th>8690</th>\n",
       "      <td>100087</td>\n",
       "      <td>100095</td>\n",
       "      <td>LSW_8</td>\n",
       "      <td>X DIFF LINE RIGHT</td>\n",
       "      <td>Second Pass/More30%_Right</td>\n",
       "      <td>8650</td>\n",
       "    </tr>\n",
       "    <tr>\n",
       "      <th>8691</th>\n",
       "      <td>100097</td>\n",
       "      <td>100102</td>\n",
       "      <td>LSW_8</td>\n",
       "      <td>X SAME LINE RIGHT</td>\n",
       "      <td>Second Pass/meanDuration_Right</td>\n",
       "      <td>8651</td>\n",
       "    </tr>\n",
       "    <tr>\n",
       "      <th>8692</th>\n",
       "      <td>100103</td>\n",
       "      <td>100107</td>\n",
       "      <td>LSW_8</td>\n",
       "      <td>X DIFF LINE RIGHT</td>\n",
       "      <td>First Pass</td>\n",
       "      <td>None</td>\n",
       "    </tr>\n",
       "    <tr>\n",
       "      <th>8693</th>\n",
       "      <td>100112</td>\n",
       "      <td>100115</td>\n",
       "      <td>LSW_8</td>\n",
       "      <td>X DIFF LINE RIGHT</td>\n",
       "      <td>First Pass_BT_Left</td>\n",
       "      <td>8654</td>\n",
       "    </tr>\n",
       "  </tbody>\n",
       "</table>\n",
       "<p>4206 rows × 6 columns</p>\n",
       "</div>"
      ],
      "text/plain": [
       "      start_fix_idx  end_fix_idx Participant    Break_condition  \\\n",
       "0                 7           15       CBT_1  X DIFF LINE RIGHT   \n",
       "1                21           31       CBT_1   X SAME LINE LEFT   \n",
       "2                33           40       CBT_1  X DIFF LINE RIGHT   \n",
       "3                41           50       CBT_1   X SAME LINE LEFT   \n",
       "4                51           54       CBT_1                SAC   \n",
       "...             ...          ...         ...                ...   \n",
       "8689         100072       100076       LSW_8  X DIFF LINE RIGHT   \n",
       "8690         100087       100095       LSW_8  X DIFF LINE RIGHT   \n",
       "8691         100097       100102       LSW_8  X SAME LINE RIGHT   \n",
       "8692         100103       100107       LSW_8  X DIFF LINE RIGHT   \n",
       "8693         100112       100115       LSW_8  X DIFF LINE RIGHT   \n",
       "\n",
       "                               Class Overlap_with  \n",
       "0                         First Pass         None  \n",
       "1                         First Pass         None  \n",
       "2          Second Pass/duration_Left            0  \n",
       "3                         First Pass         None  \n",
       "4                         First Pass         None  \n",
       "...                              ...          ...  \n",
       "8689    Second Pass/meanSaccade_Left         8647  \n",
       "8690       Second Pass/More30%_Right         8650  \n",
       "8691  Second Pass/meanDuration_Right         8651  \n",
       "8692                      First Pass         None  \n",
       "8693              First Pass_BT_Left         8654  \n",
       "\n",
       "[4206 rows x 6 columns]"
      ]
     },
     "execution_count": 34,
     "metadata": {},
     "output_type": "execute_result"
    }
   ],
   "source": [
    "# GROUP 1\n",
    "CBT_LSW_seq = seq[seq[\"Participant\"].str.contains(\"CBT_|LSW_\")]\n",
    "CBT_LSW_seq"
   ]
  },
  {
   "cell_type": "code",
   "execution_count": 35,
   "id": "13c4370d",
   "metadata": {},
   "outputs": [],
   "source": [
    "CBT_LSW_seq_FP = CBT_LSW_seq[CBT_LSW_seq[\"Class\"].str.contains(\"First Pass\")]\n",
    "CBT_LSW_seq_SP = CBT_LSW_seq[CBT_LSW_seq[\"Class\"].str.contains(\"Second Pass\")]"
   ]
  },
  {
   "cell_type": "code",
   "execution_count": 51,
   "id": "a6944b82",
   "metadata": {},
   "outputs": [
    {
     "data": {
      "text/html": [
       "<div>\n",
       "<style scoped>\n",
       "    .dataframe tbody tr th:only-of-type {\n",
       "        vertical-align: middle;\n",
       "    }\n",
       "\n",
       "    .dataframe tbody tr th {\n",
       "        vertical-align: top;\n",
       "    }\n",
       "\n",
       "    .dataframe thead th {\n",
       "        text-align: right;\n",
       "    }\n",
       "</style>\n",
       "<table border=\"1\" class=\"dataframe\">\n",
       "  <thead>\n",
       "    <tr style=\"text-align: right;\">\n",
       "      <th></th>\n",
       "      <th>Number of First-Pass</th>\n",
       "      <th>Number of First-Pass Fixations</th>\n",
       "      <th>Duration of First-Pass Fixations</th>\n",
       "      <th>Number of Second-Pass</th>\n",
       "      <th>Number of Second-Pass Fixations</th>\n",
       "      <th>Duration of Second-Pass Fixations</th>\n",
       "    </tr>\n",
       "    <tr>\n",
       "      <th>Participant</th>\n",
       "      <th></th>\n",
       "      <th></th>\n",
       "      <th></th>\n",
       "      <th></th>\n",
       "      <th></th>\n",
       "      <th></th>\n",
       "    </tr>\n",
       "  </thead>\n",
       "  <tbody>\n",
       "    <tr>\n",
       "      <th>CBT_1</th>\n",
       "      <td>72</td>\n",
       "      <td>415</td>\n",
       "      <td>84980</td>\n",
       "      <td>106</td>\n",
       "      <td>559</td>\n",
       "      <td>117418</td>\n",
       "    </tr>\n",
       "    <tr>\n",
       "      <th>CBT_10</th>\n",
       "      <td>61</td>\n",
       "      <td>313</td>\n",
       "      <td>73615</td>\n",
       "      <td>38</td>\n",
       "      <td>190</td>\n",
       "      <td>42698</td>\n",
       "    </tr>\n",
       "    <tr>\n",
       "      <th>CBT_11</th>\n",
       "      <td>37</td>\n",
       "      <td>205</td>\n",
       "      <td>43828</td>\n",
       "      <td>7</td>\n",
       "      <td>45</td>\n",
       "      <td>9918</td>\n",
       "    </tr>\n",
       "    <tr>\n",
       "      <th>CBT_12</th>\n",
       "      <td>91</td>\n",
       "      <td>465</td>\n",
       "      <td>106231</td>\n",
       "      <td>31</td>\n",
       "      <td>178</td>\n",
       "      <td>42303</td>\n",
       "    </tr>\n",
       "    <tr>\n",
       "      <th>CBT_13</th>\n",
       "      <td>42</td>\n",
       "      <td>242</td>\n",
       "      <td>48071</td>\n",
       "      <td>2</td>\n",
       "      <td>7</td>\n",
       "      <td>1348</td>\n",
       "    </tr>\n",
       "    <tr>\n",
       "      <th>CBT_14</th>\n",
       "      <td>31</td>\n",
       "      <td>130</td>\n",
       "      <td>27599</td>\n",
       "      <td>3</td>\n",
       "      <td>12</td>\n",
       "      <td>2349</td>\n",
       "    </tr>\n",
       "    <tr>\n",
       "      <th>CBT_15</th>\n",
       "      <td>42</td>\n",
       "      <td>261</td>\n",
       "      <td>68756</td>\n",
       "      <td>6</td>\n",
       "      <td>30</td>\n",
       "      <td>8488</td>\n",
       "    </tr>\n",
       "    <tr>\n",
       "      <th>CBT_16</th>\n",
       "      <td>46</td>\n",
       "      <td>354</td>\n",
       "      <td>78660</td>\n",
       "      <td>57</td>\n",
       "      <td>306</td>\n",
       "      <td>63149</td>\n",
       "    </tr>\n",
       "    <tr>\n",
       "      <th>CBT_17</th>\n",
       "      <td>82</td>\n",
       "      <td>444</td>\n",
       "      <td>108568</td>\n",
       "      <td>62</td>\n",
       "      <td>412</td>\n",
       "      <td>98447</td>\n",
       "    </tr>\n",
       "    <tr>\n",
       "      <th>CBT_18</th>\n",
       "      <td>63</td>\n",
       "      <td>290</td>\n",
       "      <td>72991</td>\n",
       "      <td>16</td>\n",
       "      <td>79</td>\n",
       "      <td>20811</td>\n",
       "    </tr>\n",
       "    <tr>\n",
       "      <th>CBT_19</th>\n",
       "      <td>23</td>\n",
       "      <td>82</td>\n",
       "      <td>21856</td>\n",
       "      <td>5</td>\n",
       "      <td>18</td>\n",
       "      <td>4475</td>\n",
       "    </tr>\n",
       "    <tr>\n",
       "      <th>CBT_2</th>\n",
       "      <td>75</td>\n",
       "      <td>496</td>\n",
       "      <td>136212</td>\n",
       "      <td>76</td>\n",
       "      <td>543</td>\n",
       "      <td>147176</td>\n",
       "    </tr>\n",
       "    <tr>\n",
       "      <th>CBT_20</th>\n",
       "      <td>35</td>\n",
       "      <td>135</td>\n",
       "      <td>42424</td>\n",
       "      <td>9</td>\n",
       "      <td>41</td>\n",
       "      <td>13297</td>\n",
       "    </tr>\n",
       "    <tr>\n",
       "      <th>CBT_21</th>\n",
       "      <td>77</td>\n",
       "      <td>459</td>\n",
       "      <td>114658</td>\n",
       "      <td>102</td>\n",
       "      <td>551</td>\n",
       "      <td>134048</td>\n",
       "    </tr>\n",
       "    <tr>\n",
       "      <th>CBT_22</th>\n",
       "      <td>66</td>\n",
       "      <td>295</td>\n",
       "      <td>81871</td>\n",
       "      <td>53</td>\n",
       "      <td>266</td>\n",
       "      <td>72100</td>\n",
       "    </tr>\n",
       "    <tr>\n",
       "      <th>CBT_23</th>\n",
       "      <td>47</td>\n",
       "      <td>301</td>\n",
       "      <td>79164</td>\n",
       "      <td>43</td>\n",
       "      <td>242</td>\n",
       "      <td>59068</td>\n",
       "    </tr>\n",
       "    <tr>\n",
       "      <th>CBT_24</th>\n",
       "      <td>69</td>\n",
       "      <td>343</td>\n",
       "      <td>92141</td>\n",
       "      <td>59</td>\n",
       "      <td>297</td>\n",
       "      <td>77768</td>\n",
       "    </tr>\n",
       "    <tr>\n",
       "      <th>CBT_25</th>\n",
       "      <td>45</td>\n",
       "      <td>284</td>\n",
       "      <td>64964</td>\n",
       "      <td>16</td>\n",
       "      <td>86</td>\n",
       "      <td>18753</td>\n",
       "    </tr>\n",
       "    <tr>\n",
       "      <th>CBT_26</th>\n",
       "      <td>49</td>\n",
       "      <td>260</td>\n",
       "      <td>69045</td>\n",
       "      <td>30</td>\n",
       "      <td>228</td>\n",
       "      <td>59469</td>\n",
       "    </tr>\n",
       "    <tr>\n",
       "      <th>CBT_3</th>\n",
       "      <td>62</td>\n",
       "      <td>461</td>\n",
       "      <td>98987</td>\n",
       "      <td>97</td>\n",
       "      <td>698</td>\n",
       "      <td>144273</td>\n",
       "    </tr>\n",
       "    <tr>\n",
       "      <th>CBT_4</th>\n",
       "      <td>56</td>\n",
       "      <td>279</td>\n",
       "      <td>60089</td>\n",
       "      <td>41</td>\n",
       "      <td>225</td>\n",
       "      <td>53329</td>\n",
       "    </tr>\n",
       "    <tr>\n",
       "      <th>CBT_5</th>\n",
       "      <td>56</td>\n",
       "      <td>341</td>\n",
       "      <td>81403</td>\n",
       "      <td>102</td>\n",
       "      <td>588</td>\n",
       "      <td>134110</td>\n",
       "    </tr>\n",
       "    <tr>\n",
       "      <th>CBT_7</th>\n",
       "      <td>42</td>\n",
       "      <td>194</td>\n",
       "      <td>47046</td>\n",
       "      <td>3</td>\n",
       "      <td>20</td>\n",
       "      <td>4220</td>\n",
       "    </tr>\n",
       "    <tr>\n",
       "      <th>CBT_8</th>\n",
       "      <td>44</td>\n",
       "      <td>303</td>\n",
       "      <td>73980</td>\n",
       "      <td>13</td>\n",
       "      <td>93</td>\n",
       "      <td>23481</td>\n",
       "    </tr>\n",
       "    <tr>\n",
       "      <th>LSW_1</th>\n",
       "      <td>69</td>\n",
       "      <td>360</td>\n",
       "      <td>74823</td>\n",
       "      <td>44</td>\n",
       "      <td>224</td>\n",
       "      <td>48297</td>\n",
       "    </tr>\n",
       "    <tr>\n",
       "      <th>LSW_10</th>\n",
       "      <td>60</td>\n",
       "      <td>302</td>\n",
       "      <td>71574</td>\n",
       "      <td>39</td>\n",
       "      <td>209</td>\n",
       "      <td>49500</td>\n",
       "    </tr>\n",
       "    <tr>\n",
       "      <th>LSW_11</th>\n",
       "      <td>36</td>\n",
       "      <td>277</td>\n",
       "      <td>59612</td>\n",
       "      <td>11</td>\n",
       "      <td>86</td>\n",
       "      <td>19078</td>\n",
       "    </tr>\n",
       "    <tr>\n",
       "      <th>LSW_12</th>\n",
       "      <td>82</td>\n",
       "      <td>432</td>\n",
       "      <td>103951</td>\n",
       "      <td>52</td>\n",
       "      <td>245</td>\n",
       "      <td>56205</td>\n",
       "    </tr>\n",
       "    <tr>\n",
       "      <th>LSW_13</th>\n",
       "      <td>39</td>\n",
       "      <td>234</td>\n",
       "      <td>45356</td>\n",
       "      <td>8</td>\n",
       "      <td>52</td>\n",
       "      <td>9392</td>\n",
       "    </tr>\n",
       "    <tr>\n",
       "      <th>LSW_14</th>\n",
       "      <td>29</td>\n",
       "      <td>123</td>\n",
       "      <td>26767</td>\n",
       "      <td>3</td>\n",
       "      <td>12</td>\n",
       "      <td>2991</td>\n",
       "    </tr>\n",
       "    <tr>\n",
       "      <th>LSW_15</th>\n",
       "      <td>40</td>\n",
       "      <td>240</td>\n",
       "      <td>58844</td>\n",
       "      <td>13</td>\n",
       "      <td>75</td>\n",
       "      <td>18471</td>\n",
       "    </tr>\n",
       "    <tr>\n",
       "      <th>LSW_16</th>\n",
       "      <td>43</td>\n",
       "      <td>292</td>\n",
       "      <td>62197</td>\n",
       "      <td>41</td>\n",
       "      <td>275</td>\n",
       "      <td>55515</td>\n",
       "    </tr>\n",
       "    <tr>\n",
       "      <th>LSW_17</th>\n",
       "      <td>70</td>\n",
       "      <td>457</td>\n",
       "      <td>106653</td>\n",
       "      <td>22</td>\n",
       "      <td>146</td>\n",
       "      <td>30822</td>\n",
       "    </tr>\n",
       "    <tr>\n",
       "      <th>LSW_18</th>\n",
       "      <td>38</td>\n",
       "      <td>179</td>\n",
       "      <td>40187</td>\n",
       "      <td>12</td>\n",
       "      <td>52</td>\n",
       "      <td>11313</td>\n",
       "    </tr>\n",
       "    <tr>\n",
       "      <th>LSW_19</th>\n",
       "      <td>26</td>\n",
       "      <td>94</td>\n",
       "      <td>26083</td>\n",
       "      <td>8</td>\n",
       "      <td>36</td>\n",
       "      <td>9755</td>\n",
       "    </tr>\n",
       "    <tr>\n",
       "      <th>LSW_2</th>\n",
       "      <td>85</td>\n",
       "      <td>594</td>\n",
       "      <td>162554</td>\n",
       "      <td>46</td>\n",
       "      <td>332</td>\n",
       "      <td>90895</td>\n",
       "    </tr>\n",
       "    <tr>\n",
       "      <th>LSW_20</th>\n",
       "      <td>40</td>\n",
       "      <td>161</td>\n",
       "      <td>45530</td>\n",
       "      <td>11</td>\n",
       "      <td>54</td>\n",
       "      <td>15911</td>\n",
       "    </tr>\n",
       "    <tr>\n",
       "      <th>LSW_21</th>\n",
       "      <td>57</td>\n",
       "      <td>370</td>\n",
       "      <td>94539</td>\n",
       "      <td>57</td>\n",
       "      <td>362</td>\n",
       "      <td>87949</td>\n",
       "    </tr>\n",
       "    <tr>\n",
       "      <th>LSW_22</th>\n",
       "      <td>71</td>\n",
       "      <td>325</td>\n",
       "      <td>86907</td>\n",
       "      <td>53</td>\n",
       "      <td>226</td>\n",
       "      <td>59127</td>\n",
       "    </tr>\n",
       "    <tr>\n",
       "      <th>LSW_23</th>\n",
       "      <td>31</td>\n",
       "      <td>125</td>\n",
       "      <td>31637</td>\n",
       "      <td>3</td>\n",
       "      <td>10</td>\n",
       "      <td>2166</td>\n",
       "    </tr>\n",
       "    <tr>\n",
       "      <th>LSW_24</th>\n",
       "      <td>67</td>\n",
       "      <td>378</td>\n",
       "      <td>100783</td>\n",
       "      <td>54</td>\n",
       "      <td>299</td>\n",
       "      <td>80276</td>\n",
       "    </tr>\n",
       "    <tr>\n",
       "      <th>LSW_25</th>\n",
       "      <td>43</td>\n",
       "      <td>273</td>\n",
       "      <td>61573</td>\n",
       "      <td>24</td>\n",
       "      <td>130</td>\n",
       "      <td>29856</td>\n",
       "    </tr>\n",
       "    <tr>\n",
       "      <th>LSW_26</th>\n",
       "      <td>40</td>\n",
       "      <td>232</td>\n",
       "      <td>60035</td>\n",
       "      <td>33</td>\n",
       "      <td>170</td>\n",
       "      <td>43905</td>\n",
       "    </tr>\n",
       "    <tr>\n",
       "      <th>LSW_3</th>\n",
       "      <td>45</td>\n",
       "      <td>329</td>\n",
       "      <td>65502</td>\n",
       "      <td>29</td>\n",
       "      <td>196</td>\n",
       "      <td>40586</td>\n",
       "    </tr>\n",
       "    <tr>\n",
       "      <th>LSW_4</th>\n",
       "      <td>51</td>\n",
       "      <td>356</td>\n",
       "      <td>78800</td>\n",
       "      <td>43</td>\n",
       "      <td>259</td>\n",
       "      <td>57781</td>\n",
       "    </tr>\n",
       "    <tr>\n",
       "      <th>LSW_5</th>\n",
       "      <td>54</td>\n",
       "      <td>282</td>\n",
       "      <td>64925</td>\n",
       "      <td>91</td>\n",
       "      <td>466</td>\n",
       "      <td>104755</td>\n",
       "    </tr>\n",
       "    <tr>\n",
       "      <th>LSW_7</th>\n",
       "      <td>40</td>\n",
       "      <td>191</td>\n",
       "      <td>46430</td>\n",
       "      <td>2</td>\n",
       "      <td>12</td>\n",
       "      <td>2305</td>\n",
       "    </tr>\n",
       "    <tr>\n",
       "      <th>LSW_8</th>\n",
       "      <td>53</td>\n",
       "      <td>303</td>\n",
       "      <td>72838</td>\n",
       "      <td>8</td>\n",
       "      <td>37</td>\n",
       "      <td>8977</td>\n",
       "    </tr>\n",
       "  </tbody>\n",
       "</table>\n",
       "</div>"
      ],
      "text/plain": [
       "             Number of First-Pass  Number of First-Pass Fixations  \\\n",
       "Participant                                                         \n",
       "CBT_1                          72                             415   \n",
       "CBT_10                         61                             313   \n",
       "CBT_11                         37                             205   \n",
       "CBT_12                         91                             465   \n",
       "CBT_13                         42                             242   \n",
       "CBT_14                         31                             130   \n",
       "CBT_15                         42                             261   \n",
       "CBT_16                         46                             354   \n",
       "CBT_17                         82                             444   \n",
       "CBT_18                         63                             290   \n",
       "CBT_19                         23                              82   \n",
       "CBT_2                          75                             496   \n",
       "CBT_20                         35                             135   \n",
       "CBT_21                         77                             459   \n",
       "CBT_22                         66                             295   \n",
       "CBT_23                         47                             301   \n",
       "CBT_24                         69                             343   \n",
       "CBT_25                         45                             284   \n",
       "CBT_26                         49                             260   \n",
       "CBT_3                          62                             461   \n",
       "CBT_4                          56                             279   \n",
       "CBT_5                          56                             341   \n",
       "CBT_7                          42                             194   \n",
       "CBT_8                          44                             303   \n",
       "LSW_1                          69                             360   \n",
       "LSW_10                         60                             302   \n",
       "LSW_11                         36                             277   \n",
       "LSW_12                         82                             432   \n",
       "LSW_13                         39                             234   \n",
       "LSW_14                         29                             123   \n",
       "LSW_15                         40                             240   \n",
       "LSW_16                         43                             292   \n",
       "LSW_17                         70                             457   \n",
       "LSW_18                         38                             179   \n",
       "LSW_19                         26                              94   \n",
       "LSW_2                          85                             594   \n",
       "LSW_20                         40                             161   \n",
       "LSW_21                         57                             370   \n",
       "LSW_22                         71                             325   \n",
       "LSW_23                         31                             125   \n",
       "LSW_24                         67                             378   \n",
       "LSW_25                         43                             273   \n",
       "LSW_26                         40                             232   \n",
       "LSW_3                          45                             329   \n",
       "LSW_4                          51                             356   \n",
       "LSW_5                          54                             282   \n",
       "LSW_7                          40                             191   \n",
       "LSW_8                          53                             303   \n",
       "\n",
       "             Duration of First-Pass Fixations  Number of Second-Pass  \\\n",
       "Participant                                                            \n",
       "CBT_1                                   84980                    106   \n",
       "CBT_10                                  73615                     38   \n",
       "CBT_11                                  43828                      7   \n",
       "CBT_12                                 106231                     31   \n",
       "CBT_13                                  48071                      2   \n",
       "CBT_14                                  27599                      3   \n",
       "CBT_15                                  68756                      6   \n",
       "CBT_16                                  78660                     57   \n",
       "CBT_17                                 108568                     62   \n",
       "CBT_18                                  72991                     16   \n",
       "CBT_19                                  21856                      5   \n",
       "CBT_2                                  136212                     76   \n",
       "CBT_20                                  42424                      9   \n",
       "CBT_21                                 114658                    102   \n",
       "CBT_22                                  81871                     53   \n",
       "CBT_23                                  79164                     43   \n",
       "CBT_24                                  92141                     59   \n",
       "CBT_25                                  64964                     16   \n",
       "CBT_26                                  69045                     30   \n",
       "CBT_3                                   98987                     97   \n",
       "CBT_4                                   60089                     41   \n",
       "CBT_5                                   81403                    102   \n",
       "CBT_7                                   47046                      3   \n",
       "CBT_8                                   73980                     13   \n",
       "LSW_1                                   74823                     44   \n",
       "LSW_10                                  71574                     39   \n",
       "LSW_11                                  59612                     11   \n",
       "LSW_12                                 103951                     52   \n",
       "LSW_13                                  45356                      8   \n",
       "LSW_14                                  26767                      3   \n",
       "LSW_15                                  58844                     13   \n",
       "LSW_16                                  62197                     41   \n",
       "LSW_17                                 106653                     22   \n",
       "LSW_18                                  40187                     12   \n",
       "LSW_19                                  26083                      8   \n",
       "LSW_2                                  162554                     46   \n",
       "LSW_20                                  45530                     11   \n",
       "LSW_21                                  94539                     57   \n",
       "LSW_22                                  86907                     53   \n",
       "LSW_23                                  31637                      3   \n",
       "LSW_24                                 100783                     54   \n",
       "LSW_25                                  61573                     24   \n",
       "LSW_26                                  60035                     33   \n",
       "LSW_3                                   65502                     29   \n",
       "LSW_4                                   78800                     43   \n",
       "LSW_5                                   64925                     91   \n",
       "LSW_7                                   46430                      2   \n",
       "LSW_8                                   72838                      8   \n",
       "\n",
       "             Number of Second-Pass Fixations  \\\n",
       "Participant                                    \n",
       "CBT_1                                    559   \n",
       "CBT_10                                   190   \n",
       "CBT_11                                    45   \n",
       "CBT_12                                   178   \n",
       "CBT_13                                     7   \n",
       "CBT_14                                    12   \n",
       "CBT_15                                    30   \n",
       "CBT_16                                   306   \n",
       "CBT_17                                   412   \n",
       "CBT_18                                    79   \n",
       "CBT_19                                    18   \n",
       "CBT_2                                    543   \n",
       "CBT_20                                    41   \n",
       "CBT_21                                   551   \n",
       "CBT_22                                   266   \n",
       "CBT_23                                   242   \n",
       "CBT_24                                   297   \n",
       "CBT_25                                    86   \n",
       "CBT_26                                   228   \n",
       "CBT_3                                    698   \n",
       "CBT_4                                    225   \n",
       "CBT_5                                    588   \n",
       "CBT_7                                     20   \n",
       "CBT_8                                     93   \n",
       "LSW_1                                    224   \n",
       "LSW_10                                   209   \n",
       "LSW_11                                    86   \n",
       "LSW_12                                   245   \n",
       "LSW_13                                    52   \n",
       "LSW_14                                    12   \n",
       "LSW_15                                    75   \n",
       "LSW_16                                   275   \n",
       "LSW_17                                   146   \n",
       "LSW_18                                    52   \n",
       "LSW_19                                    36   \n",
       "LSW_2                                    332   \n",
       "LSW_20                                    54   \n",
       "LSW_21                                   362   \n",
       "LSW_22                                   226   \n",
       "LSW_23                                    10   \n",
       "LSW_24                                   299   \n",
       "LSW_25                                   130   \n",
       "LSW_26                                   170   \n",
       "LSW_3                                    196   \n",
       "LSW_4                                    259   \n",
       "LSW_5                                    466   \n",
       "LSW_7                                     12   \n",
       "LSW_8                                     37   \n",
       "\n",
       "             Duration of Second-Pass Fixations  \n",
       "Participant                                     \n",
       "CBT_1                                   117418  \n",
       "CBT_10                                   42698  \n",
       "CBT_11                                    9918  \n",
       "CBT_12                                   42303  \n",
       "CBT_13                                    1348  \n",
       "CBT_14                                    2349  \n",
       "CBT_15                                    8488  \n",
       "CBT_16                                   63149  \n",
       "CBT_17                                   98447  \n",
       "CBT_18                                   20811  \n",
       "CBT_19                                    4475  \n",
       "CBT_2                                   147176  \n",
       "CBT_20                                   13297  \n",
       "CBT_21                                  134048  \n",
       "CBT_22                                   72100  \n",
       "CBT_23                                   59068  \n",
       "CBT_24                                   77768  \n",
       "CBT_25                                   18753  \n",
       "CBT_26                                   59469  \n",
       "CBT_3                                   144273  \n",
       "CBT_4                                    53329  \n",
       "CBT_5                                   134110  \n",
       "CBT_7                                     4220  \n",
       "CBT_8                                    23481  \n",
       "LSW_1                                    48297  \n",
       "LSW_10                                   49500  \n",
       "LSW_11                                   19078  \n",
       "LSW_12                                   56205  \n",
       "LSW_13                                    9392  \n",
       "LSW_14                                    2991  \n",
       "LSW_15                                   18471  \n",
       "LSW_16                                   55515  \n",
       "LSW_17                                   30822  \n",
       "LSW_18                                   11313  \n",
       "LSW_19                                    9755  \n",
       "LSW_2                                    90895  \n",
       "LSW_20                                   15911  \n",
       "LSW_21                                   87949  \n",
       "LSW_22                                   59127  \n",
       "LSW_23                                    2166  \n",
       "LSW_24                                   80276  \n",
       "LSW_25                                   29856  \n",
       "LSW_26                                   43905  \n",
       "LSW_3                                    40586  \n",
       "LSW_4                                    57781  \n",
       "LSW_5                                   104755  \n",
       "LSW_7                                     2305  \n",
       "LSW_8                                     8977  "
      ]
     },
     "execution_count": 51,
     "metadata": {},
     "output_type": "execute_result"
    }
   ],
   "source": [
    "# GROUP 1\n",
    "CBT_LSW_measurements = getMeasurements(CBT_LSW_seq_FP, CBT_LSW_seq_SP)\n",
    "# measurements[\"Number of visits to each text\"] = data[data[\"File\"].str.contains(\"CBT_|LSW_\")][['File', 'TRIAL_INDEX']].groupby(\"File\").max()/2\n",
    "\n",
    "CBT_LSW_measurements"
   ]
  },
  {
   "cell_type": "code",
   "execution_count": 37,
   "id": "09d047c0",
   "metadata": {},
   "outputs": [],
   "source": [
    "with pd.ExcelWriter('CBT_LSW_measurements.xlsx') as writer:\n",
    "    for col in CBT_LSW_measurements:\n",
    "        CBT_LSW_measurements[[col]].to_excel(writer, sheet_name=col)"
   ]
  },
  {
   "cell_type": "code",
   "execution_count": 38,
   "id": "cee25db9",
   "metadata": {
    "scrolled": true
   },
   "outputs": [
    {
     "data": {
      "text/html": [
       "<div>\n",
       "<style scoped>\n",
       "    .dataframe tbody tr th:only-of-type {\n",
       "        vertical-align: middle;\n",
       "    }\n",
       "\n",
       "    .dataframe tbody tr th {\n",
       "        vertical-align: top;\n",
       "    }\n",
       "\n",
       "    .dataframe thead th {\n",
       "        text-align: right;\n",
       "    }\n",
       "</style>\n",
       "<table border=\"1\" class=\"dataframe\">\n",
       "  <thead>\n",
       "    <tr style=\"text-align: right;\">\n",
       "      <th></th>\n",
       "      <th>start_fix_idx</th>\n",
       "      <th>end_fix_idx</th>\n",
       "      <th>Participant</th>\n",
       "      <th>Break_condition</th>\n",
       "      <th>Class</th>\n",
       "      <th>Overlap_with</th>\n",
       "    </tr>\n",
       "  </thead>\n",
       "  <tbody>\n",
       "    <tr>\n",
       "      <th>2290</th>\n",
       "      <td>26243</td>\n",
       "      <td>26248</td>\n",
       "      <td>CB_1</td>\n",
       "      <td>SAC</td>\n",
       "      <td>First Pass</td>\n",
       "      <td>None</td>\n",
       "    </tr>\n",
       "    <tr>\n",
       "      <th>2291</th>\n",
       "      <td>26256</td>\n",
       "      <td>26259</td>\n",
       "      <td>CB_1</td>\n",
       "      <td>X DIFF LINE RIGHT</td>\n",
       "      <td>Second Pass/no.Fix_Left</td>\n",
       "      <td>2290</td>\n",
       "    </tr>\n",
       "    <tr>\n",
       "      <th>2292</th>\n",
       "      <td>26296</td>\n",
       "      <td>26300</td>\n",
       "      <td>CB_1</td>\n",
       "      <td>SAC</td>\n",
       "      <td>First Pass</td>\n",
       "      <td>None</td>\n",
       "    </tr>\n",
       "    <tr>\n",
       "      <th>2293</th>\n",
       "      <td>26326</td>\n",
       "      <td>26331</td>\n",
       "      <td>CB_1</td>\n",
       "      <td>X DIFF LINE RIGHT</td>\n",
       "      <td>First Pass</td>\n",
       "      <td>None</td>\n",
       "    </tr>\n",
       "    <tr>\n",
       "      <th>2294</th>\n",
       "      <td>26339</td>\n",
       "      <td>26343</td>\n",
       "      <td>CB_1</td>\n",
       "      <td>X SAME LINE RIGHT</td>\n",
       "      <td>First Pass</td>\n",
       "      <td>None</td>\n",
       "    </tr>\n",
       "    <tr>\n",
       "      <th>...</th>\n",
       "      <td>...</td>\n",
       "      <td>...</td>\n",
       "      <td>...</td>\n",
       "      <td>...</td>\n",
       "      <td>...</td>\n",
       "      <td>...</td>\n",
       "    </tr>\n",
       "    <tr>\n",
       "      <th>6773</th>\n",
       "      <td>77727</td>\n",
       "      <td>77731</td>\n",
       "      <td>GMF_8</td>\n",
       "      <td>LINE DISTANCE</td>\n",
       "      <td>Second Pass/no.Fix_Left</td>\n",
       "      <td>6732</td>\n",
       "    </tr>\n",
       "    <tr>\n",
       "      <th>6774</th>\n",
       "      <td>77745</td>\n",
       "      <td>77748</td>\n",
       "      <td>GMF_8</td>\n",
       "      <td>X DIFF LINE RIGHT</td>\n",
       "      <td>Second Pass/no.Fix_Left</td>\n",
       "      <td>6756</td>\n",
       "    </tr>\n",
       "    <tr>\n",
       "      <th>6775</th>\n",
       "      <td>77754</td>\n",
       "      <td>77761</td>\n",
       "      <td>GMF_8</td>\n",
       "      <td>X SAME LINE LEFT</td>\n",
       "      <td>Second Pass/More30%_Right</td>\n",
       "      <td>6761</td>\n",
       "    </tr>\n",
       "    <tr>\n",
       "      <th>6776</th>\n",
       "      <td>77768</td>\n",
       "      <td>77778</td>\n",
       "      <td>GMF_8</td>\n",
       "      <td>X SAME LINE LEFT</td>\n",
       "      <td>Second Pass/meanDuration_Right</td>\n",
       "      <td>6766</td>\n",
       "    </tr>\n",
       "    <tr>\n",
       "      <th>6777</th>\n",
       "      <td>77786</td>\n",
       "      <td>77789</td>\n",
       "      <td>GMF_8</td>\n",
       "      <td>X SAME LINE LEFT</td>\n",
       "      <td>Second Pass/no.Fix_Left</td>\n",
       "      <td>6767</td>\n",
       "    </tr>\n",
       "  </tbody>\n",
       "</table>\n",
       "<p>4488 rows × 6 columns</p>\n",
       "</div>"
      ],
      "text/plain": [
       "      start_fix_idx  end_fix_idx Participant    Break_condition  \\\n",
       "2290          26243        26248        CB_1                SAC   \n",
       "2291          26256        26259        CB_1  X DIFF LINE RIGHT   \n",
       "2292          26296        26300        CB_1                SAC   \n",
       "2293          26326        26331        CB_1  X DIFF LINE RIGHT   \n",
       "2294          26339        26343        CB_1  X SAME LINE RIGHT   \n",
       "...             ...          ...         ...                ...   \n",
       "6773          77727        77731       GMF_8      LINE DISTANCE   \n",
       "6774          77745        77748       GMF_8  X DIFF LINE RIGHT   \n",
       "6775          77754        77761       GMF_8   X SAME LINE LEFT   \n",
       "6776          77768        77778       GMF_8   X SAME LINE LEFT   \n",
       "6777          77786        77789       GMF_8   X SAME LINE LEFT   \n",
       "\n",
       "                               Class Overlap_with  \n",
       "2290                      First Pass         None  \n",
       "2291         Second Pass/no.Fix_Left         2290  \n",
       "2292                      First Pass         None  \n",
       "2293                      First Pass         None  \n",
       "2294                      First Pass         None  \n",
       "...                              ...          ...  \n",
       "6773         Second Pass/no.Fix_Left         6732  \n",
       "6774         Second Pass/no.Fix_Left         6756  \n",
       "6775       Second Pass/More30%_Right         6761  \n",
       "6776  Second Pass/meanDuration_Right         6766  \n",
       "6777         Second Pass/no.Fix_Left         6767  \n",
       "\n",
       "[4488 rows x 6 columns]"
      ]
     },
     "execution_count": 38,
     "metadata": {},
     "output_type": "execute_result"
    }
   ],
   "source": [
    "# GROUP 2\n",
    "GMF_CB_seq = seq[seq[\"Participant\"].str.contains(\"GMF_|CB_\")]\n",
    "GMF_CB_seq"
   ]
  },
  {
   "cell_type": "code",
   "execution_count": 39,
   "id": "ad510b6e",
   "metadata": {},
   "outputs": [],
   "source": [
    "GMF_CB_seq_FP = GMF_CB_seq[GMF_CB_seq[\"Class\"].str.contains(\"First Pass\")]\n",
    "GMF_CB_seq_SP = GMF_CB_seq[GMF_CB_seq[\"Class\"].str.contains(\"Second Pass\")]"
   ]
  },
  {
   "cell_type": "code",
   "execution_count": 52,
   "id": "cf5546d2",
   "metadata": {
    "scrolled": true
   },
   "outputs": [
    {
     "data": {
      "text/html": [
       "<div>\n",
       "<style scoped>\n",
       "    .dataframe tbody tr th:only-of-type {\n",
       "        vertical-align: middle;\n",
       "    }\n",
       "\n",
       "    .dataframe tbody tr th {\n",
       "        vertical-align: top;\n",
       "    }\n",
       "\n",
       "    .dataframe thead th {\n",
       "        text-align: right;\n",
       "    }\n",
       "</style>\n",
       "<table border=\"1\" class=\"dataframe\">\n",
       "  <thead>\n",
       "    <tr style=\"text-align: right;\">\n",
       "      <th></th>\n",
       "      <th>Number of First-Pass</th>\n",
       "      <th>Number of First-Pass Fixations</th>\n",
       "      <th>Duration of First-Pass Fixations</th>\n",
       "      <th>Number of Second-Pass</th>\n",
       "      <th>Number of Second-Pass Fixations</th>\n",
       "      <th>Duration of Second-Pass Fixations</th>\n",
       "    </tr>\n",
       "    <tr>\n",
       "      <th>Participant</th>\n",
       "      <th></th>\n",
       "      <th></th>\n",
       "      <th></th>\n",
       "      <th></th>\n",
       "      <th></th>\n",
       "      <th></th>\n",
       "    </tr>\n",
       "  </thead>\n",
       "  <tbody>\n",
       "    <tr>\n",
       "      <th>CB_1</th>\n",
       "      <td>73</td>\n",
       "      <td>385</td>\n",
       "      <td>76462</td>\n",
       "      <td>81</td>\n",
       "      <td>403</td>\n",
       "      <td>85448</td>\n",
       "    </tr>\n",
       "    <tr>\n",
       "      <th>CB_10</th>\n",
       "      <td>48</td>\n",
       "      <td>270</td>\n",
       "      <td>66420</td>\n",
       "      <td>41</td>\n",
       "      <td>214</td>\n",
       "      <td>50115</td>\n",
       "    </tr>\n",
       "    <tr>\n",
       "      <th>CB_11</th>\n",
       "      <td>43</td>\n",
       "      <td>267</td>\n",
       "      <td>61869</td>\n",
       "      <td>8</td>\n",
       "      <td>51</td>\n",
       "      <td>11795</td>\n",
       "    </tr>\n",
       "    <tr>\n",
       "      <th>CB_12</th>\n",
       "      <td>97</td>\n",
       "      <td>513</td>\n",
       "      <td>115622</td>\n",
       "      <td>43</td>\n",
       "      <td>182</td>\n",
       "      <td>40314</td>\n",
       "    </tr>\n",
       "    <tr>\n",
       "      <th>CB_13</th>\n",
       "      <td>39</td>\n",
       "      <td>227</td>\n",
       "      <td>43174</td>\n",
       "      <td>11</td>\n",
       "      <td>64</td>\n",
       "      <td>14636</td>\n",
       "    </tr>\n",
       "    <tr>\n",
       "      <th>CB_14</th>\n",
       "      <td>52</td>\n",
       "      <td>235</td>\n",
       "      <td>55706</td>\n",
       "      <td>18</td>\n",
       "      <td>87</td>\n",
       "      <td>20219</td>\n",
       "    </tr>\n",
       "    <tr>\n",
       "      <th>CB_15</th>\n",
       "      <td>49</td>\n",
       "      <td>248</td>\n",
       "      <td>62820</td>\n",
       "      <td>7</td>\n",
       "      <td>42</td>\n",
       "      <td>10274</td>\n",
       "    </tr>\n",
       "    <tr>\n",
       "      <th>CB_16</th>\n",
       "      <td>48</td>\n",
       "      <td>318</td>\n",
       "      <td>67073</td>\n",
       "      <td>45</td>\n",
       "      <td>273</td>\n",
       "      <td>56597</td>\n",
       "    </tr>\n",
       "    <tr>\n",
       "      <th>CB_17</th>\n",
       "      <td>73</td>\n",
       "      <td>477</td>\n",
       "      <td>112867</td>\n",
       "      <td>38</td>\n",
       "      <td>208</td>\n",
       "      <td>48196</td>\n",
       "    </tr>\n",
       "    <tr>\n",
       "      <th>CB_18</th>\n",
       "      <td>37</td>\n",
       "      <td>197</td>\n",
       "      <td>45620</td>\n",
       "      <td>11</td>\n",
       "      <td>42</td>\n",
       "      <td>9463</td>\n",
       "    </tr>\n",
       "    <tr>\n",
       "      <th>CB_19</th>\n",
       "      <td>22</td>\n",
       "      <td>83</td>\n",
       "      <td>21288</td>\n",
       "      <td>4</td>\n",
       "      <td>17</td>\n",
       "      <td>5244</td>\n",
       "    </tr>\n",
       "    <tr>\n",
       "      <th>CB_2</th>\n",
       "      <td>66</td>\n",
       "      <td>434</td>\n",
       "      <td>118342</td>\n",
       "      <td>64</td>\n",
       "      <td>406</td>\n",
       "      <td>113099</td>\n",
       "    </tr>\n",
       "    <tr>\n",
       "      <th>CB_20</th>\n",
       "      <td>37</td>\n",
       "      <td>182</td>\n",
       "      <td>57004</td>\n",
       "      <td>8</td>\n",
       "      <td>28</td>\n",
       "      <td>7356</td>\n",
       "    </tr>\n",
       "    <tr>\n",
       "      <th>CB_21</th>\n",
       "      <td>66</td>\n",
       "      <td>419</td>\n",
       "      <td>105248</td>\n",
       "      <td>153</td>\n",
       "      <td>848</td>\n",
       "      <td>201550</td>\n",
       "    </tr>\n",
       "    <tr>\n",
       "      <th>CB_22</th>\n",
       "      <td>60</td>\n",
       "      <td>259</td>\n",
       "      <td>73766</td>\n",
       "      <td>23</td>\n",
       "      <td>109</td>\n",
       "      <td>29109</td>\n",
       "    </tr>\n",
       "    <tr>\n",
       "      <th>CB_23</th>\n",
       "      <td>30</td>\n",
       "      <td>114</td>\n",
       "      <td>25586</td>\n",
       "      <td>5</td>\n",
       "      <td>20</td>\n",
       "      <td>5122</td>\n",
       "    </tr>\n",
       "    <tr>\n",
       "      <th>CB_24</th>\n",
       "      <td>75</td>\n",
       "      <td>436</td>\n",
       "      <td>111835</td>\n",
       "      <td>101</td>\n",
       "      <td>579</td>\n",
       "      <td>148938</td>\n",
       "    </tr>\n",
       "    <tr>\n",
       "      <th>CB_25</th>\n",
       "      <td>43</td>\n",
       "      <td>272</td>\n",
       "      <td>62429</td>\n",
       "      <td>25</td>\n",
       "      <td>135</td>\n",
       "      <td>32559</td>\n",
       "    </tr>\n",
       "    <tr>\n",
       "      <th>CB_26</th>\n",
       "      <td>50</td>\n",
       "      <td>242</td>\n",
       "      <td>65105</td>\n",
       "      <td>47</td>\n",
       "      <td>273</td>\n",
       "      <td>75062</td>\n",
       "    </tr>\n",
       "    <tr>\n",
       "      <th>CB_3</th>\n",
       "      <td>66</td>\n",
       "      <td>451</td>\n",
       "      <td>99357</td>\n",
       "      <td>137</td>\n",
       "      <td>837</td>\n",
       "      <td>181615</td>\n",
       "    </tr>\n",
       "    <tr>\n",
       "      <th>CB_4</th>\n",
       "      <td>62</td>\n",
       "      <td>405</td>\n",
       "      <td>90114</td>\n",
       "      <td>84</td>\n",
       "      <td>469</td>\n",
       "      <td>101689</td>\n",
       "    </tr>\n",
       "    <tr>\n",
       "      <th>CB_5</th>\n",
       "      <td>62</td>\n",
       "      <td>386</td>\n",
       "      <td>88764</td>\n",
       "      <td>86</td>\n",
       "      <td>496</td>\n",
       "      <td>117348</td>\n",
       "    </tr>\n",
       "    <tr>\n",
       "      <th>CB_7</th>\n",
       "      <td>38</td>\n",
       "      <td>197</td>\n",
       "      <td>49690</td>\n",
       "      <td>4</td>\n",
       "      <td>34</td>\n",
       "      <td>8436</td>\n",
       "    </tr>\n",
       "    <tr>\n",
       "      <th>CB_8</th>\n",
       "      <td>49</td>\n",
       "      <td>294</td>\n",
       "      <td>72726</td>\n",
       "      <td>37</td>\n",
       "      <td>243</td>\n",
       "      <td>59046</td>\n",
       "    </tr>\n",
       "    <tr>\n",
       "      <th>GMF_1</th>\n",
       "      <td>56</td>\n",
       "      <td>294</td>\n",
       "      <td>60545</td>\n",
       "      <td>41</td>\n",
       "      <td>204</td>\n",
       "      <td>41832</td>\n",
       "    </tr>\n",
       "    <tr>\n",
       "      <th>GMF_10</th>\n",
       "      <td>48</td>\n",
       "      <td>276</td>\n",
       "      <td>60981</td>\n",
       "      <td>16</td>\n",
       "      <td>71</td>\n",
       "      <td>15715</td>\n",
       "    </tr>\n",
       "    <tr>\n",
       "      <th>GMF_11</th>\n",
       "      <td>41</td>\n",
       "      <td>275</td>\n",
       "      <td>64148</td>\n",
       "      <td>31</td>\n",
       "      <td>167</td>\n",
       "      <td>38446</td>\n",
       "    </tr>\n",
       "    <tr>\n",
       "      <th>GMF_12</th>\n",
       "      <td>87</td>\n",
       "      <td>435</td>\n",
       "      <td>108713</td>\n",
       "      <td>54</td>\n",
       "      <td>265</td>\n",
       "      <td>62720</td>\n",
       "    </tr>\n",
       "    <tr>\n",
       "      <th>GMF_13</th>\n",
       "      <td>47</td>\n",
       "      <td>245</td>\n",
       "      <td>51221</td>\n",
       "      <td>15</td>\n",
       "      <td>93</td>\n",
       "      <td>20434</td>\n",
       "    </tr>\n",
       "    <tr>\n",
       "      <th>GMF_14</th>\n",
       "      <td>32</td>\n",
       "      <td>140</td>\n",
       "      <td>29042</td>\n",
       "      <td>1</td>\n",
       "      <td>3</td>\n",
       "      <td>712</td>\n",
       "    </tr>\n",
       "    <tr>\n",
       "      <th>GMF_15</th>\n",
       "      <td>38</td>\n",
       "      <td>264</td>\n",
       "      <td>65309</td>\n",
       "      <td>6</td>\n",
       "      <td>26</td>\n",
       "      <td>6456</td>\n",
       "    </tr>\n",
       "    <tr>\n",
       "      <th>GMF_16</th>\n",
       "      <td>51</td>\n",
       "      <td>404</td>\n",
       "      <td>90326</td>\n",
       "      <td>97</td>\n",
       "      <td>685</td>\n",
       "      <td>142881</td>\n",
       "    </tr>\n",
       "    <tr>\n",
       "      <th>GMF_17</th>\n",
       "      <td>99</td>\n",
       "      <td>521</td>\n",
       "      <td>117072</td>\n",
       "      <td>94</td>\n",
       "      <td>472</td>\n",
       "      <td>99437</td>\n",
       "    </tr>\n",
       "    <tr>\n",
       "      <th>GMF_18</th>\n",
       "      <td>56</td>\n",
       "      <td>247</td>\n",
       "      <td>54977</td>\n",
       "      <td>22</td>\n",
       "      <td>92</td>\n",
       "      <td>21447</td>\n",
       "    </tr>\n",
       "    <tr>\n",
       "      <th>GMF_19</th>\n",
       "      <td>24</td>\n",
       "      <td>105</td>\n",
       "      <td>26656</td>\n",
       "      <td>6</td>\n",
       "      <td>19</td>\n",
       "      <td>5087</td>\n",
       "    </tr>\n",
       "    <tr>\n",
       "      <th>GMF_2</th>\n",
       "      <td>79</td>\n",
       "      <td>543</td>\n",
       "      <td>153788</td>\n",
       "      <td>57</td>\n",
       "      <td>363</td>\n",
       "      <td>96896</td>\n",
       "    </tr>\n",
       "    <tr>\n",
       "      <th>GMF_20</th>\n",
       "      <td>51</td>\n",
       "      <td>211</td>\n",
       "      <td>62688</td>\n",
       "      <td>17</td>\n",
       "      <td>70</td>\n",
       "      <td>19671</td>\n",
       "    </tr>\n",
       "    <tr>\n",
       "      <th>GMF_21</th>\n",
       "      <td>51</td>\n",
       "      <td>338</td>\n",
       "      <td>87512</td>\n",
       "      <td>33</td>\n",
       "      <td>173</td>\n",
       "      <td>42684</td>\n",
       "    </tr>\n",
       "    <tr>\n",
       "      <th>GMF_22</th>\n",
       "      <td>61</td>\n",
       "      <td>280</td>\n",
       "      <td>74300</td>\n",
       "      <td>77</td>\n",
       "      <td>332</td>\n",
       "      <td>86652</td>\n",
       "    </tr>\n",
       "    <tr>\n",
       "      <th>GMF_23</th>\n",
       "      <td>34</td>\n",
       "      <td>141</td>\n",
       "      <td>33611</td>\n",
       "      <td>23</td>\n",
       "      <td>111</td>\n",
       "      <td>26458</td>\n",
       "    </tr>\n",
       "    <tr>\n",
       "      <th>GMF_24</th>\n",
       "      <td>61</td>\n",
       "      <td>352</td>\n",
       "      <td>89127</td>\n",
       "      <td>56</td>\n",
       "      <td>344</td>\n",
       "      <td>88960</td>\n",
       "    </tr>\n",
       "    <tr>\n",
       "      <th>GMF_25</th>\n",
       "      <td>44</td>\n",
       "      <td>332</td>\n",
       "      <td>75995</td>\n",
       "      <td>12</td>\n",
       "      <td>54</td>\n",
       "      <td>10895</td>\n",
       "    </tr>\n",
       "    <tr>\n",
       "      <th>GMF_26</th>\n",
       "      <td>51</td>\n",
       "      <td>243</td>\n",
       "      <td>63201</td>\n",
       "      <td>39</td>\n",
       "      <td>239</td>\n",
       "      <td>62918</td>\n",
       "    </tr>\n",
       "    <tr>\n",
       "      <th>GMF_3</th>\n",
       "      <td>50</td>\n",
       "      <td>363</td>\n",
       "      <td>75947</td>\n",
       "      <td>26</td>\n",
       "      <td>176</td>\n",
       "      <td>39386</td>\n",
       "    </tr>\n",
       "    <tr>\n",
       "      <th>GMF_4</th>\n",
       "      <td>50</td>\n",
       "      <td>347</td>\n",
       "      <td>73468</td>\n",
       "      <td>44</td>\n",
       "      <td>278</td>\n",
       "      <td>60852</td>\n",
       "    </tr>\n",
       "    <tr>\n",
       "      <th>GMF_5</th>\n",
       "      <td>71</td>\n",
       "      <td>389</td>\n",
       "      <td>88180</td>\n",
       "      <td>76</td>\n",
       "      <td>460</td>\n",
       "      <td>105547</td>\n",
       "    </tr>\n",
       "    <tr>\n",
       "      <th>GMF_7</th>\n",
       "      <td>44</td>\n",
       "      <td>278</td>\n",
       "      <td>64170</td>\n",
       "      <td>1</td>\n",
       "      <td>3</td>\n",
       "      <td>598</td>\n",
       "    </tr>\n",
       "    <tr>\n",
       "      <th>GMF_8</th>\n",
       "      <td>35</td>\n",
       "      <td>205</td>\n",
       "      <td>45797</td>\n",
       "      <td>17</td>\n",
       "      <td>84</td>\n",
       "      <td>17880</td>\n",
       "    </tr>\n",
       "  </tbody>\n",
       "</table>\n",
       "</div>"
      ],
      "text/plain": [
       "             Number of First-Pass  Number of First-Pass Fixations  \\\n",
       "Participant                                                         \n",
       "CB_1                           73                             385   \n",
       "CB_10                          48                             270   \n",
       "CB_11                          43                             267   \n",
       "CB_12                          97                             513   \n",
       "CB_13                          39                             227   \n",
       "CB_14                          52                             235   \n",
       "CB_15                          49                             248   \n",
       "CB_16                          48                             318   \n",
       "CB_17                          73                             477   \n",
       "CB_18                          37                             197   \n",
       "CB_19                          22                              83   \n",
       "CB_2                           66                             434   \n",
       "CB_20                          37                             182   \n",
       "CB_21                          66                             419   \n",
       "CB_22                          60                             259   \n",
       "CB_23                          30                             114   \n",
       "CB_24                          75                             436   \n",
       "CB_25                          43                             272   \n",
       "CB_26                          50                             242   \n",
       "CB_3                           66                             451   \n",
       "CB_4                           62                             405   \n",
       "CB_5                           62                             386   \n",
       "CB_7                           38                             197   \n",
       "CB_8                           49                             294   \n",
       "GMF_1                          56                             294   \n",
       "GMF_10                         48                             276   \n",
       "GMF_11                         41                             275   \n",
       "GMF_12                         87                             435   \n",
       "GMF_13                         47                             245   \n",
       "GMF_14                         32                             140   \n",
       "GMF_15                         38                             264   \n",
       "GMF_16                         51                             404   \n",
       "GMF_17                         99                             521   \n",
       "GMF_18                         56                             247   \n",
       "GMF_19                         24                             105   \n",
       "GMF_2                          79                             543   \n",
       "GMF_20                         51                             211   \n",
       "GMF_21                         51                             338   \n",
       "GMF_22                         61                             280   \n",
       "GMF_23                         34                             141   \n",
       "GMF_24                         61                             352   \n",
       "GMF_25                         44                             332   \n",
       "GMF_26                         51                             243   \n",
       "GMF_3                          50                             363   \n",
       "GMF_4                          50                             347   \n",
       "GMF_5                          71                             389   \n",
       "GMF_7                          44                             278   \n",
       "GMF_8                          35                             205   \n",
       "\n",
       "             Duration of First-Pass Fixations  Number of Second-Pass  \\\n",
       "Participant                                                            \n",
       "CB_1                                    76462                     81   \n",
       "CB_10                                   66420                     41   \n",
       "CB_11                                   61869                      8   \n",
       "CB_12                                  115622                     43   \n",
       "CB_13                                   43174                     11   \n",
       "CB_14                                   55706                     18   \n",
       "CB_15                                   62820                      7   \n",
       "CB_16                                   67073                     45   \n",
       "CB_17                                  112867                     38   \n",
       "CB_18                                   45620                     11   \n",
       "CB_19                                   21288                      4   \n",
       "CB_2                                   118342                     64   \n",
       "CB_20                                   57004                      8   \n",
       "CB_21                                  105248                    153   \n",
       "CB_22                                   73766                     23   \n",
       "CB_23                                   25586                      5   \n",
       "CB_24                                  111835                    101   \n",
       "CB_25                                   62429                     25   \n",
       "CB_26                                   65105                     47   \n",
       "CB_3                                    99357                    137   \n",
       "CB_4                                    90114                     84   \n",
       "CB_5                                    88764                     86   \n",
       "CB_7                                    49690                      4   \n",
       "CB_8                                    72726                     37   \n",
       "GMF_1                                   60545                     41   \n",
       "GMF_10                                  60981                     16   \n",
       "GMF_11                                  64148                     31   \n",
       "GMF_12                                 108713                     54   \n",
       "GMF_13                                  51221                     15   \n",
       "GMF_14                                  29042                      1   \n",
       "GMF_15                                  65309                      6   \n",
       "GMF_16                                  90326                     97   \n",
       "GMF_17                                 117072                     94   \n",
       "GMF_18                                  54977                     22   \n",
       "GMF_19                                  26656                      6   \n",
       "GMF_2                                  153788                     57   \n",
       "GMF_20                                  62688                     17   \n",
       "GMF_21                                  87512                     33   \n",
       "GMF_22                                  74300                     77   \n",
       "GMF_23                                  33611                     23   \n",
       "GMF_24                                  89127                     56   \n",
       "GMF_25                                  75995                     12   \n",
       "GMF_26                                  63201                     39   \n",
       "GMF_3                                   75947                     26   \n",
       "GMF_4                                   73468                     44   \n",
       "GMF_5                                   88180                     76   \n",
       "GMF_7                                   64170                      1   \n",
       "GMF_8                                   45797                     17   \n",
       "\n",
       "             Number of Second-Pass Fixations  \\\n",
       "Participant                                    \n",
       "CB_1                                     403   \n",
       "CB_10                                    214   \n",
       "CB_11                                     51   \n",
       "CB_12                                    182   \n",
       "CB_13                                     64   \n",
       "CB_14                                     87   \n",
       "CB_15                                     42   \n",
       "CB_16                                    273   \n",
       "CB_17                                    208   \n",
       "CB_18                                     42   \n",
       "CB_19                                     17   \n",
       "CB_2                                     406   \n",
       "CB_20                                     28   \n",
       "CB_21                                    848   \n",
       "CB_22                                    109   \n",
       "CB_23                                     20   \n",
       "CB_24                                    579   \n",
       "CB_25                                    135   \n",
       "CB_26                                    273   \n",
       "CB_3                                     837   \n",
       "CB_4                                     469   \n",
       "CB_5                                     496   \n",
       "CB_7                                      34   \n",
       "CB_8                                     243   \n",
       "GMF_1                                    204   \n",
       "GMF_10                                    71   \n",
       "GMF_11                                   167   \n",
       "GMF_12                                   265   \n",
       "GMF_13                                    93   \n",
       "GMF_14                                     3   \n",
       "GMF_15                                    26   \n",
       "GMF_16                                   685   \n",
       "GMF_17                                   472   \n",
       "GMF_18                                    92   \n",
       "GMF_19                                    19   \n",
       "GMF_2                                    363   \n",
       "GMF_20                                    70   \n",
       "GMF_21                                   173   \n",
       "GMF_22                                   332   \n",
       "GMF_23                                   111   \n",
       "GMF_24                                   344   \n",
       "GMF_25                                    54   \n",
       "GMF_26                                   239   \n",
       "GMF_3                                    176   \n",
       "GMF_4                                    278   \n",
       "GMF_5                                    460   \n",
       "GMF_7                                      3   \n",
       "GMF_8                                     84   \n",
       "\n",
       "             Duration of Second-Pass Fixations  \n",
       "Participant                                     \n",
       "CB_1                                     85448  \n",
       "CB_10                                    50115  \n",
       "CB_11                                    11795  \n",
       "CB_12                                    40314  \n",
       "CB_13                                    14636  \n",
       "CB_14                                    20219  \n",
       "CB_15                                    10274  \n",
       "CB_16                                    56597  \n",
       "CB_17                                    48196  \n",
       "CB_18                                     9463  \n",
       "CB_19                                     5244  \n",
       "CB_2                                    113099  \n",
       "CB_20                                     7356  \n",
       "CB_21                                   201550  \n",
       "CB_22                                    29109  \n",
       "CB_23                                     5122  \n",
       "CB_24                                   148938  \n",
       "CB_25                                    32559  \n",
       "CB_26                                    75062  \n",
       "CB_3                                    181615  \n",
       "CB_4                                    101689  \n",
       "CB_5                                    117348  \n",
       "CB_7                                      8436  \n",
       "CB_8                                     59046  \n",
       "GMF_1                                    41832  \n",
       "GMF_10                                   15715  \n",
       "GMF_11                                   38446  \n",
       "GMF_12                                   62720  \n",
       "GMF_13                                   20434  \n",
       "GMF_14                                     712  \n",
       "GMF_15                                    6456  \n",
       "GMF_16                                  142881  \n",
       "GMF_17                                   99437  \n",
       "GMF_18                                   21447  \n",
       "GMF_19                                    5087  \n",
       "GMF_2                                    96896  \n",
       "GMF_20                                   19671  \n",
       "GMF_21                                   42684  \n",
       "GMF_22                                   86652  \n",
       "GMF_23                                   26458  \n",
       "GMF_24                                   88960  \n",
       "GMF_25                                   10895  \n",
       "GMF_26                                   62918  \n",
       "GMF_3                                    39386  \n",
       "GMF_4                                    60852  \n",
       "GMF_5                                   105547  \n",
       "GMF_7                                      598  \n",
       "GMF_8                                    17880  "
      ]
     },
     "execution_count": 52,
     "metadata": {},
     "output_type": "execute_result"
    }
   ],
   "source": [
    "# GROUP 2\n",
    "GMF_CB_measurements = getMeasurements(GMF_CB_seq_FP, GMF_CB_seq_SP)\n",
    "# measurements[\"Number of visits to each text\"] = data[data[\"File\"].str.contains(\"CBT_|LSW_\")][['File', 'TRIAL_INDEX']].groupby(\"File\").max()/2\n",
    "\n",
    "GMF_CB_measurements"
   ]
  },
  {
   "cell_type": "code",
   "execution_count": 41,
   "id": "ad5dcdb9",
   "metadata": {},
   "outputs": [],
   "source": [
    "with pd.ExcelWriter('GMF_CB_measurements.xlsx') as writer:\n",
    "    for col in GMF_CB_measurements:\n",
    "        GMF_CB_measurements[[col]].to_excel(writer, sheet_name=col)"
   ]
  },
  {
   "cell_type": "code",
   "execution_count": 58,
   "id": "3296c77e",
   "metadata": {},
   "outputs": [
    {
     "data": {
      "text/html": [
       "<div>\n",
       "<style scoped>\n",
       "    .dataframe tbody tr th:only-of-type {\n",
       "        vertical-align: middle;\n",
       "    }\n",
       "\n",
       "    .dataframe tbody tr th {\n",
       "        vertical-align: top;\n",
       "    }\n",
       "\n",
       "    .dataframe thead th {\n",
       "        text-align: right;\n",
       "    }\n",
       "</style>\n",
       "<table border=\"1\" class=\"dataframe\">\n",
       "  <thead>\n",
       "    <tr style=\"text-align: right;\">\n",
       "      <th></th>\n",
       "      <th>Number of First-Pass</th>\n",
       "      <th>Number of First-Pass Fixations</th>\n",
       "      <th>Duration of First-Pass Fixations</th>\n",
       "      <th>Number of Second-Pass</th>\n",
       "      <th>Number of Second-Pass Fixations</th>\n",
       "      <th>Duration of Second-Pass Fixations</th>\n",
       "    </tr>\n",
       "  </thead>\n",
       "  <tbody>\n",
       "    <tr>\n",
       "      <th>Mean</th>\n",
       "      <td>52.541667</td>\n",
       "      <td>297.104167</td>\n",
       "      <td>71359.145833</td>\n",
       "      <td>35.083333</td>\n",
       "      <td>201.645833</td>\n",
       "      <td>47673.416667</td>\n",
       "    </tr>\n",
       "    <tr>\n",
       "      <th>Median</th>\n",
       "      <td>48.000000</td>\n",
       "      <td>293.500000</td>\n",
       "      <td>70309.500000</td>\n",
       "      <td>30.500000</td>\n",
       "      <td>184.000000</td>\n",
       "      <td>42500.500000</td>\n",
       "    </tr>\n",
       "    <tr>\n",
       "      <th>Max</th>\n",
       "      <td>91.000000</td>\n",
       "      <td>594.000000</td>\n",
       "      <td>162554.000000</td>\n",
       "      <td>106.000000</td>\n",
       "      <td>698.000000</td>\n",
       "      <td>147176.000000</td>\n",
       "    </tr>\n",
       "    <tr>\n",
       "      <th>Min</th>\n",
       "      <td>23.000000</td>\n",
       "      <td>82.000000</td>\n",
       "      <td>21856.000000</td>\n",
       "      <td>2.000000</td>\n",
       "      <td>7.000000</td>\n",
       "      <td>1348.000000</td>\n",
       "    </tr>\n",
       "    <tr>\n",
       "      <th>Skew</th>\n",
       "      <td>0.428295</td>\n",
       "      <td>0.225677</td>\n",
       "      <td>0.691721</td>\n",
       "      <td>0.896599</td>\n",
       "      <td>1.008888</td>\n",
       "      <td>0.898826</td>\n",
       "    </tr>\n",
       "    <tr>\n",
       "      <th>Kurtosis</th>\n",
       "      <td>-0.675009</td>\n",
       "      <td>-0.043563</td>\n",
       "      <td>1.061163</td>\n",
       "      <td>0.026587</td>\n",
       "      <td>0.396435</td>\n",
       "      <td>-0.030975</td>\n",
       "    </tr>\n",
       "  </tbody>\n",
       "</table>\n",
       "</div>"
      ],
      "text/plain": [
       "          Number of First-Pass  Number of First-Pass Fixations  \\\n",
       "Mean                 52.541667                      297.104167   \n",
       "Median               48.000000                      293.500000   \n",
       "Max                  91.000000                      594.000000   \n",
       "Min                  23.000000                       82.000000   \n",
       "Skew                  0.428295                        0.225677   \n",
       "Kurtosis             -0.675009                       -0.043563   \n",
       "\n",
       "          Duration of First-Pass Fixations  Number of Second-Pass  \\\n",
       "Mean                          71359.145833              35.083333   \n",
       "Median                        70309.500000              30.500000   \n",
       "Max                          162554.000000             106.000000   \n",
       "Min                           21856.000000               2.000000   \n",
       "Skew                              0.691721               0.896599   \n",
       "Kurtosis                          1.061163               0.026587   \n",
       "\n",
       "          Number of Second-Pass Fixations  Duration of Second-Pass Fixations  \n",
       "Mean                           201.645833                       47673.416667  \n",
       "Median                         184.000000                       42500.500000  \n",
       "Max                            698.000000                      147176.000000  \n",
       "Min                              7.000000                        1348.000000  \n",
       "Skew                             1.008888                           0.898826  \n",
       "Kurtosis                         0.396435                          -0.030975  "
      ]
     },
     "execution_count": 58,
     "metadata": {},
     "output_type": "execute_result"
    }
   ],
   "source": [
    "descriptiveStatistics(CBT_LSW_measurements)"
   ]
  },
  {
   "cell_type": "code",
   "execution_count": 60,
   "id": "e7e7fd87",
   "metadata": {},
   "outputs": [
    {
     "data": {
      "text/html": [
       "<div>\n",
       "<style scoped>\n",
       "    .dataframe tbody tr th:only-of-type {\n",
       "        vertical-align: middle;\n",
       "    }\n",
       "\n",
       "    .dataframe tbody tr th {\n",
       "        vertical-align: top;\n",
       "    }\n",
       "\n",
       "    .dataframe thead th {\n",
       "        text-align: right;\n",
       "    }\n",
       "</style>\n",
       "<table border=\"1\" class=\"dataframe\">\n",
       "  <thead>\n",
       "    <tr style=\"text-align: right;\">\n",
       "      <th></th>\n",
       "      <th>Number of First-Pass</th>\n",
       "      <th>Number of First-Pass Fixations</th>\n",
       "      <th>Duration of First-Pass Fixations</th>\n",
       "      <th>Number of Second-Pass</th>\n",
       "      <th>Number of Second-Pass Fixations</th>\n",
       "      <th>Duration of Second-Pass Fixations</th>\n",
       "    </tr>\n",
       "  </thead>\n",
       "  <tbody>\n",
       "    <tr>\n",
       "      <th>Mean</th>\n",
       "      <td>53.041667</td>\n",
       "      <td>302.895833</td>\n",
       "      <td>72201.270833</td>\n",
       "      <td>40.458333</td>\n",
       "      <td>225.916667</td>\n",
       "      <td>53079.041667</td>\n",
       "    </tr>\n",
       "    <tr>\n",
       "      <th>Median</th>\n",
       "      <td>50.000000</td>\n",
       "      <td>277.000000</td>\n",
       "      <td>65864.500000</td>\n",
       "      <td>32.000000</td>\n",
       "      <td>174.500000</td>\n",
       "      <td>39850.000000</td>\n",
       "    </tr>\n",
       "    <tr>\n",
       "      <th>Max</th>\n",
       "      <td>99.000000</td>\n",
       "      <td>543.000000</td>\n",
       "      <td>153788.000000</td>\n",
       "      <td>153.000000</td>\n",
       "      <td>848.000000</td>\n",
       "      <td>201550.000000</td>\n",
       "    </tr>\n",
       "    <tr>\n",
       "      <th>Min</th>\n",
       "      <td>22.000000</td>\n",
       "      <td>83.000000</td>\n",
       "      <td>21288.000000</td>\n",
       "      <td>1.000000</td>\n",
       "      <td>3.000000</td>\n",
       "      <td>598.000000</td>\n",
       "    </tr>\n",
       "    <tr>\n",
       "      <th>Skew</th>\n",
       "      <td>0.750831</td>\n",
       "      <td>0.210854</td>\n",
       "      <td>0.529743</td>\n",
       "      <td>1.250187</td>\n",
       "      <td>1.307771</td>\n",
       "      <td>1.212461</td>\n",
       "    </tr>\n",
       "    <tr>\n",
       "      <th>Kurtosis</th>\n",
       "      <td>0.639553</td>\n",
       "      <td>-0.459229</td>\n",
       "      <td>0.483687</td>\n",
       "      <td>1.327834</td>\n",
       "      <td>1.397566</td>\n",
       "      <td>1.059815</td>\n",
       "    </tr>\n",
       "  </tbody>\n",
       "</table>\n",
       "</div>"
      ],
      "text/plain": [
       "          Number of First-Pass  Number of First-Pass Fixations  \\\n",
       "Mean                 53.041667                      302.895833   \n",
       "Median               50.000000                      277.000000   \n",
       "Max                  99.000000                      543.000000   \n",
       "Min                  22.000000                       83.000000   \n",
       "Skew                  0.750831                        0.210854   \n",
       "Kurtosis              0.639553                       -0.459229   \n",
       "\n",
       "          Duration of First-Pass Fixations  Number of Second-Pass  \\\n",
       "Mean                          72201.270833              40.458333   \n",
       "Median                        65864.500000              32.000000   \n",
       "Max                          153788.000000             153.000000   \n",
       "Min                           21288.000000               1.000000   \n",
       "Skew                              0.529743               1.250187   \n",
       "Kurtosis                          0.483687               1.327834   \n",
       "\n",
       "          Number of Second-Pass Fixations  Duration of Second-Pass Fixations  \n",
       "Mean                           225.916667                       53079.041667  \n",
       "Median                         174.500000                       39850.000000  \n",
       "Max                            848.000000                      201550.000000  \n",
       "Min                              3.000000                         598.000000  \n",
       "Skew                             1.307771                           1.212461  \n",
       "Kurtosis                         1.397566                           1.059815  "
      ]
     },
     "execution_count": 60,
     "metadata": {},
     "output_type": "execute_result"
    }
   ],
   "source": [
    "descriptiveStatistics(GMF_CB_measurements)"
   ]
  },
  {
   "cell_type": "code",
   "execution_count": 77,
   "id": "9d750aa9",
   "metadata": {},
   "outputs": [
    {
     "data": {
      "text/html": [
       "<div>\n",
       "<style scoped>\n",
       "    .dataframe tbody tr th:only-of-type {\n",
       "        vertical-align: middle;\n",
       "    }\n",
       "\n",
       "    .dataframe tbody tr th {\n",
       "        vertical-align: top;\n",
       "    }\n",
       "\n",
       "    .dataframe thead th {\n",
       "        text-align: right;\n",
       "    }\n",
       "</style>\n",
       "<table border=\"1\" class=\"dataframe\">\n",
       "  <thead>\n",
       "    <tr style=\"text-align: right;\">\n",
       "      <th></th>\n",
       "      <th>Number of First-Pass</th>\n",
       "      <th>Number of First-Pass Fixations</th>\n",
       "      <th>Duration of First-Pass Fixations</th>\n",
       "      <th>Number of Second-Pass</th>\n",
       "      <th>Number of Second-Pass Fixations</th>\n",
       "      <th>Duration of Second-Pass Fixations</th>\n",
       "    </tr>\n",
       "  </thead>\n",
       "  <tbody>\n",
       "    <tr>\n",
       "      <th>Mean</th>\n",
       "      <td>54.708333</td>\n",
       "      <td>306.333333</td>\n",
       "      <td>74047.458333</td>\n",
       "      <td>40.708333</td>\n",
       "      <td>238.083333</td>\n",
       "      <td>56354.000000</td>\n",
       "    </tr>\n",
       "    <tr>\n",
       "      <th>Median</th>\n",
       "      <td>52.500000</td>\n",
       "      <td>298.000000</td>\n",
       "      <td>73797.500000</td>\n",
       "      <td>34.500000</td>\n",
       "      <td>207.500000</td>\n",
       "      <td>48013.500000</td>\n",
       "    </tr>\n",
       "    <tr>\n",
       "      <th>Max</th>\n",
       "      <td>91.000000</td>\n",
       "      <td>496.000000</td>\n",
       "      <td>136212.000000</td>\n",
       "      <td>106.000000</td>\n",
       "      <td>698.000000</td>\n",
       "      <td>147176.000000</td>\n",
       "    </tr>\n",
       "    <tr>\n",
       "      <th>Min</th>\n",
       "      <td>23.000000</td>\n",
       "      <td>82.000000</td>\n",
       "      <td>21856.000000</td>\n",
       "      <td>2.000000</td>\n",
       "      <td>7.000000</td>\n",
       "      <td>1348.000000</td>\n",
       "    </tr>\n",
       "    <tr>\n",
       "      <th>Skew</th>\n",
       "      <td>0.276585</td>\n",
       "      <td>-0.087788</td>\n",
       "      <td>0.142276</td>\n",
       "      <td>0.657414</td>\n",
       "      <td>0.755866</td>\n",
       "      <td>0.649218</td>\n",
       "    </tr>\n",
       "    <tr>\n",
       "      <th>Kurtosis</th>\n",
       "      <td>-0.578480</td>\n",
       "      <td>-0.474427</td>\n",
       "      <td>0.036450</td>\n",
       "      <td>-0.821071</td>\n",
       "      <td>-0.630707</td>\n",
       "      <td>-0.889310</td>\n",
       "    </tr>\n",
       "  </tbody>\n",
       "</table>\n",
       "</div>"
      ],
      "text/plain": [
       "          Number of First-Pass  Number of First-Pass Fixations  \\\n",
       "Mean                 54.708333                      306.333333   \n",
       "Median               52.500000                      298.000000   \n",
       "Max                  91.000000                      496.000000   \n",
       "Min                  23.000000                       82.000000   \n",
       "Skew                  0.276585                       -0.087788   \n",
       "Kurtosis             -0.578480                       -0.474427   \n",
       "\n",
       "          Duration of First-Pass Fixations  Number of Second-Pass  \\\n",
       "Mean                          74047.458333              40.708333   \n",
       "Median                        73797.500000              34.500000   \n",
       "Max                          136212.000000             106.000000   \n",
       "Min                           21856.000000               2.000000   \n",
       "Skew                              0.142276               0.657414   \n",
       "Kurtosis                          0.036450              -0.821071   \n",
       "\n",
       "          Number of Second-Pass Fixations  Duration of Second-Pass Fixations  \n",
       "Mean                           238.083333                       56354.000000  \n",
       "Median                         207.500000                       48013.500000  \n",
       "Max                            698.000000                      147176.000000  \n",
       "Min                              7.000000                        1348.000000  \n",
       "Skew                             0.755866                           0.649218  \n",
       "Kurtosis                        -0.630707                          -0.889310  "
      ]
     },
     "metadata": {},
     "output_type": "display_data"
    },
    {
     "data": {
      "text/html": [
       "<div>\n",
       "<style scoped>\n",
       "    .dataframe tbody tr th:only-of-type {\n",
       "        vertical-align: middle;\n",
       "    }\n",
       "\n",
       "    .dataframe tbody tr th {\n",
       "        vertical-align: top;\n",
       "    }\n",
       "\n",
       "    .dataframe thead th {\n",
       "        text-align: right;\n",
       "    }\n",
       "</style>\n",
       "<table border=\"1\" class=\"dataframe\">\n",
       "  <thead>\n",
       "    <tr style=\"text-align: right;\">\n",
       "      <th></th>\n",
       "      <th>Number of First-Pass</th>\n",
       "      <th>Number of First-Pass Fixations</th>\n",
       "      <th>Duration of First-Pass Fixations</th>\n",
       "      <th>Number of Second-Pass</th>\n",
       "      <th>Number of Second-Pass Fixations</th>\n",
       "      <th>Duration of Second-Pass Fixations</th>\n",
       "    </tr>\n",
       "  </thead>\n",
       "  <tbody>\n",
       "    <tr>\n",
       "      <th>Mean</th>\n",
       "      <td>50.375000</td>\n",
       "      <td>287.875000</td>\n",
       "      <td>68670.833333</td>\n",
       "      <td>29.458333</td>\n",
       "      <td>165.208333</td>\n",
       "      <td>38992.833333</td>\n",
       "    </tr>\n",
       "    <tr>\n",
       "      <th>Median</th>\n",
       "      <td>44.000000</td>\n",
       "      <td>287.000000</td>\n",
       "      <td>63561.000000</td>\n",
       "      <td>26.500000</td>\n",
       "      <td>158.000000</td>\n",
       "      <td>35704.000000</td>\n",
       "    </tr>\n",
       "    <tr>\n",
       "      <th>Max</th>\n",
       "      <td>85.000000</td>\n",
       "      <td>594.000000</td>\n",
       "      <td>162554.000000</td>\n",
       "      <td>91.000000</td>\n",
       "      <td>466.000000</td>\n",
       "      <td>104755.000000</td>\n",
       "    </tr>\n",
       "    <tr>\n",
       "      <th>Min</th>\n",
       "      <td>26.000000</td>\n",
       "      <td>94.000000</td>\n",
       "      <td>26083.000000</td>\n",
       "      <td>2.000000</td>\n",
       "      <td>10.000000</td>\n",
       "      <td>2166.000000</td>\n",
       "    </tr>\n",
       "    <tr>\n",
       "      <th>Skew</th>\n",
       "      <td>0.615865</td>\n",
       "      <td>0.544526</td>\n",
       "      <td>1.203942</td>\n",
       "      <td>0.778542</td>\n",
       "      <td>0.564348</td>\n",
       "      <td>0.599709</td>\n",
       "    </tr>\n",
       "    <tr>\n",
       "      <th>Kurtosis</th>\n",
       "      <td>-0.541256</td>\n",
       "      <td>0.817999</td>\n",
       "      <td>2.614433</td>\n",
       "      <td>0.429993</td>\n",
       "      <td>-0.409729</td>\n",
       "      <td>-0.613727</td>\n",
       "    </tr>\n",
       "  </tbody>\n",
       "</table>\n",
       "</div>"
      ],
      "text/plain": [
       "          Number of First-Pass  Number of First-Pass Fixations  \\\n",
       "Mean                 50.375000                      287.875000   \n",
       "Median               44.000000                      287.000000   \n",
       "Max                  85.000000                      594.000000   \n",
       "Min                  26.000000                       94.000000   \n",
       "Skew                  0.615865                        0.544526   \n",
       "Kurtosis             -0.541256                        0.817999   \n",
       "\n",
       "          Duration of First-Pass Fixations  Number of Second-Pass  \\\n",
       "Mean                          68670.833333              29.458333   \n",
       "Median                        63561.000000              26.500000   \n",
       "Max                          162554.000000              91.000000   \n",
       "Min                           26083.000000               2.000000   \n",
       "Skew                              1.203942               0.778542   \n",
       "Kurtosis                          2.614433               0.429993   \n",
       "\n",
       "          Number of Second-Pass Fixations  Duration of Second-Pass Fixations  \n",
       "Mean                           165.208333                       38992.833333  \n",
       "Median                         158.000000                       35704.000000  \n",
       "Max                            466.000000                      104755.000000  \n",
       "Min                             10.000000                        2166.000000  \n",
       "Skew                             0.564348                           0.599709  \n",
       "Kurtosis                        -0.409729                          -0.613727  "
      ]
     },
     "metadata": {},
     "output_type": "display_data"
    },
    {
     "data": {
      "text/html": [
       "<div>\n",
       "<style scoped>\n",
       "    .dataframe tbody tr th:only-of-type {\n",
       "        vertical-align: middle;\n",
       "    }\n",
       "\n",
       "    .dataframe tbody tr th {\n",
       "        vertical-align: top;\n",
       "    }\n",
       "\n",
       "    .dataframe thead th {\n",
       "        text-align: right;\n",
       "    }\n",
       "</style>\n",
       "<table border=\"1\" class=\"dataframe\">\n",
       "  <thead>\n",
       "    <tr style=\"text-align: right;\">\n",
       "      <th></th>\n",
       "      <th>Number of First-Pass</th>\n",
       "      <th>Number of First-Pass Fixations</th>\n",
       "      <th>Duration of First-Pass Fixations</th>\n",
       "      <th>Number of Second-Pass</th>\n",
       "      <th>Number of Second-Pass Fixations</th>\n",
       "      <th>Duration of Second-Pass Fixations</th>\n",
       "    </tr>\n",
       "  </thead>\n",
       "  <tbody>\n",
       "    <tr>\n",
       "      <th>Mean</th>\n",
       "      <td>52.541667</td>\n",
       "      <td>301.166667</td>\n",
       "      <td>71532.250000</td>\n",
       "      <td>35.875000</td>\n",
       "      <td>199.333333</td>\n",
       "      <td>46440.166667</td>\n",
       "    </tr>\n",
       "    <tr>\n",
       "      <th>Median</th>\n",
       "      <td>50.500000</td>\n",
       "      <td>279.000000</td>\n",
       "      <td>64739.500000</td>\n",
       "      <td>28.500000</td>\n",
       "      <td>170.000000</td>\n",
       "      <td>38916.000000</td>\n",
       "    </tr>\n",
       "    <tr>\n",
       "      <th>Max</th>\n",
       "      <td>99.000000</td>\n",
       "      <td>543.000000</td>\n",
       "      <td>153788.000000</td>\n",
       "      <td>97.000000</td>\n",
       "      <td>685.000000</td>\n",
       "      <td>142881.000000</td>\n",
       "    </tr>\n",
       "    <tr>\n",
       "      <th>Min</th>\n",
       "      <td>24.000000</td>\n",
       "      <td>105.000000</td>\n",
       "      <td>26656.000000</td>\n",
       "      <td>1.000000</td>\n",
       "      <td>3.000000</td>\n",
       "      <td>598.000000</td>\n",
       "    </tr>\n",
       "    <tr>\n",
       "      <th>Skew</th>\n",
       "      <td>1.047706</td>\n",
       "      <td>0.413421</td>\n",
       "      <td>0.962972</td>\n",
       "      <td>0.820318</td>\n",
       "      <td>1.125369</td>\n",
       "      <td>0.823906</td>\n",
       "    </tr>\n",
       "    <tr>\n",
       "      <th>Kurtosis</th>\n",
       "      <td>1.320359</td>\n",
       "      <td>0.241084</td>\n",
       "      <td>1.957280</td>\n",
       "      <td>-0.224378</td>\n",
       "      <td>1.114546</td>\n",
       "      <td>-0.144900</td>\n",
       "    </tr>\n",
       "  </tbody>\n",
       "</table>\n",
       "</div>"
      ],
      "text/plain": [
       "          Number of First-Pass  Number of First-Pass Fixations  \\\n",
       "Mean                 52.541667                      301.166667   \n",
       "Median               50.500000                      279.000000   \n",
       "Max                  99.000000                      543.000000   \n",
       "Min                  24.000000                      105.000000   \n",
       "Skew                  1.047706                        0.413421   \n",
       "Kurtosis              1.320359                        0.241084   \n",
       "\n",
       "          Duration of First-Pass Fixations  Number of Second-Pass  \\\n",
       "Mean                          71532.250000              35.875000   \n",
       "Median                        64739.500000              28.500000   \n",
       "Max                          153788.000000              97.000000   \n",
       "Min                           26656.000000               1.000000   \n",
       "Skew                              0.962972               0.820318   \n",
       "Kurtosis                          1.957280              -0.224378   \n",
       "\n",
       "          Number of Second-Pass Fixations  Duration of Second-Pass Fixations  \n",
       "Mean                           199.333333                       46440.166667  \n",
       "Median                         170.000000                       38916.000000  \n",
       "Max                            685.000000                      142881.000000  \n",
       "Min                              3.000000                         598.000000  \n",
       "Skew                             1.125369                           0.823906  \n",
       "Kurtosis                         1.114546                          -0.144900  "
      ]
     },
     "metadata": {},
     "output_type": "display_data"
    },
    {
     "data": {
      "text/html": [
       "<div>\n",
       "<style scoped>\n",
       "    .dataframe tbody tr th:only-of-type {\n",
       "        vertical-align: middle;\n",
       "    }\n",
       "\n",
       "    .dataframe tbody tr th {\n",
       "        vertical-align: top;\n",
       "    }\n",
       "\n",
       "    .dataframe thead th {\n",
       "        text-align: right;\n",
       "    }\n",
       "</style>\n",
       "<table border=\"1\" class=\"dataframe\">\n",
       "  <thead>\n",
       "    <tr style=\"text-align: right;\">\n",
       "      <th></th>\n",
       "      <th>Number of First-Pass</th>\n",
       "      <th>Number of First-Pass Fixations</th>\n",
       "      <th>Duration of First-Pass Fixations</th>\n",
       "      <th>Number of Second-Pass</th>\n",
       "      <th>Number of Second-Pass Fixations</th>\n",
       "      <th>Duration of Second-Pass Fixations</th>\n",
       "    </tr>\n",
       "  </thead>\n",
       "  <tbody>\n",
       "    <tr>\n",
       "      <th>Mean</th>\n",
       "      <td>53.541667</td>\n",
       "      <td>304.625000</td>\n",
       "      <td>72870.291667</td>\n",
       "      <td>45.041667</td>\n",
       "      <td>252.500000</td>\n",
       "      <td>59717.916667</td>\n",
       "    </tr>\n",
       "    <tr>\n",
       "      <th>Median</th>\n",
       "      <td>49.500000</td>\n",
       "      <td>271.000000</td>\n",
       "      <td>66746.500000</td>\n",
       "      <td>37.500000</td>\n",
       "      <td>195.000000</td>\n",
       "      <td>44255.000000</td>\n",
       "    </tr>\n",
       "    <tr>\n",
       "      <th>Max</th>\n",
       "      <td>97.000000</td>\n",
       "      <td>513.000000</td>\n",
       "      <td>118342.000000</td>\n",
       "      <td>153.000000</td>\n",
       "      <td>848.000000</td>\n",
       "      <td>201550.000000</td>\n",
       "    </tr>\n",
       "    <tr>\n",
       "      <th>Min</th>\n",
       "      <td>22.000000</td>\n",
       "      <td>83.000000</td>\n",
       "      <td>21288.000000</td>\n",
       "      <td>4.000000</td>\n",
       "      <td>17.000000</td>\n",
       "      <td>5122.000000</td>\n",
       "    </tr>\n",
       "    <tr>\n",
       "      <th>Skew</th>\n",
       "      <td>0.490020</td>\n",
       "      <td>0.050871</td>\n",
       "      <td>0.095073</td>\n",
       "      <td>1.192278</td>\n",
       "      <td>1.223161</td>\n",
       "      <td>1.153473</td>\n",
       "    </tr>\n",
       "    <tr>\n",
       "      <th>Kurtosis</th>\n",
       "      <td>0.438102</td>\n",
       "      <td>-0.839775</td>\n",
       "      <td>-0.660849</td>\n",
       "      <td>0.793459</td>\n",
       "      <td>0.834343</td>\n",
       "      <td>0.520170</td>\n",
       "    </tr>\n",
       "  </tbody>\n",
       "</table>\n",
       "</div>"
      ],
      "text/plain": [
       "          Number of First-Pass  Number of First-Pass Fixations  \\\n",
       "Mean                 53.541667                      304.625000   \n",
       "Median               49.500000                      271.000000   \n",
       "Max                  97.000000                      513.000000   \n",
       "Min                  22.000000                       83.000000   \n",
       "Skew                  0.490020                        0.050871   \n",
       "Kurtosis              0.438102                       -0.839775   \n",
       "\n",
       "          Duration of First-Pass Fixations  Number of Second-Pass  \\\n",
       "Mean                          72870.291667              45.041667   \n",
       "Median                        66746.500000              37.500000   \n",
       "Max                          118342.000000             153.000000   \n",
       "Min                           21288.000000               4.000000   \n",
       "Skew                              0.095073               1.192278   \n",
       "Kurtosis                         -0.660849               0.793459   \n",
       "\n",
       "          Number of Second-Pass Fixations  Duration of Second-Pass Fixations  \n",
       "Mean                           252.500000                       59717.916667  \n",
       "Median                         195.000000                       44255.000000  \n",
       "Max                            848.000000                      201550.000000  \n",
       "Min                             17.000000                        5122.000000  \n",
       "Skew                             1.223161                           1.153473  \n",
       "Kurtosis                         0.834343                           0.520170  "
      ]
     },
     "metadata": {},
     "output_type": "display_data"
    }
   ],
   "source": [
    "CBT_FP = CBT_LSW_seq_FP[CBT_LSW_seq_FP[\"Participant\"].str.contains(\"CBT_\")]\n",
    "CBT_SC = CBT_LSW_seq_SP[CBT_LSW_seq_SP[\"Participant\"].str.contains(\"CBT_\")]\n",
    "\n",
    "display(descriptiveStatistics(getMeasurements(CBT_FP, CBT_SC)))\n",
    "\n",
    "LSW_FP = CBT_LSW_seq_FP[CBT_LSW_seq_FP[\"Participant\"].str.contains(\"LSW_\")]\n",
    "LSW_SC = CBT_LSW_seq_SP[CBT_LSW_seq_SP[\"Participant\"].str.contains(\"LSW_\")]\n",
    "\n",
    "display(descriptiveStatistics(getMeasurements(LSW_FP, LSW_SC)))\n",
    "\n",
    "GMF_FP = GMF_CB_seq_FP[GMF_CB_seq_FP[\"Participant\"].str.contains(\"GMF_\")]\n",
    "GMF_SC = GMF_CB_seq_SP[GMF_CB_seq_SP[\"Participant\"].str.contains(\"GMF_\")]\n",
    "\n",
    "display(descriptiveStatistics(getMeasurements(GMF_FP, GMF_SC)))\n",
    "\n",
    "CB_FP = GMF_CB_seq_FP[GMF_CB_seq_FP[\"Participant\"].str.contains(\"CB_\")]\n",
    "CB_SC = GMF_CB_seq_SP[GMF_CB_seq_SP[\"Participant\"].str.contains(\"CB_\")]\n",
    "\n",
    "display(descriptiveStatistics(getMeasurements(CB_FP, CB_SC)))"
   ]
  },
  {
   "cell_type": "code",
   "execution_count": null,
   "id": "c8229722",
   "metadata": {},
   "outputs": [],
   "source": [
    "P1 = data_raw[(data_raw[\"File\"] == \"P1_CB\") & (data_raw[\"TRIAL_INDEX\"] == 1)]\n",
    "P1 = P1.loc[:, [\"CURRENT_FIX_X\", \"CURRENT_FIX_Y\", \"CURRENT_FIX_START\", \"CURRENT_FIX_END\"]]\n",
    "seq = eyekit.FixationSequence(P1.values)\n",
    "txt = eyekit.TextBlock(\".\", position=(100, 500), font_face='Calibre', font_size=14, anchor=\"center\")\n",
    "\n",
    "# text_file = open(\"text.txt\", 'r')\n",
    "# pg = [line.replace('\\n', '') for line in text_file.readlines()]\n",
    "# txt = eyekit.TextBlock(pg, position=(100, 500), font_face='Calibre', font_size=14, anchor=\"center\")\n",
    "\n",
    "# seq.snap_to_lines(txt, method=\"segment\")"
   ]
  },
  {
   "cell_type": "code",
   "execution_count": null,
   "id": "5e77b93f",
   "metadata": {},
   "outputs": [],
   "source": [
    "img = eyekit.vis.Image(1920, 1080)\n",
    "# img.draw_text_block(txt)\n",
    "\n",
    "\n",
    "img.draw_fixation_sequence(seq)\n",
    "img.save('raw.svg')"
   ]
  },
  {
   "cell_type": "code",
   "execution_count": null,
   "id": "f94f8a1d",
   "metadata": {},
   "outputs": [],
   "source": [
    "# img = eyekit.vis.Image(1920, 1080)\n",
    "# img.draw_text_block(txt)\n",
    "# img.draw_fixation_sequence(seq)\n",
    "# img.save('aglin.svg')"
   ]
  },
  {
   "cell_type": "code",
   "execution_count": null,
   "id": "bf8d38bb-cbd3-42f1-be1b-517818e14b88",
   "metadata": {},
   "outputs": [],
   "source": [
    "# seq.to_excel(\"sequences.xlsx\")"
   ]
  },
  {
   "cell_type": "code",
   "execution_count": null,
   "id": "8b5c8bb7-40f6-4ae8-87bc-1cc939c9c920",
   "metadata": {},
   "outputs": [],
   "source": [
    "# FOVEA = 75.59 #2cm\n",
    "# read = pd.DataFrame(column=[\"X_start\", \"Line_start\"])"
   ]
  },
  {
   "cell_type": "code",
   "execution_count": null,
   "id": "1a8c8b04",
   "metadata": {},
   "outputs": [],
   "source": []
  }
 ],
 "metadata": {
  "kernelspec": {
   "display_name": "Python 3 (ipykernel)",
   "language": "python",
   "name": "python3"
  },
  "language_info": {
   "codemirror_mode": {
    "name": "ipython",
    "version": 3
   },
   "file_extension": ".py",
   "mimetype": "text/x-python",
   "name": "python",
   "nbconvert_exporter": "python",
   "pygments_lexer": "ipython3",
   "version": "3.11.3"
  }
 },
 "nbformat": 4,
 "nbformat_minor": 5
}
